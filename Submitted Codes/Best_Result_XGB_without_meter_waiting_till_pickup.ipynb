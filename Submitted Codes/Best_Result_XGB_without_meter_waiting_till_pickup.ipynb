{
 "cells": [
  {
   "cell_type": "code",
   "execution_count": 1,
   "metadata": {
    "_cell_guid": "b1076dfc-b9ad-4769-8c92-a6c4dae69d19",
    "_uuid": "8f2839f25d086af736a60e9eeb907d3b93b6e0e5"
   },
   "outputs": [
    {
     "name": "stdout",
     "output_type": "stream",
     "text": [
      "/kaggle/input/fare-dataset/test.csv\n",
      "/kaggle/input/fare-dataset/train.csv\n"
     ]
    }
   ],
   "source": [
    "# This Python 3 environment comes with many helpful analytics libraries installed\n",
    "# It is defined by the kaggle/python Docker image: https://github.com/kaggle/docker-python\n",
    "# For example, here's several helpful packages to load\n",
    "\n",
    "import numpy as np # linear algebra\n",
    "import pandas as pd # data processing, CSV file I/O (e.g. pd.read_csv)\n",
    "\n",
    "from sklearn.ensemble import RandomForestClassifier, AdaBoostClassifier, GradientBoostingClassifier, ExtraTreesClassifier, VotingClassifier, BaggingClassifier\n",
    "from sklearn.discriminant_analysis import LinearDiscriminantAnalysis\n",
    "from sklearn.linear_model import LogisticRegression, RidgeClassifier, SGDClassifier\n",
    "from sklearn.neighbors import KNeighborsClassifier, RadiusNeighborsClassifier\n",
    "from sklearn.tree import DecisionTreeClassifier\n",
    "from sklearn.neural_network import MLPClassifier\n",
    "from sklearn.svm import SVC\n",
    "from sklearn.model_selection import GridSearchCV, cross_val_score, cross_val_predict, StratifiedKFold, learning_curve, KFold, train_test_split\n",
    "from sklearn import naive_bayes\n",
    "from sklearn.preprocessing import LabelEncoder,StandardScaler, MinMaxScaler\n",
    "from sklearn.utils import resample\n",
    "from sklearn.metrics import f1_score\n",
    "from imblearn.over_sampling import SMOTE\n",
    "from sklearn.impute import SimpleImputer\n",
    "from sklearn.compose import ColumnTransformer\n",
    "from sklearn.pipeline import Pipeline\n",
    "from sklearn.decomposition import PCA\n",
    "\n",
    "from xgboost import XGBClassifier\n",
    "import seaborn as sns\n",
    "from imblearn.pipeline import Pipeline, make_pipeline\n",
    "\n",
    "\n",
    "from collections import Counter\n",
    "%matplotlib inline\n",
    "import matplotlib.pyplot as plt\n",
    "import seaborn as sns\n",
    "sns.set(style='white', context='notebook', palette='deep')\n",
    "# Input data files are available in the read-only \"../input/\" directory\n",
    "# For example, running this (by clicking run or pressing Shift+Enter) will list all files under the input directory\n",
    "\n",
    "\n",
    "import os\n",
    "for dirname, _, filenames in os.walk('/kaggle/input'):\n",
    "    for filename in filenames:\n",
    "        print(os.path.join(dirname, filename))\n",
    "\n",
    "# You can write up to 5GB to the current directory (/kaggle/working/) that gets preserved as output when you create a version using \"Save & Run All\" \n",
    "# You can also write temporary files to /kaggle/temp/, but they won't be saved outside of the current session\n",
    "\n",
    "RANDOM_SEED = 6    # Set a random seed for reproducibility!"
   ]
  },
  {
   "cell_type": "code",
   "execution_count": 2,
   "metadata": {
    "_cell_guid": "79c7e3d0-c299-4dcb-8224-4455121ee9b0",
    "_uuid": "d629ff2d2480ee46fbb7e2d37f6b5fab8052498a"
   },
   "outputs": [],
   "source": [
    "train_df = pd.read_csv(\"/kaggle/input/fare-dataset/train.csv\", index_col=\"tripid\")\n",
    "test_df = pd.read_csv(\"/kaggle/input/fare-dataset/test.csv\", index_col=\"tripid\")"
   ]
  },
  {
   "cell_type": "code",
   "execution_count": 3,
   "metadata": {},
   "outputs": [
    {
     "data": {
      "text/plain": [
       "correct      15495\n",
       "incorrect     1681\n",
       "Name: label, dtype: int64"
      ]
     },
     "execution_count": 3,
     "metadata": {},
     "output_type": "execute_result"
    }
   ],
   "source": [
    "train_df['label'].value_counts()"
   ]
  },
  {
   "cell_type": "code",
   "execution_count": 4,
   "metadata": {},
   "outputs": [],
   "source": [
    "train_df[\"label\"] = train_df[\"label\"].map({\"incorrect\": 0, \"correct\":1})"
   ]
  },
  {
   "cell_type": "code",
   "execution_count": 5,
   "metadata": {},
   "outputs": [
    {
     "name": "stdout",
     "output_type": "stream",
     "text": [
      "<class 'pandas.core.frame.DataFrame'>\n",
      "Int64Index: 17176 entries, 189123628 to 213817296\n",
      "Data columns (total 17 columns):\n",
      " #   Column                     Non-Null Count  Dtype         \n",
      "---  ------                     --------------  -----         \n",
      " 0   additional_fare            16974 non-null  float64       \n",
      " 1   duration                   17176 non-null  float64       \n",
      " 2   meter_waiting              16974 non-null  float64       \n",
      " 3   meter_waiting_fare         16974 non-null  float64       \n",
      " 4   meter_waiting_till_pickup  16974 non-null  float64       \n",
      " 5   pickup_time                17176 non-null  object        \n",
      " 6   drop_time                  17176 non-null  object        \n",
      " 7   pick_lat                   17176 non-null  float64       \n",
      " 8   pick_lon                   17176 non-null  float64       \n",
      " 9   drop_lat                   17176 non-null  float64       \n",
      " 10  drop_lon                   17176 non-null  float64       \n",
      " 11  fare                       17039 non-null  float64       \n",
      " 12  label                      17176 non-null  int64         \n",
      " 13  pickup                     17176 non-null  datetime64[ns]\n",
      " 14  drop                       17176 non-null  datetime64[ns]\n",
      " 15  difference                 17176 non-null  float64       \n",
      " 16  travel_time                16974 non-null  float64       \n",
      "dtypes: datetime64[ns](2), float64(12), int64(1), object(2)\n",
      "memory usage: 2.4+ MB\n"
     ]
    },
    {
     "data": {
      "text/html": [
       "<div>\n",
       "<style scoped>\n",
       "    .dataframe tbody tr th:only-of-type {\n",
       "        vertical-align: middle;\n",
       "    }\n",
       "\n",
       "    .dataframe tbody tr th {\n",
       "        vertical-align: top;\n",
       "    }\n",
       "\n",
       "    .dataframe thead th {\n",
       "        text-align: right;\n",
       "    }\n",
       "</style>\n",
       "<table border=\"1\" class=\"dataframe\">\n",
       "  <thead>\n",
       "    <tr style=\"text-align: right;\">\n",
       "      <th></th>\n",
       "      <th>additional_fare</th>\n",
       "      <th>duration</th>\n",
       "      <th>meter_waiting</th>\n",
       "      <th>meter_waiting_fare</th>\n",
       "      <th>meter_waiting_till_pickup</th>\n",
       "      <th>pickup_time</th>\n",
       "      <th>drop_time</th>\n",
       "      <th>pick_lat</th>\n",
       "      <th>pick_lon</th>\n",
       "      <th>drop_lat</th>\n",
       "      <th>drop_lon</th>\n",
       "      <th>fare</th>\n",
       "      <th>label</th>\n",
       "      <th>pickup</th>\n",
       "      <th>drop</th>\n",
       "      <th>difference</th>\n",
       "      <th>travel_time</th>\n",
       "    </tr>\n",
       "    <tr>\n",
       "      <th>tripid</th>\n",
       "      <th></th>\n",
       "      <th></th>\n",
       "      <th></th>\n",
       "      <th></th>\n",
       "      <th></th>\n",
       "      <th></th>\n",
       "      <th></th>\n",
       "      <th></th>\n",
       "      <th></th>\n",
       "      <th></th>\n",
       "      <th></th>\n",
       "      <th></th>\n",
       "      <th></th>\n",
       "      <th></th>\n",
       "      <th></th>\n",
       "      <th></th>\n",
       "      <th></th>\n",
       "    </tr>\n",
       "  </thead>\n",
       "  <tbody>\n",
       "    <tr>\n",
       "      <th>189123628</th>\n",
       "      <td>10.5</td>\n",
       "      <td>834.0</td>\n",
       "      <td>56.0</td>\n",
       "      <td>0.0000</td>\n",
       "      <td>64.0</td>\n",
       "      <td>11/1/2019 0:20</td>\n",
       "      <td>11/1/2019 0:34</td>\n",
       "      <td>6.86252</td>\n",
       "      <td>79.8993</td>\n",
       "      <td>6.90330</td>\n",
       "      <td>79.8783</td>\n",
       "      <td>270.32</td>\n",
       "      <td>1</td>\n",
       "      <td>2019-11-01 00:20:00</td>\n",
       "      <td>2019-11-01 00:34:00</td>\n",
       "      <td>840.0</td>\n",
       "      <td>778.0</td>\n",
       "    </tr>\n",
       "    <tr>\n",
       "      <th>189125358</th>\n",
       "      <td>10.5</td>\n",
       "      <td>791.0</td>\n",
       "      <td>47.0</td>\n",
       "      <td>0.0000</td>\n",
       "      <td>134.0</td>\n",
       "      <td>11/1/2019 0:56</td>\n",
       "      <td>11/1/2019 1:09</td>\n",
       "      <td>6.88589</td>\n",
       "      <td>79.8984</td>\n",
       "      <td>6.91373</td>\n",
       "      <td>79.8923</td>\n",
       "      <td>197.85</td>\n",
       "      <td>1</td>\n",
       "      <td>2019-11-01 00:56:00</td>\n",
       "      <td>2019-11-01 01:09:00</td>\n",
       "      <td>780.0</td>\n",
       "      <td>744.0</td>\n",
       "    </tr>\n",
       "    <tr>\n",
       "      <th>189125719</th>\n",
       "      <td>10.5</td>\n",
       "      <td>1087.0</td>\n",
       "      <td>80.0</td>\n",
       "      <td>0.0000</td>\n",
       "      <td>61.0</td>\n",
       "      <td>11/1/2019 1:08</td>\n",
       "      <td>11/1/2019 1:26</td>\n",
       "      <td>6.90839</td>\n",
       "      <td>79.8651</td>\n",
       "      <td>6.93669</td>\n",
       "      <td>79.9146</td>\n",
       "      <td>301.64</td>\n",
       "      <td>1</td>\n",
       "      <td>2019-11-01 01:08:00</td>\n",
       "      <td>2019-11-01 01:26:00</td>\n",
       "      <td>1080.0</td>\n",
       "      <td>1007.0</td>\n",
       "    </tr>\n",
       "    <tr>\n",
       "      <th>189127273</th>\n",
       "      <td>10.5</td>\n",
       "      <td>598.0</td>\n",
       "      <td>271.0</td>\n",
       "      <td>15.6638</td>\n",
       "      <td>68.0</td>\n",
       "      <td>11/1/2019 2:27</td>\n",
       "      <td>11/1/2019 2:37</td>\n",
       "      <td>6.92570</td>\n",
       "      <td>79.8895</td>\n",
       "      <td>6.92748</td>\n",
       "      <td>79.8971</td>\n",
       "      <td>82.30</td>\n",
       "      <td>1</td>\n",
       "      <td>2019-11-01 02:27:00</td>\n",
       "      <td>2019-11-01 02:37:00</td>\n",
       "      <td>600.0</td>\n",
       "      <td>327.0</td>\n",
       "    </tr>\n",
       "    <tr>\n",
       "      <th>189128020</th>\n",
       "      <td>NaN</td>\n",
       "      <td>1020.0</td>\n",
       "      <td>NaN</td>\n",
       "      <td>NaN</td>\n",
       "      <td>NaN</td>\n",
       "      <td>11/1/2019 3:34</td>\n",
       "      <td>11/1/2019 3:51</td>\n",
       "      <td>6.87441</td>\n",
       "      <td>79.8615</td>\n",
       "      <td>6.84478</td>\n",
       "      <td>79.9290</td>\n",
       "      <td>358.39</td>\n",
       "      <td>1</td>\n",
       "      <td>2019-11-01 03:34:00</td>\n",
       "      <td>2019-11-01 03:51:00</td>\n",
       "      <td>1020.0</td>\n",
       "      <td>NaN</td>\n",
       "    </tr>\n",
       "  </tbody>\n",
       "</table>\n",
       "</div>"
      ],
      "text/plain": [
       "           additional_fare  duration  meter_waiting  meter_waiting_fare  \\\n",
       "tripid                                                                    \n",
       "189123628             10.5     834.0           56.0              0.0000   \n",
       "189125358             10.5     791.0           47.0              0.0000   \n",
       "189125719             10.5    1087.0           80.0              0.0000   \n",
       "189127273             10.5     598.0          271.0             15.6638   \n",
       "189128020              NaN    1020.0            NaN                 NaN   \n",
       "\n",
       "           meter_waiting_till_pickup     pickup_time       drop_time  \\\n",
       "tripid                                                                 \n",
       "189123628                       64.0  11/1/2019 0:20  11/1/2019 0:34   \n",
       "189125358                      134.0  11/1/2019 0:56  11/1/2019 1:09   \n",
       "189125719                       61.0  11/1/2019 1:08  11/1/2019 1:26   \n",
       "189127273                       68.0  11/1/2019 2:27  11/1/2019 2:37   \n",
       "189128020                        NaN  11/1/2019 3:34  11/1/2019 3:51   \n",
       "\n",
       "           pick_lat  pick_lon  drop_lat  drop_lon    fare  label  \\\n",
       "tripid                                                             \n",
       "189123628   6.86252   79.8993   6.90330   79.8783  270.32      1   \n",
       "189125358   6.88589   79.8984   6.91373   79.8923  197.85      1   \n",
       "189125719   6.90839   79.8651   6.93669   79.9146  301.64      1   \n",
       "189127273   6.92570   79.8895   6.92748   79.8971   82.30      1   \n",
       "189128020   6.87441   79.8615   6.84478   79.9290  358.39      1   \n",
       "\n",
       "                       pickup                drop  difference  travel_time  \n",
       "tripid                                                                      \n",
       "189123628 2019-11-01 00:20:00 2019-11-01 00:34:00       840.0        778.0  \n",
       "189125358 2019-11-01 00:56:00 2019-11-01 01:09:00       780.0        744.0  \n",
       "189125719 2019-11-01 01:08:00 2019-11-01 01:26:00      1080.0       1007.0  \n",
       "189127273 2019-11-01 02:27:00 2019-11-01 02:37:00       600.0        327.0  \n",
       "189128020 2019-11-01 03:34:00 2019-11-01 03:51:00      1020.0          NaN  "
      ]
     },
     "execution_count": 5,
     "metadata": {},
     "output_type": "execute_result"
    }
   ],
   "source": [
    "train_df[\"pickup\"] = pd.to_datetime(train_df[\"pickup_time\"])\n",
    "train_df[\"drop\"] = pd.to_datetime(train_df[\"drop_time\"])\n",
    "train_df ['difference'] = train_df[\"drop\"] - train_df[\"pickup\"]\n",
    "train_df ['difference'] = train_df ['difference']/np.timedelta64(1,'s')\n",
    "train_df['duration'] = train_df['duration'].fillna(train_df ['difference'])\n",
    "\n",
    "#train_df['pickup_hour'] = train_df[\"pickup\"].dt.hour\n",
    "\n",
    "train_df['travel_time'] = train_df['duration'] - train_df['meter_waiting']\n",
    "#train_df['travel_fare'] = train_df['fare'] - train_df['meter_waiting_fare'] - train_df['additional_fare'] \n",
    "\n",
    "#train_df['duration'] = train_df ['difference']\n",
    "train_df['duration'] = np.where(abs(train_df['duration']-train_df['difference']) > 120, train_df['difference'], train_df['duration'])\n",
    "train_df.info()\n",
    "train_df.head()\n",
    "\n",
    "# new_df = train_df[\"pickup_time\"]-train_df[\"drop_time\"]\n",
    "# train_df.info()\n",
    "# train_df.head()\n",
    "train_df.isnull().sum()\n",
    "train_df.head()"
   ]
  },
  {
   "cell_type": "code",
   "execution_count": 6,
   "metadata": {},
   "outputs": [],
   "source": [
    "#train_df[\"pickup_hour\"] = train_df[\"pickup_hour\"].map({20:1,21:1,22: 1,23:1,0:1,1:1,2:1,3:1,4:1,5:1})"
   ]
  },
  {
   "cell_type": "code",
   "execution_count": 7,
   "metadata": {},
   "outputs": [],
   "source": [
    "# train_df['pickup_hour'] = np.where(abs(train_df['pickup_hour']) <6, 1, train_df['pickup_hour'])\n",
    "# train_df['pickup_hour'] = np.where(abs(train_df['pickup_hour']) >19, 1, train_df['pickup_hour'])\n",
    "# train_df['pickup_hour'] = np.where(abs(train_df['pickup_hour']) >1, 1, train_df['pickup_hour'])"
   ]
  },
  {
   "cell_type": "code",
   "execution_count": 8,
   "metadata": {},
   "outputs": [
    {
     "data": {
      "text/html": [
       "<div>\n",
       "<style scoped>\n",
       "    .dataframe tbody tr th:only-of-type {\n",
       "        vertical-align: middle;\n",
       "    }\n",
       "\n",
       "    .dataframe tbody tr th {\n",
       "        vertical-align: top;\n",
       "    }\n",
       "\n",
       "    .dataframe thead th {\n",
       "        text-align: right;\n",
       "    }\n",
       "</style>\n",
       "<table border=\"1\" class=\"dataframe\">\n",
       "  <thead>\n",
       "    <tr style=\"text-align: right;\">\n",
       "      <th></th>\n",
       "      <th>additional_fare</th>\n",
       "      <th>duration</th>\n",
       "      <th>meter_waiting</th>\n",
       "      <th>meter_waiting_fare</th>\n",
       "      <th>meter_waiting_till_pickup</th>\n",
       "      <th>pickup_time</th>\n",
       "      <th>drop_time</th>\n",
       "      <th>pick_lat</th>\n",
       "      <th>pick_lon</th>\n",
       "      <th>drop_lat</th>\n",
       "      <th>drop_lon</th>\n",
       "      <th>fare</th>\n",
       "      <th>label</th>\n",
       "      <th>pickup</th>\n",
       "      <th>drop</th>\n",
       "      <th>difference</th>\n",
       "      <th>travel_time</th>\n",
       "    </tr>\n",
       "    <tr>\n",
       "      <th>tripid</th>\n",
       "      <th></th>\n",
       "      <th></th>\n",
       "      <th></th>\n",
       "      <th></th>\n",
       "      <th></th>\n",
       "      <th></th>\n",
       "      <th></th>\n",
       "      <th></th>\n",
       "      <th></th>\n",
       "      <th></th>\n",
       "      <th></th>\n",
       "      <th></th>\n",
       "      <th></th>\n",
       "      <th></th>\n",
       "      <th></th>\n",
       "      <th></th>\n",
       "      <th></th>\n",
       "    </tr>\n",
       "  </thead>\n",
       "  <tbody>\n",
       "    <tr>\n",
       "      <th>190793611</th>\n",
       "      <td>NaN</td>\n",
       "      <td>0.0</td>\n",
       "      <td>NaN</td>\n",
       "      <td>NaN</td>\n",
       "      <td>NaN</td>\n",
       "      <td>11/8/2019 17:55</td>\n",
       "      <td>11/8/2019 17:55</td>\n",
       "      <td>7.07931</td>\n",
       "      <td>79.8921</td>\n",
       "      <td>7.07950</td>\n",
       "      <td>79.8931</td>\n",
       "      <td>NaN</td>\n",
       "      <td>0</td>\n",
       "      <td>2019-11-08 17:55:00</td>\n",
       "      <td>2019-11-08 17:55:00</td>\n",
       "      <td>0.0</td>\n",
       "      <td>NaN</td>\n",
       "    </tr>\n",
       "    <tr>\n",
       "      <th>200954474</th>\n",
       "      <td>NaN</td>\n",
       "      <td>0.0</td>\n",
       "      <td>NaN</td>\n",
       "      <td>NaN</td>\n",
       "      <td>NaN</td>\n",
       "      <td>12/15/2019 16:20</td>\n",
       "      <td>12/15/2019 16:20</td>\n",
       "      <td>6.89952</td>\n",
       "      <td>79.8643</td>\n",
       "      <td>6.77765</td>\n",
       "      <td>79.8805</td>\n",
       "      <td>NaN</td>\n",
       "      <td>0</td>\n",
       "      <td>2019-12-15 16:20:00</td>\n",
       "      <td>2019-12-15 16:20:00</td>\n",
       "      <td>0.0</td>\n",
       "      <td>NaN</td>\n",
       "    </tr>\n",
       "    <tr>\n",
       "      <th>204722452</th>\n",
       "      <td>NaN</td>\n",
       "      <td>0.0</td>\n",
       "      <td>NaN</td>\n",
       "      <td>NaN</td>\n",
       "      <td>NaN</td>\n",
       "      <td>12/28/2019 18:01</td>\n",
       "      <td>12/28/2019 18:01</td>\n",
       "      <td>7.21273</td>\n",
       "      <td>79.8430</td>\n",
       "      <td>7.21287</td>\n",
       "      <td>79.8430</td>\n",
       "      <td>NaN</td>\n",
       "      <td>0</td>\n",
       "      <td>2019-12-28 18:01:00</td>\n",
       "      <td>2019-12-28 18:01:00</td>\n",
       "      <td>0.0</td>\n",
       "      <td>NaN</td>\n",
       "    </tr>\n",
       "    <tr>\n",
       "      <th>211181044</th>\n",
       "      <td>NaN</td>\n",
       "      <td>0.0</td>\n",
       "      <td>NaN</td>\n",
       "      <td>NaN</td>\n",
       "      <td>NaN</td>\n",
       "      <td>1/21/2020 13:14</td>\n",
       "      <td>1/21/2020 13:14</td>\n",
       "      <td>6.89270</td>\n",
       "      <td>79.8755</td>\n",
       "      <td>6.91906</td>\n",
       "      <td>79.8573</td>\n",
       "      <td>NaN</td>\n",
       "      <td>0</td>\n",
       "      <td>2020-01-21 13:14:00</td>\n",
       "      <td>2020-01-21 13:14:00</td>\n",
       "      <td>0.0</td>\n",
       "      <td>NaN</td>\n",
       "    </tr>\n",
       "    <tr>\n",
       "      <th>211315250</th>\n",
       "      <td>NaN</td>\n",
       "      <td>0.0</td>\n",
       "      <td>NaN</td>\n",
       "      <td>NaN</td>\n",
       "      <td>NaN</td>\n",
       "      <td>1/21/2020 21:18</td>\n",
       "      <td>1/21/2020 21:18</td>\n",
       "      <td>7.09216</td>\n",
       "      <td>79.9933</td>\n",
       "      <td>7.09167</td>\n",
       "      <td>79.9941</td>\n",
       "      <td>NaN</td>\n",
       "      <td>0</td>\n",
       "      <td>2020-01-21 21:18:00</td>\n",
       "      <td>2020-01-21 21:18:00</td>\n",
       "      <td>0.0</td>\n",
       "      <td>NaN</td>\n",
       "    </tr>\n",
       "    <tr>\n",
       "      <th>211886110</th>\n",
       "      <td>NaN</td>\n",
       "      <td>0.0</td>\n",
       "      <td>NaN</td>\n",
       "      <td>NaN</td>\n",
       "      <td>NaN</td>\n",
       "      <td>1/24/2020 13:52</td>\n",
       "      <td>1/24/2020 13:52</td>\n",
       "      <td>6.94709</td>\n",
       "      <td>79.8770</td>\n",
       "      <td>6.94905</td>\n",
       "      <td>79.8732</td>\n",
       "      <td>NaN</td>\n",
       "      <td>0</td>\n",
       "      <td>2020-01-24 13:52:00</td>\n",
       "      <td>2020-01-24 13:52:00</td>\n",
       "      <td>0.0</td>\n",
       "      <td>NaN</td>\n",
       "    </tr>\n",
       "  </tbody>\n",
       "</table>\n",
       "</div>"
      ],
      "text/plain": [
       "           additional_fare  duration  meter_waiting  meter_waiting_fare  \\\n",
       "tripid                                                                    \n",
       "190793611              NaN       0.0            NaN                 NaN   \n",
       "200954474              NaN       0.0            NaN                 NaN   \n",
       "204722452              NaN       0.0            NaN                 NaN   \n",
       "211181044              NaN       0.0            NaN                 NaN   \n",
       "211315250              NaN       0.0            NaN                 NaN   \n",
       "211886110              NaN       0.0            NaN                 NaN   \n",
       "\n",
       "           meter_waiting_till_pickup       pickup_time         drop_time  \\\n",
       "tripid                                                                     \n",
       "190793611                        NaN   11/8/2019 17:55   11/8/2019 17:55   \n",
       "200954474                        NaN  12/15/2019 16:20  12/15/2019 16:20   \n",
       "204722452                        NaN  12/28/2019 18:01  12/28/2019 18:01   \n",
       "211181044                        NaN   1/21/2020 13:14   1/21/2020 13:14   \n",
       "211315250                        NaN   1/21/2020 21:18   1/21/2020 21:18   \n",
       "211886110                        NaN   1/24/2020 13:52   1/24/2020 13:52   \n",
       "\n",
       "           pick_lat  pick_lon  drop_lat  drop_lon  fare  label  \\\n",
       "tripid                                                           \n",
       "190793611   7.07931   79.8921   7.07950   79.8931   NaN      0   \n",
       "200954474   6.89952   79.8643   6.77765   79.8805   NaN      0   \n",
       "204722452   7.21273   79.8430   7.21287   79.8430   NaN      0   \n",
       "211181044   6.89270   79.8755   6.91906   79.8573   NaN      0   \n",
       "211315250   7.09216   79.9933   7.09167   79.9941   NaN      0   \n",
       "211886110   6.94709   79.8770   6.94905   79.8732   NaN      0   \n",
       "\n",
       "                       pickup                drop  difference  travel_time  \n",
       "tripid                                                                      \n",
       "190793611 2019-11-08 17:55:00 2019-11-08 17:55:00         0.0          NaN  \n",
       "200954474 2019-12-15 16:20:00 2019-12-15 16:20:00         0.0          NaN  \n",
       "204722452 2019-12-28 18:01:00 2019-12-28 18:01:00         0.0          NaN  \n",
       "211181044 2020-01-21 13:14:00 2020-01-21 13:14:00         0.0          NaN  \n",
       "211315250 2020-01-21 21:18:00 2020-01-21 21:18:00         0.0          NaN  \n",
       "211886110 2020-01-24 13:52:00 2020-01-24 13:52:00         0.0          NaN  "
      ]
     },
     "execution_count": 8,
     "metadata": {},
     "output_type": "execute_result"
    }
   ],
   "source": [
    "train_df[train_df.duration <1]"
   ]
  },
  {
   "cell_type": "code",
   "execution_count": 9,
   "metadata": {},
   "outputs": [],
   "source": [
    "train_df = train_df[train_df.travel_time>=0]"
   ]
  },
  {
   "cell_type": "code",
   "execution_count": 10,
   "metadata": {},
   "outputs": [
    {
     "data": {
      "text/html": [
       "<div>\n",
       "<style scoped>\n",
       "    .dataframe tbody tr th:only-of-type {\n",
       "        vertical-align: middle;\n",
       "    }\n",
       "\n",
       "    .dataframe tbody tr th {\n",
       "        vertical-align: top;\n",
       "    }\n",
       "\n",
       "    .dataframe thead th {\n",
       "        text-align: right;\n",
       "    }\n",
       "</style>\n",
       "<table border=\"1\" class=\"dataframe\">\n",
       "  <thead>\n",
       "    <tr style=\"text-align: right;\">\n",
       "      <th></th>\n",
       "      <th>additional_fare</th>\n",
       "      <th>duration</th>\n",
       "      <th>meter_waiting</th>\n",
       "      <th>meter_waiting_fare</th>\n",
       "      <th>meter_waiting_till_pickup</th>\n",
       "      <th>pickup_time</th>\n",
       "      <th>drop_time</th>\n",
       "      <th>pick_lat</th>\n",
       "      <th>pick_lon</th>\n",
       "      <th>drop_lat</th>\n",
       "      <th>drop_lon</th>\n",
       "      <th>fare</th>\n",
       "      <th>label</th>\n",
       "      <th>pickup</th>\n",
       "      <th>drop</th>\n",
       "      <th>difference</th>\n",
       "      <th>travel_time</th>\n",
       "    </tr>\n",
       "    <tr>\n",
       "      <th>tripid</th>\n",
       "      <th></th>\n",
       "      <th></th>\n",
       "      <th></th>\n",
       "      <th></th>\n",
       "      <th></th>\n",
       "      <th></th>\n",
       "      <th></th>\n",
       "      <th></th>\n",
       "      <th></th>\n",
       "      <th></th>\n",
       "      <th></th>\n",
       "      <th></th>\n",
       "      <th></th>\n",
       "      <th></th>\n",
       "      <th></th>\n",
       "      <th></th>\n",
       "      <th></th>\n",
       "    </tr>\n",
       "  </thead>\n",
       "  <tbody>\n",
       "  </tbody>\n",
       "</table>\n",
       "</div>"
      ],
      "text/plain": [
       "Empty DataFrame\n",
       "Columns: [additional_fare, duration, meter_waiting, meter_waiting_fare, meter_waiting_till_pickup, pickup_time, drop_time, pick_lat, pick_lon, drop_lat, drop_lon, fare, label, pickup, drop, difference, travel_time]\n",
       "Index: []"
      ]
     },
     "execution_count": 10,
     "metadata": {},
     "output_type": "execute_result"
    }
   ],
   "source": [
    "train_df[train_df.duration <1]"
   ]
  },
  {
   "cell_type": "code",
   "execution_count": 11,
   "metadata": {},
   "outputs": [
    {
     "data": {
      "text/html": [
       "<div>\n",
       "<style scoped>\n",
       "    .dataframe tbody tr th:only-of-type {\n",
       "        vertical-align: middle;\n",
       "    }\n",
       "\n",
       "    .dataframe tbody tr th {\n",
       "        vertical-align: top;\n",
       "    }\n",
       "\n",
       "    .dataframe thead th {\n",
       "        text-align: right;\n",
       "    }\n",
       "</style>\n",
       "<table border=\"1\" class=\"dataframe\">\n",
       "  <thead>\n",
       "    <tr style=\"text-align: right;\">\n",
       "      <th></th>\n",
       "      <th>additional_fare</th>\n",
       "      <th>duration</th>\n",
       "      <th>meter_waiting</th>\n",
       "      <th>meter_waiting_fare</th>\n",
       "      <th>meter_waiting_till_pickup</th>\n",
       "      <th>pick_lat</th>\n",
       "      <th>pick_lon</th>\n",
       "      <th>drop_lat</th>\n",
       "      <th>drop_lon</th>\n",
       "      <th>fare</th>\n",
       "      <th>label</th>\n",
       "      <th>difference</th>\n",
       "      <th>travel_time</th>\n",
       "    </tr>\n",
       "  </thead>\n",
       "  <tbody>\n",
       "    <tr>\n",
       "      <th>count</th>\n",
       "      <td>16970.000000</td>\n",
       "      <td>16970.000000</td>\n",
       "      <td>16970.000000</td>\n",
       "      <td>16970.000000</td>\n",
       "      <td>16970.000000</td>\n",
       "      <td>16970.000000</td>\n",
       "      <td>16970.000000</td>\n",
       "      <td>16970.000000</td>\n",
       "      <td>16970.000000</td>\n",
       "      <td>16964.000000</td>\n",
       "      <td>16970.000000</td>\n",
       "      <td>16970.000000</td>\n",
       "      <td>16970.000000</td>\n",
       "    </tr>\n",
       "    <tr>\n",
       "      <th>mean</th>\n",
       "      <td>12.939334</td>\n",
       "      <td>1703.106070</td>\n",
       "      <td>616.664467</td>\n",
       "      <td>31.337867</td>\n",
       "      <td>112.458928</td>\n",
       "      <td>6.965105</td>\n",
       "      <td>79.997968</td>\n",
       "      <td>6.968224</td>\n",
       "      <td>79.997056</td>\n",
       "      <td>311.208377</td>\n",
       "      <td>0.909900</td>\n",
       "      <td>1703.543901</td>\n",
       "      <td>1086.583382</td>\n",
       "    </tr>\n",
       "    <tr>\n",
       "      <th>std</th>\n",
       "      <td>12.624609</td>\n",
       "      <td>8121.044055</td>\n",
       "      <td>7902.147447</td>\n",
       "      <td>455.987275</td>\n",
       "      <td>442.105532</td>\n",
       "      <td>0.210788</td>\n",
       "      <td>0.242811</td>\n",
       "      <td>0.380208</td>\n",
       "      <td>0.360477</td>\n",
       "      <td>575.801005</td>\n",
       "      <td>0.286334</td>\n",
       "      <td>8120.839126</td>\n",
       "      <td>1153.710538</td>\n",
       "    </tr>\n",
       "    <tr>\n",
       "      <th>min</th>\n",
       "      <td>0.000000</td>\n",
       "      <td>22.000000</td>\n",
       "      <td>0.000000</td>\n",
       "      <td>0.000000</td>\n",
       "      <td>0.000000</td>\n",
       "      <td>5.937600</td>\n",
       "      <td>79.819100</td>\n",
       "      <td>5.941860</td>\n",
       "      <td>45.307700</td>\n",
       "      <td>0.000000</td>\n",
       "      <td>0.000000</td>\n",
       "      <td>0.000000</td>\n",
       "      <td>0.000000</td>\n",
       "    </tr>\n",
       "    <tr>\n",
       "      <th>25%</th>\n",
       "      <td>10.500000</td>\n",
       "      <td>548.000000</td>\n",
       "      <td>33.000000</td>\n",
       "      <td>0.000000</td>\n",
       "      <td>26.000000</td>\n",
       "      <td>6.864833</td>\n",
       "      <td>79.870400</td>\n",
       "      <td>6.865583</td>\n",
       "      <td>79.870100</td>\n",
       "      <td>125.522500</td>\n",
       "      <td>1.000000</td>\n",
       "      <td>540.000000</td>\n",
       "      <td>446.000000</td>\n",
       "    </tr>\n",
       "    <tr>\n",
       "      <th>50%</th>\n",
       "      <td>10.500000</td>\n",
       "      <td>1010.000000</td>\n",
       "      <td>123.000000</td>\n",
       "      <td>0.116600</td>\n",
       "      <td>73.000000</td>\n",
       "      <td>6.913995</td>\n",
       "      <td>79.898600</td>\n",
       "      <td>6.915940</td>\n",
       "      <td>79.899000</td>\n",
       "      <td>211.050000</td>\n",
       "      <td>1.000000</td>\n",
       "      <td>1020.000000</td>\n",
       "      <td>811.000000</td>\n",
       "    </tr>\n",
       "    <tr>\n",
       "      <th>75%</th>\n",
       "      <td>10.500000</td>\n",
       "      <td>1802.750000</td>\n",
       "      <td>351.000000</td>\n",
       "      <td>14.339950</td>\n",
       "      <td>144.000000</td>\n",
       "      <td>7.042505</td>\n",
       "      <td>79.956300</td>\n",
       "      <td>7.046368</td>\n",
       "      <td>79.960000</td>\n",
       "      <td>366.050000</td>\n",
       "      <td>1.000000</td>\n",
       "      <td>1800.000000</td>\n",
       "      <td>1402.000000</td>\n",
       "    </tr>\n",
       "    <tr>\n",
       "      <th>max</th>\n",
       "      <td>221.000000</td>\n",
       "      <td>453872.000000</td>\n",
       "      <td>453650.000000</td>\n",
       "      <td>26198.601400</td>\n",
       "      <td>51288.000000</td>\n",
       "      <td>8.051010</td>\n",
       "      <td>81.009600</td>\n",
       "      <td>48.132000</td>\n",
       "      <td>81.009700</td>\n",
       "      <td>26945.990000</td>\n",
       "      <td>1.000000</td>\n",
       "      <td>453840.000000</td>\n",
       "      <td>46609.000000</td>\n",
       "    </tr>\n",
       "  </tbody>\n",
       "</table>\n",
       "</div>"
      ],
      "text/plain": [
       "       additional_fare       duration  meter_waiting  meter_waiting_fare  \\\n",
       "count     16970.000000   16970.000000   16970.000000        16970.000000   \n",
       "mean         12.939334    1703.106070     616.664467           31.337867   \n",
       "std          12.624609    8121.044055    7902.147447          455.987275   \n",
       "min           0.000000      22.000000       0.000000            0.000000   \n",
       "25%          10.500000     548.000000      33.000000            0.000000   \n",
       "50%          10.500000    1010.000000     123.000000            0.116600   \n",
       "75%          10.500000    1802.750000     351.000000           14.339950   \n",
       "max         221.000000  453872.000000  453650.000000        26198.601400   \n",
       "\n",
       "       meter_waiting_till_pickup      pick_lat      pick_lon      drop_lat  \\\n",
       "count               16970.000000  16970.000000  16970.000000  16970.000000   \n",
       "mean                  112.458928      6.965105     79.997968      6.968224   \n",
       "std                   442.105532      0.210788      0.242811      0.380208   \n",
       "min                     0.000000      5.937600     79.819100      5.941860   \n",
       "25%                    26.000000      6.864833     79.870400      6.865583   \n",
       "50%                    73.000000      6.913995     79.898600      6.915940   \n",
       "75%                   144.000000      7.042505     79.956300      7.046368   \n",
       "max                 51288.000000      8.051010     81.009600     48.132000   \n",
       "\n",
       "           drop_lon          fare         label     difference   travel_time  \n",
       "count  16970.000000  16964.000000  16970.000000   16970.000000  16970.000000  \n",
       "mean      79.997056    311.208377      0.909900    1703.543901   1086.583382  \n",
       "std        0.360477    575.801005      0.286334    8120.839126   1153.710538  \n",
       "min       45.307700      0.000000      0.000000       0.000000      0.000000  \n",
       "25%       79.870100    125.522500      1.000000     540.000000    446.000000  \n",
       "50%       79.899000    211.050000      1.000000    1020.000000    811.000000  \n",
       "75%       79.960000    366.050000      1.000000    1800.000000   1402.000000  \n",
       "max       81.009700  26945.990000      1.000000  453840.000000  46609.000000  "
      ]
     },
     "execution_count": 11,
     "metadata": {},
     "output_type": "execute_result"
    }
   ],
   "source": [
    "train_df.describe()"
   ]
  },
  {
   "cell_type": "code",
   "execution_count": 12,
   "metadata": {},
   "outputs": [
    {
     "name": "stdout",
     "output_type": "stream",
     "text": [
      "<class 'pandas.core.frame.DataFrame'>\n",
      "Int64Index: 16970 entries, 189123628 to 213817296\n",
      "Data columns (total 17 columns):\n",
      " #   Column                     Non-Null Count  Dtype         \n",
      "---  ------                     --------------  -----         \n",
      " 0   additional_fare            16970 non-null  float64       \n",
      " 1   duration                   16970 non-null  float64       \n",
      " 2   meter_waiting              16970 non-null  float64       \n",
      " 3   meter_waiting_fare         16970 non-null  float64       \n",
      " 4   meter_waiting_till_pickup  16970 non-null  float64       \n",
      " 5   pickup_time                16970 non-null  object        \n",
      " 6   drop_time                  16970 non-null  object        \n",
      " 7   pick_lat                   16970 non-null  float64       \n",
      " 8   pick_lon                   16970 non-null  float64       \n",
      " 9   drop_lat                   16970 non-null  float64       \n",
      " 10  drop_lon                   16970 non-null  float64       \n",
      " 11  fare                       16964 non-null  float64       \n",
      " 12  label                      16970 non-null  int64         \n",
      " 13  pickup                     16970 non-null  datetime64[ns]\n",
      " 14  drop                       16970 non-null  datetime64[ns]\n",
      " 15  difference                 16970 non-null  float64       \n",
      " 16  travel_time                16970 non-null  float64       \n",
      "dtypes: datetime64[ns](2), float64(12), int64(1), object(2)\n",
      "memory usage: 2.3+ MB\n"
     ]
    }
   ],
   "source": [
    "train_df.info()"
   ]
  },
  {
   "cell_type": "code",
   "execution_count": 13,
   "metadata": {},
   "outputs": [],
   "source": [
    "#train_df[train_df.travel_fare<0]"
   ]
  },
  {
   "cell_type": "code",
   "execution_count": 14,
   "metadata": {},
   "outputs": [],
   "source": [
    "# train_df[train_df.additional_fare==110.5]"
   ]
  },
  {
   "cell_type": "code",
   "execution_count": 15,
   "metadata": {},
   "outputs": [],
   "source": [
    "# train_df[train_df.travel_time<1]"
   ]
  },
  {
   "cell_type": "code",
   "execution_count": 16,
   "metadata": {},
   "outputs": [],
   "source": [
    "# train_df[train_df.travel_time<0]"
   ]
  },
  {
   "cell_type": "code",
   "execution_count": 17,
   "metadata": {},
   "outputs": [],
   "source": [
    "# train_df = train_df[train_df.travel_time>=0]"
   ]
  },
  {
   "cell_type": "code",
   "execution_count": 18,
   "metadata": {},
   "outputs": [],
   "source": [
    "# train_df[train_df.duration <1]"
   ]
  },
  {
   "cell_type": "code",
   "execution_count": 19,
   "metadata": {},
   "outputs": [],
   "source": [
    "# # Outlier detection \n",
    "\n",
    "# def detect_outliers(df,n,features):\n",
    "#     \"\"\"\n",
    "#     Takes a dataframe df of features and returns a list of the indices\n",
    "#     corresponding to the observations containing more than n outliers according\n",
    "#     to the Tukey method.\n",
    "#     \"\"\"\n",
    "#     outlier_indices = []\n",
    "    \n",
    "#     # iterate over features(columns)\n",
    "#     for col in features:\n",
    "#         # 1st quartile (25%)\n",
    "#         Q1 = np.percentile(df[col], 25)\n",
    "#         # 3rd quartile (75%)\n",
    "#         Q3 = np.percentile(df[col],75)\n",
    "#         # Interquartile range (IQR)\n",
    "#         IQR = Q3 - Q1\n",
    "        \n",
    "#         # outlier step\n",
    "#         outlier_step = 1.5 * IQR\n",
    "        \n",
    "#         # Determine a list of indices of outliers for feature col\n",
    "#         outlier_list_col = df[(df[col] < Q1 - outlier_step) | (df[col] > Q3 + outlier_step )].index\n",
    "        \n",
    "#         # append the found outlier indices for col to the list of outlier indices \n",
    "#         outlier_indices.extend(outlier_list_col)\n",
    "        \n",
    "#     # select observations containing more than 2 outliers\n",
    "#     outlier_indices = Counter(outlier_indices)        \n",
    "#     multiple_outliers = list( k for k, v in outlier_indices.items() if v > n )\n",
    "    \n",
    "#     return multiple_outliers   "
   ]
  },
  {
   "cell_type": "code",
   "execution_count": 20,
   "metadata": {},
   "outputs": [],
   "source": [
    "# Outliers_to_drop = detect_outliers(train_df,2,train_df.columns[train_df.dtypes != \"object\"].values)"
   ]
  },
  {
   "cell_type": "code",
   "execution_count": 21,
   "metadata": {},
   "outputs": [],
   "source": [
    "# train_df = train_df.fillna(train_df.mean())"
   ]
  },
  {
   "cell_type": "code",
   "execution_count": 22,
   "metadata": {},
   "outputs": [
    {
     "name": "stdout",
     "output_type": "stream",
     "text": [
      "<class 'pandas.core.frame.DataFrame'>\n",
      "Int64Index: 16964 entries, 189123628 to 213817296\n",
      "Data columns (total 17 columns):\n",
      " #   Column                     Non-Null Count  Dtype         \n",
      "---  ------                     --------------  -----         \n",
      " 0   additional_fare            16964 non-null  float64       \n",
      " 1   duration                   16964 non-null  float64       \n",
      " 2   meter_waiting              16964 non-null  float64       \n",
      " 3   meter_waiting_fare         16964 non-null  float64       \n",
      " 4   meter_waiting_till_pickup  16964 non-null  float64       \n",
      " 5   pickup_time                16964 non-null  object        \n",
      " 6   drop_time                  16964 non-null  object        \n",
      " 7   pick_lat                   16964 non-null  float64       \n",
      " 8   pick_lon                   16964 non-null  float64       \n",
      " 9   drop_lat                   16964 non-null  float64       \n",
      " 10  drop_lon                   16964 non-null  float64       \n",
      " 11  fare                       16964 non-null  float64       \n",
      " 12  label                      16964 non-null  int64         \n",
      " 13  pickup                     16964 non-null  datetime64[ns]\n",
      " 14  drop                       16964 non-null  datetime64[ns]\n",
      " 15  difference                 16964 non-null  float64       \n",
      " 16  travel_time                16964 non-null  float64       \n",
      "dtypes: datetime64[ns](2), float64(12), int64(1), object(2)\n",
      "memory usage: 2.3+ MB\n"
     ]
    }
   ],
   "source": [
    "train_df = train_df.dropna()\n",
    "# imputer = SimpleImputer(missing_values= np.nan, strategy='meadian')\n",
    "# X.fit[:, 1:3] = imputer.fit_transform(X[:, 1:3])\n",
    "train_df.info()"
   ]
  },
  {
   "cell_type": "code",
   "execution_count": 23,
   "metadata": {},
   "outputs": [],
   "source": [
    "# train_df.loc[Outliers_to_drop]"
   ]
  },
  {
   "cell_type": "code",
   "execution_count": 24,
   "metadata": {},
   "outputs": [
    {
     "data": {
      "image/png": "[encoded data removed]",
      "text/plain": [
       "<Figure size 2160x1080 with 2 Axes>"
      ]
     },
     "metadata": {},
     "output_type": "display_data"
    }
   ],
   "source": [
    "plt.figure(figsize=[30,15])\n",
    "sns.heatmap(train_df.corr(), annot=True)\n",
    "train_df_correlations = train_df.corr()"
   ]
  },
  {
   "cell_type": "code",
   "execution_count": 25,
   "metadata": {},
   "outputs": [
    {
     "data": {
      "text/plain": [
       "<matplotlib.axes._subplots.AxesSubplot at 0x7fb1786f0c90>"
      ]
     },
     "execution_count": 25,
     "metadata": {},
     "output_type": "execute_result"
    },
    {
     "data": {
      "image/png": "[encoded data removed]",
      "text/plain": [
       "<Figure size 432x288 with 1 Axes>"
      ]
     },
     "metadata": {},
     "output_type": "display_data"
    }
   ],
   "source": [
    "(train_df_correlations\n",
    "     .label\n",
    "     .drop('label') # don't compare with myself\n",
    "     .sort_values(ascending=False)\n",
    "     .plot\n",
    "     .barh())"
   ]
  },
  {
   "cell_type": "code",
   "execution_count": 26,
   "metadata": {},
   "outputs": [
    {
     "data": {
      "text/plain": [
       "additional_fare              0\n",
       "duration                     0\n",
       "meter_waiting                0\n",
       "meter_waiting_fare           0\n",
       "meter_waiting_till_pickup    0\n",
       "pick_lat                     0\n",
       "pick_lon                     0\n",
       "drop_lat                     0\n",
       "drop_lon                     0\n",
       "fare                         0\n",
       "label                        0\n",
       "travel_time                  0\n",
       "dtype: int64"
      ]
     },
     "execution_count": 26,
     "metadata": {},
     "output_type": "execute_result"
    }
   ],
   "source": [
    "train_df2 = train_df.drop(['pickup_time','drop_time','pickup','drop','difference'],axis='columns')\n",
    "train_df2.isnull().sum()\n",
    "#train_df2 = train_df2.dropna(subset=['fare'])"
   ]
  },
  {
   "cell_type": "code",
   "execution_count": 27,
   "metadata": {},
   "outputs": [
    {
     "data": {
      "text/plain": [
       "1    15441\n",
       "0     1523\n",
       "Name: label, dtype: int64"
      ]
     },
     "execution_count": 27,
     "metadata": {},
     "output_type": "execute_result"
    }
   ],
   "source": [
    "train_df2['label'].value_counts()"
   ]
  },
  {
   "cell_type": "code",
   "execution_count": 28,
   "metadata": {},
   "outputs": [
    {
     "data": {
      "text/plain": [
       "additional_fare              0\n",
       "duration                     0\n",
       "meter_waiting                0\n",
       "meter_waiting_fare           0\n",
       "meter_waiting_till_pickup    0\n",
       "pick_lat                     0\n",
       "pick_lon                     0\n",
       "drop_lat                     0\n",
       "drop_lon                     0\n",
       "fare                         0\n",
       "label                        0\n",
       "travel_time                  0\n",
       "dtype: int64"
      ]
     },
     "execution_count": 28,
     "metadata": {},
     "output_type": "execute_result"
    }
   ],
   "source": [
    "train_df2.isnull().sum()"
   ]
  },
  {
   "cell_type": "code",
   "execution_count": 29,
   "metadata": {},
   "outputs": [],
   "source": [
    "# train_df2['fare'] = train_df2['fare'] .fillna(train_df2.fare.mode())"
   ]
  },
  {
   "cell_type": "code",
   "execution_count": 30,
   "metadata": {},
   "outputs": [],
   "source": [
    "# train_df2['additional_fare'] = train_df2['additional_fare'] .fillna(train_df2.additional_fare.median())"
   ]
  },
  {
   "cell_type": "code",
   "execution_count": 31,
   "metadata": {},
   "outputs": [],
   "source": [
    "# train_df2['meter_waiting'] = train_df2['meter_waiting'] .fillna(train_df2.meter_waiting.median())"
   ]
  },
  {
   "cell_type": "code",
   "execution_count": 32,
   "metadata": {},
   "outputs": [],
   "source": [
    "# train_df2['meter_waiting_fare'] = train_df2['meter_waiting_fare'] .fillna(train_df2.meter_waiting_fare.median())"
   ]
  },
  {
   "cell_type": "code",
   "execution_count": 33,
   "metadata": {},
   "outputs": [],
   "source": [
    "# train_df2['meter_waiting_till_pickup'] = train_df2['meter_waiting_till_pickup'] .fillna(train_df2.meter_waiting_till_pickup.median())"
   ]
  },
  {
   "cell_type": "code",
   "execution_count": 34,
   "metadata": {},
   "outputs": [
    {
     "data": {
      "text/plain": [
       "additional_fare              0\n",
       "duration                     0\n",
       "meter_waiting                0\n",
       "meter_waiting_fare           0\n",
       "meter_waiting_till_pickup    0\n",
       "pick_lat                     0\n",
       "pick_lon                     0\n",
       "drop_lat                     0\n",
       "drop_lon                     0\n",
       "fare                         0\n",
       "label                        0\n",
       "travel_time                  0\n",
       "dtype: int64"
      ]
     },
     "execution_count": 34,
     "metadata": {},
     "output_type": "execute_result"
    }
   ],
   "source": [
    "train_df2.isnull().sum()"
   ]
  },
  {
   "cell_type": "code",
   "execution_count": 35,
   "metadata": {},
   "outputs": [
    {
     "data": {
      "text/plain": [
       "1    15441\n",
       "0     1523\n",
       "Name: label, dtype: int64"
      ]
     },
     "execution_count": 35,
     "metadata": {},
     "output_type": "execute_result"
    }
   ],
   "source": [
    "train_df2['label'].value_counts()"
   ]
  },
  {
   "cell_type": "code",
   "execution_count": 36,
   "metadata": {},
   "outputs": [
    {
     "data": {
      "text/html": [
       "<div>\n",
       "<style scoped>\n",
       "    .dataframe tbody tr th:only-of-type {\n",
       "        vertical-align: middle;\n",
       "    }\n",
       "\n",
       "    .dataframe tbody tr th {\n",
       "        vertical-align: top;\n",
       "    }\n",
       "\n",
       "    .dataframe thead th {\n",
       "        text-align: right;\n",
       "    }\n",
       "</style>\n",
       "<table border=\"1\" class=\"dataframe\">\n",
       "  <thead>\n",
       "    <tr style=\"text-align: right;\">\n",
       "      <th></th>\n",
       "      <th>additional_fare</th>\n",
       "      <th>duration</th>\n",
       "      <th>meter_waiting</th>\n",
       "      <th>meter_waiting_fare</th>\n",
       "      <th>meter_waiting_till_pickup</th>\n",
       "      <th>pick_lat</th>\n",
       "      <th>pick_lon</th>\n",
       "      <th>drop_lat</th>\n",
       "      <th>drop_lon</th>\n",
       "      <th>fare</th>\n",
       "      <th>label</th>\n",
       "      <th>travel_time</th>\n",
       "      <th>lat_change</th>\n",
       "      <th>lon_change</th>\n",
       "      <th>euc_distance</th>\n",
       "    </tr>\n",
       "    <tr>\n",
       "      <th>tripid</th>\n",
       "      <th></th>\n",
       "      <th></th>\n",
       "      <th></th>\n",
       "      <th></th>\n",
       "      <th></th>\n",
       "      <th></th>\n",
       "      <th></th>\n",
       "      <th></th>\n",
       "      <th></th>\n",
       "      <th></th>\n",
       "      <th></th>\n",
       "      <th></th>\n",
       "      <th></th>\n",
       "      <th></th>\n",
       "      <th></th>\n",
       "    </tr>\n",
       "  </thead>\n",
       "  <tbody>\n",
       "    <tr>\n",
       "      <th>189123628</th>\n",
       "      <td>10.5</td>\n",
       "      <td>834.0</td>\n",
       "      <td>56.0</td>\n",
       "      <td>0.0000</td>\n",
       "      <td>64.0</td>\n",
       "      <td>6.86252</td>\n",
       "      <td>79.8993</td>\n",
       "      <td>6.90330</td>\n",
       "      <td>79.8783</td>\n",
       "      <td>270.32</td>\n",
       "      <td>1</td>\n",
       "      <td>778.0</td>\n",
       "      <td>0.04078</td>\n",
       "      <td>0.0210</td>\n",
       "      <td>0.045869</td>\n",
       "    </tr>\n",
       "    <tr>\n",
       "      <th>189125358</th>\n",
       "      <td>10.5</td>\n",
       "      <td>791.0</td>\n",
       "      <td>47.0</td>\n",
       "      <td>0.0000</td>\n",
       "      <td>134.0</td>\n",
       "      <td>6.88589</td>\n",
       "      <td>79.8984</td>\n",
       "      <td>6.91373</td>\n",
       "      <td>79.8923</td>\n",
       "      <td>197.85</td>\n",
       "      <td>1</td>\n",
       "      <td>744.0</td>\n",
       "      <td>0.02784</td>\n",
       "      <td>0.0061</td>\n",
       "      <td>0.028500</td>\n",
       "    </tr>\n",
       "    <tr>\n",
       "      <th>189125719</th>\n",
       "      <td>10.5</td>\n",
       "      <td>1087.0</td>\n",
       "      <td>80.0</td>\n",
       "      <td>0.0000</td>\n",
       "      <td>61.0</td>\n",
       "      <td>6.90839</td>\n",
       "      <td>79.8651</td>\n",
       "      <td>6.93669</td>\n",
       "      <td>79.9146</td>\n",
       "      <td>301.64</td>\n",
       "      <td>1</td>\n",
       "      <td>1007.0</td>\n",
       "      <td>0.02830</td>\n",
       "      <td>0.0495</td>\n",
       "      <td>0.057019</td>\n",
       "    </tr>\n",
       "    <tr>\n",
       "      <th>189127273</th>\n",
       "      <td>10.5</td>\n",
       "      <td>598.0</td>\n",
       "      <td>271.0</td>\n",
       "      <td>15.6638</td>\n",
       "      <td>68.0</td>\n",
       "      <td>6.92570</td>\n",
       "      <td>79.8895</td>\n",
       "      <td>6.92748</td>\n",
       "      <td>79.8971</td>\n",
       "      <td>82.30</td>\n",
       "      <td>1</td>\n",
       "      <td>327.0</td>\n",
       "      <td>0.00178</td>\n",
       "      <td>0.0076</td>\n",
       "      <td>0.007806</td>\n",
       "    </tr>\n",
       "    <tr>\n",
       "      <th>189129552</th>\n",
       "      <td>10.5</td>\n",
       "      <td>3407.0</td>\n",
       "      <td>182.0</td>\n",
       "      <td>0.0000</td>\n",
       "      <td>112.0</td>\n",
       "      <td>7.13402</td>\n",
       "      <td>79.8969</td>\n",
       "      <td>6.91865</td>\n",
       "      <td>79.8649</td>\n",
       "      <td>1065.02</td>\n",
       "      <td>1</td>\n",
       "      <td>3225.0</td>\n",
       "      <td>0.21537</td>\n",
       "      <td>0.0320</td>\n",
       "      <td>0.217734</td>\n",
       "    </tr>\n",
       "  </tbody>\n",
       "</table>\n",
       "</div>"
      ],
      "text/plain": [
       "           additional_fare  duration  meter_waiting  meter_waiting_fare  \\\n",
       "tripid                                                                    \n",
       "189123628             10.5     834.0           56.0              0.0000   \n",
       "189125358             10.5     791.0           47.0              0.0000   \n",
       "189125719             10.5    1087.0           80.0              0.0000   \n",
       "189127273             10.5     598.0          271.0             15.6638   \n",
       "189129552             10.5    3407.0          182.0              0.0000   \n",
       "\n",
       "           meter_waiting_till_pickup  pick_lat  pick_lon  drop_lat  drop_lon  \\\n",
       "tripid                                                                         \n",
       "189123628                       64.0   6.86252   79.8993   6.90330   79.8783   \n",
       "189125358                      134.0   6.88589   79.8984   6.91373   79.8923   \n",
       "189125719                       61.0   6.90839   79.8651   6.93669   79.9146   \n",
       "189127273                       68.0   6.92570   79.8895   6.92748   79.8971   \n",
       "189129552                      112.0   7.13402   79.8969   6.91865   79.8649   \n",
       "\n",
       "              fare  label  travel_time  lat_change  lon_change  euc_distance  \n",
       "tripid                                                                        \n",
       "189123628   270.32      1        778.0     0.04078      0.0210      0.045869  \n",
       "189125358   197.85      1        744.0     0.02784      0.0061      0.028500  \n",
       "189125719   301.64      1       1007.0     0.02830      0.0495      0.057019  \n",
       "189127273    82.30      1        327.0     0.00178      0.0076      0.007806  \n",
       "189129552  1065.02      1       3225.0     0.21537      0.0320      0.217734  "
      ]
     },
     "execution_count": 36,
     "metadata": {},
     "output_type": "execute_result"
    }
   ],
   "source": [
    "train_df2['lat_change'] = abs(train_df2['pick_lat']- train_df2['drop_lat'])\n",
    "train_df2['lon_change'] = abs(train_df2['pick_lon']- train_df2['drop_lon'])\n",
    "train_df2['euc_distance'] = np.sqrt((train_df2['lat_change']**2) + (train_df2['lon_change']**2))\n",
    "train_df2.head()\n",
    "\n",
    "# train_df2['lat_change'] = np.deg2rad(train_df2['pick_lat']- train_df2['drop_lat'])\n",
    "# train_df2['lon_change'] = np.deg2rad(train_df2['pick_lon']- train_df2['drop_lon'])\n",
    "# train_df2['a'] = abs(np.sin(train_df2['lat_change']/2)**2 + np.cos(np.deg2rad(train_df2['pick_lat'])) * np.cos(np.deg2rad(train_df2['drop_lat'])) * np.sin(train_df2['lon_change']/2)**2)\n",
    "# train_df2['c'] = 2 * np.arctan2(np.sqrt(train_df2['a']), np.sqrt(abs(1 - train_df2['a'])))\n",
    "# kilo = 6373.0 * train_df2['c']\n",
    "# train_df2['euc_distance'] = kilo\n",
    "# train_df2 = train_df2.drop(['a','c'],axis='columns')\n",
    "# train_df2.head()"
   ]
  },
  {
   "cell_type": "code",
   "execution_count": 37,
   "metadata": {},
   "outputs": [],
   "source": [
    "# train_df2[train_df2.euc_distance==0]"
   ]
  },
  {
   "cell_type": "code",
   "execution_count": 38,
   "metadata": {},
   "outputs": [],
   "source": [
    "#train_df2[train_df2.travel_fare==0]"
   ]
  },
  {
   "cell_type": "code",
   "execution_count": 39,
   "metadata": {},
   "outputs": [],
   "source": [
    "#train_df2[train_df2.travel_time==0]"
   ]
  },
  {
   "cell_type": "code",
   "execution_count": 40,
   "metadata": {},
   "outputs": [],
   "source": [
    "# train_df2[\"label\"] = train_df2[\"label\"].map({\"incorrect\": 0, \"correct\":1})"
   ]
  },
  {
   "cell_type": "code",
   "execution_count": 41,
   "metadata": {},
   "outputs": [],
   "source": [
    "#clean_df = train_df2.drop(['pick_lat','pick_lon','drop_lat','drop_lon'],axis='columns')\n",
    "clean_df = train_df2.drop(['pick_lat','pick_lon','drop_lat','drop_lon','lat_change','lon_change'],axis='columns')"
   ]
  },
  {
   "cell_type": "code",
   "execution_count": 42,
   "metadata": {},
   "outputs": [],
   "source": [
    "# Q1 = clean_df.quantile(0.25)\n",
    "# Q3 = clean_df.quantile(0.75)\n",
    "# IQR = Q3 - Q1\n",
    "# print(IQR)"
   ]
  },
  {
   "cell_type": "code",
   "execution_count": 43,
   "metadata": {},
   "outputs": [],
   "source": [
    "# clean_df = clean_df[~((clean_df < (Q1 - 1.5 * IQR)) |(clean_df > (Q3 + 1.5 * IQR))).any(axis=1)]\n",
    "# clean_df.shape"
   ]
  },
  {
   "cell_type": "code",
   "execution_count": 44,
   "metadata": {},
   "outputs": [
    {
     "data": {
      "text/html": [
       "<div>\n",
       "<style scoped>\n",
       "    .dataframe tbody tr th:only-of-type {\n",
       "        vertical-align: middle;\n",
       "    }\n",
       "\n",
       "    .dataframe tbody tr th {\n",
       "        vertical-align: top;\n",
       "    }\n",
       "\n",
       "    .dataframe thead th {\n",
       "        text-align: right;\n",
       "    }\n",
       "</style>\n",
       "<table border=\"1\" class=\"dataframe\">\n",
       "  <thead>\n",
       "    <tr style=\"text-align: right;\">\n",
       "      <th></th>\n",
       "      <th>additional_fare</th>\n",
       "      <th>duration</th>\n",
       "      <th>meter_waiting</th>\n",
       "      <th>meter_waiting_fare</th>\n",
       "      <th>meter_waiting_till_pickup</th>\n",
       "      <th>fare</th>\n",
       "      <th>label</th>\n",
       "      <th>travel_time</th>\n",
       "      <th>euc_distance</th>\n",
       "    </tr>\n",
       "  </thead>\n",
       "  <tbody>\n",
       "    <tr>\n",
       "      <th>count</th>\n",
       "      <td>16964.000000</td>\n",
       "      <td>16964.000000</td>\n",
       "      <td>16964.000000</td>\n",
       "      <td>16964.000000</td>\n",
       "      <td>16964.000000</td>\n",
       "      <td>16964.000000</td>\n",
       "      <td>16964.000000</td>\n",
       "      <td>16964.000000</td>\n",
       "      <td>16964.000000</td>\n",
       "    </tr>\n",
       "    <tr>\n",
       "      <th>mean</th>\n",
       "      <td>12.940845</td>\n",
       "      <td>1703.383046</td>\n",
       "      <td>616.460799</td>\n",
       "      <td>31.325065</td>\n",
       "      <td>112.481608</td>\n",
       "      <td>311.208377</td>\n",
       "      <td>0.910222</td>\n",
       "      <td>1086.766093</td>\n",
       "      <td>0.043996</td>\n",
       "    </tr>\n",
       "    <tr>\n",
       "      <th>std</th>\n",
       "      <td>12.626491</td>\n",
       "      <td>8122.455726</td>\n",
       "      <td>7903.515567</td>\n",
       "      <td>456.066227</td>\n",
       "      <td>442.180690</td>\n",
       "      <td>575.801005</td>\n",
       "      <td>0.285872</td>\n",
       "      <td>1153.842037</td>\n",
       "      <td>0.415272</td>\n",
       "    </tr>\n",
       "    <tr>\n",
       "      <th>min</th>\n",
       "      <td>0.000000</td>\n",
       "      <td>22.000000</td>\n",
       "      <td>0.000000</td>\n",
       "      <td>0.000000</td>\n",
       "      <td>0.000000</td>\n",
       "      <td>0.000000</td>\n",
       "      <td>0.000000</td>\n",
       "      <td>0.000000</td>\n",
       "      <td>0.000000</td>\n",
       "    </tr>\n",
       "    <tr>\n",
       "      <th>25%</th>\n",
       "      <td>10.500000</td>\n",
       "      <td>548.000000</td>\n",
       "      <td>33.000000</td>\n",
       "      <td>0.000000</td>\n",
       "      <td>26.000000</td>\n",
       "      <td>125.522500</td>\n",
       "      <td>1.000000</td>\n",
       "      <td>446.000000</td>\n",
       "      <td>0.013413</td>\n",
       "    </tr>\n",
       "    <tr>\n",
       "      <th>50%</th>\n",
       "      <td>10.500000</td>\n",
       "      <td>1010.000000</td>\n",
       "      <td>123.000000</td>\n",
       "      <td>0.115600</td>\n",
       "      <td>73.000000</td>\n",
       "      <td>211.050000</td>\n",
       "      <td>1.000000</td>\n",
       "      <td>811.000000</td>\n",
       "      <td>0.029034</td>\n",
       "    </tr>\n",
       "    <tr>\n",
       "      <th>75%</th>\n",
       "      <td>10.500000</td>\n",
       "      <td>1803.000000</td>\n",
       "      <td>351.000000</td>\n",
       "      <td>14.334400</td>\n",
       "      <td>144.000000</td>\n",
       "      <td>366.050000</td>\n",
       "      <td>1.000000</td>\n",
       "      <td>1402.000000</td>\n",
       "      <td>0.055471</td>\n",
       "    </tr>\n",
       "    <tr>\n",
       "      <th>max</th>\n",
       "      <td>221.000000</td>\n",
       "      <td>453872.000000</td>\n",
       "      <td>453650.000000</td>\n",
       "      <td>26198.601400</td>\n",
       "      <td>51288.000000</td>\n",
       "      <td>26945.990000</td>\n",
       "      <td>1.000000</td>\n",
       "      <td>46609.000000</td>\n",
       "      <td>53.857509</td>\n",
       "    </tr>\n",
       "  </tbody>\n",
       "</table>\n",
       "</div>"
      ],
      "text/plain": [
       "       additional_fare       duration  meter_waiting  meter_waiting_fare  \\\n",
       "count     16964.000000   16964.000000   16964.000000        16964.000000   \n",
       "mean         12.940845    1703.383046     616.460799           31.325065   \n",
       "std          12.626491    8122.455726    7903.515567          456.066227   \n",
       "min           0.000000      22.000000       0.000000            0.000000   \n",
       "25%          10.500000     548.000000      33.000000            0.000000   \n",
       "50%          10.500000    1010.000000     123.000000            0.115600   \n",
       "75%          10.500000    1803.000000     351.000000           14.334400   \n",
       "max         221.000000  453872.000000  453650.000000        26198.601400   \n",
       "\n",
       "       meter_waiting_till_pickup          fare         label   travel_time  \\\n",
       "count               16964.000000  16964.000000  16964.000000  16964.000000   \n",
       "mean                  112.481608    311.208377      0.910222   1086.766093   \n",
       "std                   442.180690    575.801005      0.285872   1153.842037   \n",
       "min                     0.000000      0.000000      0.000000      0.000000   \n",
       "25%                    26.000000    125.522500      1.000000    446.000000   \n",
       "50%                    73.000000    211.050000      1.000000    811.000000   \n",
       "75%                   144.000000    366.050000      1.000000   1402.000000   \n",
       "max                 51288.000000  26945.990000      1.000000  46609.000000   \n",
       "\n",
       "       euc_distance  \n",
       "count  16964.000000  \n",
       "mean       0.043996  \n",
       "std        0.415272  \n",
       "min        0.000000  \n",
       "25%        0.013413  \n",
       "50%        0.029034  \n",
       "75%        0.055471  \n",
       "max       53.857509  "
      ]
     },
     "execution_count": 44,
     "metadata": {},
     "output_type": "execute_result"
    }
   ],
   "source": [
    "clean_df.describe()"
   ]
  },
  {
   "cell_type": "markdown",
   "metadata": {},
   "source": [
    "**Visualizing Features with Fare**"
   ]
  },
  {
   "cell_type": "code",
   "execution_count": 45,
   "metadata": {},
   "outputs": [
    {
     "name": "stdout",
     "output_type": "stream",
     "text": [
      "<class 'pandas.core.frame.DataFrame'>\n",
      "Int64Index: 16964 entries, 189123628 to 213817296\n",
      "Data columns (total 9 columns):\n",
      " #   Column                     Non-Null Count  Dtype  \n",
      "---  ------                     --------------  -----  \n",
      " 0   additional_fare            16964 non-null  float64\n",
      " 1   duration                   16964 non-null  float64\n",
      " 2   meter_waiting              16964 non-null  float64\n",
      " 3   meter_waiting_fare         16964 non-null  float64\n",
      " 4   meter_waiting_till_pickup  16964 non-null  float64\n",
      " 5   fare                       16964 non-null  float64\n",
      " 6   label                      16964 non-null  int64  \n",
      " 7   travel_time                16964 non-null  float64\n",
      " 8   euc_distance               16964 non-null  float64\n",
      "dtypes: float64(8), int64(1)\n",
      "memory usage: 1.3 MB\n"
     ]
    },
    {
     "data": {
      "text/html": [
       "<div>\n",
       "<style scoped>\n",
       "    .dataframe tbody tr th:only-of-type {\n",
       "        vertical-align: middle;\n",
       "    }\n",
       "\n",
       "    .dataframe tbody tr th {\n",
       "        vertical-align: top;\n",
       "    }\n",
       "\n",
       "    .dataframe thead th {\n",
       "        text-align: right;\n",
       "    }\n",
       "</style>\n",
       "<table border=\"1\" class=\"dataframe\">\n",
       "  <thead>\n",
       "    <tr style=\"text-align: right;\">\n",
       "      <th></th>\n",
       "      <th>additional_fare</th>\n",
       "      <th>duration</th>\n",
       "      <th>meter_waiting</th>\n",
       "      <th>meter_waiting_fare</th>\n",
       "      <th>meter_waiting_till_pickup</th>\n",
       "      <th>fare</th>\n",
       "      <th>label</th>\n",
       "      <th>travel_time</th>\n",
       "      <th>euc_distance</th>\n",
       "    </tr>\n",
       "    <tr>\n",
       "      <th>tripid</th>\n",
       "      <th></th>\n",
       "      <th></th>\n",
       "      <th></th>\n",
       "      <th></th>\n",
       "      <th></th>\n",
       "      <th></th>\n",
       "      <th></th>\n",
       "      <th></th>\n",
       "      <th></th>\n",
       "    </tr>\n",
       "  </thead>\n",
       "  <tbody>\n",
       "    <tr>\n",
       "      <th>189123628</th>\n",
       "      <td>10.5</td>\n",
       "      <td>834.0</td>\n",
       "      <td>56.0</td>\n",
       "      <td>0.0000</td>\n",
       "      <td>64.0</td>\n",
       "      <td>270.32</td>\n",
       "      <td>1</td>\n",
       "      <td>778.0</td>\n",
       "      <td>0.045869</td>\n",
       "    </tr>\n",
       "    <tr>\n",
       "      <th>189125358</th>\n",
       "      <td>10.5</td>\n",
       "      <td>791.0</td>\n",
       "      <td>47.0</td>\n",
       "      <td>0.0000</td>\n",
       "      <td>134.0</td>\n",
       "      <td>197.85</td>\n",
       "      <td>1</td>\n",
       "      <td>744.0</td>\n",
       "      <td>0.028500</td>\n",
       "    </tr>\n",
       "    <tr>\n",
       "      <th>189125719</th>\n",
       "      <td>10.5</td>\n",
       "      <td>1087.0</td>\n",
       "      <td>80.0</td>\n",
       "      <td>0.0000</td>\n",
       "      <td>61.0</td>\n",
       "      <td>301.64</td>\n",
       "      <td>1</td>\n",
       "      <td>1007.0</td>\n",
       "      <td>0.057019</td>\n",
       "    </tr>\n",
       "    <tr>\n",
       "      <th>189127273</th>\n",
       "      <td>10.5</td>\n",
       "      <td>598.0</td>\n",
       "      <td>271.0</td>\n",
       "      <td>15.6638</td>\n",
       "      <td>68.0</td>\n",
       "      <td>82.30</td>\n",
       "      <td>1</td>\n",
       "      <td>327.0</td>\n",
       "      <td>0.007806</td>\n",
       "    </tr>\n",
       "    <tr>\n",
       "      <th>189129552</th>\n",
       "      <td>10.5</td>\n",
       "      <td>3407.0</td>\n",
       "      <td>182.0</td>\n",
       "      <td>0.0000</td>\n",
       "      <td>112.0</td>\n",
       "      <td>1065.02</td>\n",
       "      <td>1</td>\n",
       "      <td>3225.0</td>\n",
       "      <td>0.217734</td>\n",
       "    </tr>\n",
       "  </tbody>\n",
       "</table>\n",
       "</div>"
      ],
      "text/plain": [
       "           additional_fare  duration  meter_waiting  meter_waiting_fare  \\\n",
       "tripid                                                                    \n",
       "189123628             10.5     834.0           56.0              0.0000   \n",
       "189125358             10.5     791.0           47.0              0.0000   \n",
       "189125719             10.5    1087.0           80.0              0.0000   \n",
       "189127273             10.5     598.0          271.0             15.6638   \n",
       "189129552             10.5    3407.0          182.0              0.0000   \n",
       "\n",
       "           meter_waiting_till_pickup     fare  label  travel_time  \\\n",
       "tripid                                                              \n",
       "189123628                       64.0   270.32      1        778.0   \n",
       "189125358                      134.0   197.85      1        744.0   \n",
       "189125719                       61.0   301.64      1       1007.0   \n",
       "189127273                       68.0    82.30      1        327.0   \n",
       "189129552                      112.0  1065.02      1       3225.0   \n",
       "\n",
       "           euc_distance  \n",
       "tripid                   \n",
       "189123628      0.045869  \n",
       "189125358      0.028500  \n",
       "189125719      0.057019  \n",
       "189127273      0.007806  \n",
       "189129552      0.217734  "
      ]
     },
     "execution_count": 45,
     "metadata": {},
     "output_type": "execute_result"
    }
   ],
   "source": [
    "clean_df.info()\n",
    "clean_df.head()"
   ]
  },
  {
   "cell_type": "code",
   "execution_count": 46,
   "metadata": {},
   "outputs": [
    {
     "data": {
      "text/plain": [
       "<matplotlib.axes._subplots.AxesSubplot at 0x7fb17815bd10>"
      ]
     },
     "execution_count": 46,
     "metadata": {},
     "output_type": "execute_result"
    },
    {
     "data": {
      "image/png": "[encoded data removed]",
      "text/plain": [
       "<Figure size 2160x1080 with 2 Axes>"
      ]
     },
     "metadata": {},
     "output_type": "display_data"
    }
   ],
   "source": [
    "plt.figure(figsize=[30,15])\n",
    "corr = clean_df.corr()\n",
    "sns.heatmap(corr , annot=True)"
   ]
  },
  {
   "cell_type": "code",
   "execution_count": 47,
   "metadata": {},
   "outputs": [],
   "source": [
    "# (corr\n",
    "#      .label\n",
    "#      .drop('label') # don't compare with myself\n",
    "#      .sort_values(ascending=False)\n",
    "#      .plot\n",
    "#      .barh())"
   ]
  },
  {
   "cell_type": "code",
   "execution_count": 48,
   "metadata": {},
   "outputs": [
    {
     "data": {
      "text/html": [
       "<div>\n",
       "<style scoped>\n",
       "    .dataframe tbody tr th:only-of-type {\n",
       "        vertical-align: middle;\n",
       "    }\n",
       "\n",
       "    .dataframe tbody tr th {\n",
       "        vertical-align: top;\n",
       "    }\n",
       "\n",
       "    .dataframe thead th {\n",
       "        text-align: right;\n",
       "    }\n",
       "</style>\n",
       "<table border=\"1\" class=\"dataframe\">\n",
       "  <thead>\n",
       "    <tr style=\"text-align: right;\">\n",
       "      <th></th>\n",
       "      <th>additional_fare</th>\n",
       "      <th>duration</th>\n",
       "      <th>meter_waiting</th>\n",
       "      <th>meter_waiting_fare</th>\n",
       "      <th>meter_waiting_till_pickup</th>\n",
       "      <th>fare</th>\n",
       "      <th>label</th>\n",
       "      <th>travel_time</th>\n",
       "      <th>euc_distance</th>\n",
       "    </tr>\n",
       "  </thead>\n",
       "  <tbody>\n",
       "    <tr>\n",
       "      <th>count</th>\n",
       "      <td>16964.000000</td>\n",
       "      <td>16964.000000</td>\n",
       "      <td>16964.000000</td>\n",
       "      <td>16964.000000</td>\n",
       "      <td>16964.000000</td>\n",
       "      <td>16964.000000</td>\n",
       "      <td>16964.000000</td>\n",
       "      <td>16964.000000</td>\n",
       "      <td>16964.000000</td>\n",
       "    </tr>\n",
       "    <tr>\n",
       "      <th>mean</th>\n",
       "      <td>12.940845</td>\n",
       "      <td>1703.383046</td>\n",
       "      <td>616.460799</td>\n",
       "      <td>31.325065</td>\n",
       "      <td>112.481608</td>\n",
       "      <td>311.208377</td>\n",
       "      <td>0.910222</td>\n",
       "      <td>1086.766093</td>\n",
       "      <td>0.043996</td>\n",
       "    </tr>\n",
       "    <tr>\n",
       "      <th>std</th>\n",
       "      <td>12.626491</td>\n",
       "      <td>8122.455726</td>\n",
       "      <td>7903.515567</td>\n",
       "      <td>456.066227</td>\n",
       "      <td>442.180690</td>\n",
       "      <td>575.801005</td>\n",
       "      <td>0.285872</td>\n",
       "      <td>1153.842037</td>\n",
       "      <td>0.415272</td>\n",
       "    </tr>\n",
       "    <tr>\n",
       "      <th>min</th>\n",
       "      <td>0.000000</td>\n",
       "      <td>22.000000</td>\n",
       "      <td>0.000000</td>\n",
       "      <td>0.000000</td>\n",
       "      <td>0.000000</td>\n",
       "      <td>0.000000</td>\n",
       "      <td>0.000000</td>\n",
       "      <td>0.000000</td>\n",
       "      <td>0.000000</td>\n",
       "    </tr>\n",
       "    <tr>\n",
       "      <th>25%</th>\n",
       "      <td>10.500000</td>\n",
       "      <td>548.000000</td>\n",
       "      <td>33.000000</td>\n",
       "      <td>0.000000</td>\n",
       "      <td>26.000000</td>\n",
       "      <td>125.522500</td>\n",
       "      <td>1.000000</td>\n",
       "      <td>446.000000</td>\n",
       "      <td>0.013413</td>\n",
       "    </tr>\n",
       "    <tr>\n",
       "      <th>50%</th>\n",
       "      <td>10.500000</td>\n",
       "      <td>1010.000000</td>\n",
       "      <td>123.000000</td>\n",
       "      <td>0.115600</td>\n",
       "      <td>73.000000</td>\n",
       "      <td>211.050000</td>\n",
       "      <td>1.000000</td>\n",
       "      <td>811.000000</td>\n",
       "      <td>0.029034</td>\n",
       "    </tr>\n",
       "    <tr>\n",
       "      <th>75%</th>\n",
       "      <td>10.500000</td>\n",
       "      <td>1803.000000</td>\n",
       "      <td>351.000000</td>\n",
       "      <td>14.334400</td>\n",
       "      <td>144.000000</td>\n",
       "      <td>366.050000</td>\n",
       "      <td>1.000000</td>\n",
       "      <td>1402.000000</td>\n",
       "      <td>0.055471</td>\n",
       "    </tr>\n",
       "    <tr>\n",
       "      <th>max</th>\n",
       "      <td>221.000000</td>\n",
       "      <td>453872.000000</td>\n",
       "      <td>453650.000000</td>\n",
       "      <td>26198.601400</td>\n",
       "      <td>51288.000000</td>\n",
       "      <td>26945.990000</td>\n",
       "      <td>1.000000</td>\n",
       "      <td>46609.000000</td>\n",
       "      <td>53.857509</td>\n",
       "    </tr>\n",
       "  </tbody>\n",
       "</table>\n",
       "</div>"
      ],
      "text/plain": [
       "       additional_fare       duration  meter_waiting  meter_waiting_fare  \\\n",
       "count     16964.000000   16964.000000   16964.000000        16964.000000   \n",
       "mean         12.940845    1703.383046     616.460799           31.325065   \n",
       "std          12.626491    8122.455726    7903.515567          456.066227   \n",
       "min           0.000000      22.000000       0.000000            0.000000   \n",
       "25%          10.500000     548.000000      33.000000            0.000000   \n",
       "50%          10.500000    1010.000000     123.000000            0.115600   \n",
       "75%          10.500000    1803.000000     351.000000           14.334400   \n",
       "max         221.000000  453872.000000  453650.000000        26198.601400   \n",
       "\n",
       "       meter_waiting_till_pickup          fare         label   travel_time  \\\n",
       "count               16964.000000  16964.000000  16964.000000  16964.000000   \n",
       "mean                  112.481608    311.208377      0.910222   1086.766093   \n",
       "std                   442.180690    575.801005      0.285872   1153.842037   \n",
       "min                     0.000000      0.000000      0.000000      0.000000   \n",
       "25%                    26.000000    125.522500      1.000000    446.000000   \n",
       "50%                    73.000000    211.050000      1.000000    811.000000   \n",
       "75%                   144.000000    366.050000      1.000000   1402.000000   \n",
       "max                 51288.000000  26945.990000      1.000000  46609.000000   \n",
       "\n",
       "       euc_distance  \n",
       "count  16964.000000  \n",
       "mean       0.043996  \n",
       "std        0.415272  \n",
       "min        0.000000  \n",
       "25%        0.013413  \n",
       "50%        0.029034  \n",
       "75%        0.055471  \n",
       "max       53.857509  "
      ]
     },
     "execution_count": 48,
     "metadata": {},
     "output_type": "execute_result"
    }
   ],
   "source": [
    "clean_df.describe()"
   ]
  },
  {
   "cell_type": "code",
   "execution_count": 49,
   "metadata": {},
   "outputs": [],
   "source": [
    "#clean_df[clean_df.duration>9825]"
   ]
  },
  {
   "cell_type": "code",
   "execution_count": 50,
   "metadata": {},
   "outputs": [],
   "source": [
    "#clean_df[clean_df.additional_fare>112]"
   ]
  },
  {
   "cell_type": "code",
   "execution_count": 51,
   "metadata": {},
   "outputs": [],
   "source": [
    "#clean_df[clean_df.meter_waiting_till_pickup>554]"
   ]
  },
  {
   "cell_type": "markdown",
   "metadata": {},
   "source": [
    "# PLOTTING GRAPHS"
   ]
  },
  {
   "cell_type": "markdown",
   "metadata": {},
   "source": [
    "**meter_waiting_till_pickup vs fare**"
   ]
  },
  {
   "cell_type": "code",
   "execution_count": 52,
   "metadata": {},
   "outputs": [
    {
     "data": {
      "image/png": "[encoded data removed]",
      "text/plain": [
       "<Figure size 432x288 with 1 Axes>"
      ]
     },
     "metadata": {},
     "output_type": "display_data"
    }
   ],
   "source": [
    "clean_df.plot(x ='meter_waiting_till_pickup', y='fare', kind = 'scatter')\n",
    "plt.show()"
   ]
  },
  {
   "cell_type": "code",
   "execution_count": 53,
   "metadata": {},
   "outputs": [],
   "source": [
    "# clean_df = clean_df[clean_df.meter_waiting_till_pickup<50000]"
   ]
  },
  {
   "cell_type": "code",
   "execution_count": 54,
   "metadata": {},
   "outputs": [],
   "source": [
    "clean_df = clean_df[clean_df.fare<20000]"
   ]
  },
  {
   "cell_type": "code",
   "execution_count": 55,
   "metadata": {},
   "outputs": [],
   "source": [
    "# clean_df.plot(x ='meter_waiting_till_pickup', y='fare', kind = 'scatter')\n",
    "# plt.show()"
   ]
  },
  {
   "cell_type": "code",
   "execution_count": 56,
   "metadata": {},
   "outputs": [],
   "source": [
    "# clean_df = clean_df[clean_df.meter_waiting_till_pickup<4000]"
   ]
  },
  {
   "cell_type": "code",
   "execution_count": 57,
   "metadata": {},
   "outputs": [],
   "source": [
    "clean_df = clean_df[clean_df.fare<15000]"
   ]
  },
  {
   "cell_type": "code",
   "execution_count": 58,
   "metadata": {},
   "outputs": [
    {
     "data": {
      "image/png": "[encoded data removed]",
      "text/plain": [
       "<Figure size 432x288 with 1 Axes>"
      ]
     },
     "metadata": {},
     "output_type": "display_data"
    }
   ],
   "source": [
    "clean_df.plot(x ='meter_waiting_till_pickup', y='fare', kind = 'scatter')\n",
    "plt.show()"
   ]
  },
  {
   "cell_type": "code",
   "execution_count": 59,
   "metadata": {},
   "outputs": [],
   "source": [
    "# clean_df[clean_df.label >= 1].plot(x ='meter_waiting_till_pickup', y='fare', kind = 'scatter')\n",
    "# plt.show()"
   ]
  },
  {
   "cell_type": "code",
   "execution_count": 60,
   "metadata": {},
   "outputs": [],
   "source": [
    "# clean_df[clean_df.label <1].plot(x ='meter_waiting_till_pickup', y='fare', kind = 'scatter')\n",
    "# plt.show()"
   ]
  },
  {
   "cell_type": "code",
   "execution_count": 61,
   "metadata": {},
   "outputs": [],
   "source": [
    "#clean_df[clean_df.meter_waiting_till_pickup>40000].head()"
   ]
  },
  {
   "cell_type": "markdown",
   "metadata": {},
   "source": [
    "**additional_fare vs fare**"
   ]
  },
  {
   "cell_type": "code",
   "execution_count": 62,
   "metadata": {},
   "outputs": [
    {
     "data": {
      "image/png": "[encoded data removed]",
      "text/plain": [
       "<Figure size 432x288 with 1 Axes>"
      ]
     },
     "metadata": {},
     "output_type": "display_data"
    }
   ],
   "source": [
    "clean_df.plot(x ='additional_fare', y='fare', kind = 'scatter')\n",
    "plt.show()"
   ]
  },
  {
   "cell_type": "code",
   "execution_count": 63,
   "metadata": {},
   "outputs": [],
   "source": [
    "clean_df = clean_df[clean_df.additional_fare<2000]"
   ]
  },
  {
   "cell_type": "code",
   "execution_count": 64,
   "metadata": {},
   "outputs": [],
   "source": [
    "clean_df = clean_df[clean_df.fare<15000]"
   ]
  },
  {
   "cell_type": "code",
   "execution_count": 65,
   "metadata": {},
   "outputs": [
    {
     "data": {
      "image/png": "[encoded data removed]",
      "text/plain": [
       "<Figure size 432x288 with 1 Axes>"
      ]
     },
     "metadata": {},
     "output_type": "display_data"
    }
   ],
   "source": [
    "clean_df.plot(x ='additional_fare', y='fare', kind = 'scatter')\n",
    "plt.show()"
   ]
  },
  {
   "cell_type": "code",
   "execution_count": 66,
   "metadata": {},
   "outputs": [],
   "source": [
    "clean_df = clean_df[clean_df.additional_fare<200]"
   ]
  },
  {
   "cell_type": "code",
   "execution_count": 67,
   "metadata": {},
   "outputs": [
    {
     "data": {
      "image/png": "[encoded data removed]",
      "text/plain": [
       "<Figure size 432x288 with 1 Axes>"
      ]
     },
     "metadata": {},
     "output_type": "display_data"
    }
   ],
   "source": [
    "clean_df.plot(x ='additional_fare', y='fare', kind = 'scatter')\n",
    "plt.show()"
   ]
  },
  {
   "cell_type": "code",
   "execution_count": 68,
   "metadata": {},
   "outputs": [],
   "source": [
    "# clean_df[clean_df.label >=1].plot(x ='additional_fare', y='fare', kind = 'scatter')\n",
    "# plt.show()"
   ]
  },
  {
   "cell_type": "code",
   "execution_count": 69,
   "metadata": {},
   "outputs": [],
   "source": [
    "# clean_df[clean_df.label <1].plot(x ='additional_fare', y='fare', kind = 'scatter')\n",
    "# plt.show()"
   ]
  },
  {
   "cell_type": "markdown",
   "metadata": {},
   "source": [
    "**duration vs fare**"
   ]
  },
  {
   "cell_type": "code",
   "execution_count": 70,
   "metadata": {},
   "outputs": [
    {
     "data": {
      "image/png": "[encoded data removed]",
      "text/plain": [
       "<Figure size 432x288 with 1 Axes>"
      ]
     },
     "metadata": {},
     "output_type": "display_data"
    }
   ],
   "source": [
    "clean_df.plot(x ='duration', y='fare', kind = 'scatter')\n",
    "plt.show()"
   ]
  },
  {
   "cell_type": "code",
   "execution_count": 71,
   "metadata": {},
   "outputs": [],
   "source": [
    "clean_df = clean_df[clean_df.duration < 300000]"
   ]
  },
  {
   "cell_type": "code",
   "execution_count": 72,
   "metadata": {},
   "outputs": [
    {
     "data": {
      "image/png": "[encoded data removed]",
      "text/plain": [
       "<Figure size 432x288 with 1 Axes>"
      ]
     },
     "metadata": {},
     "output_type": "display_data"
    }
   ],
   "source": [
    "clean_df.plot(x ='duration', y='fare', kind = 'scatter')\n",
    "plt.show()"
   ]
  },
  {
   "cell_type": "code",
   "execution_count": 73,
   "metadata": {},
   "outputs": [],
   "source": [
    "# clean_df[clean_df.label >=1].plot(x ='duration', y='fare', kind = 'scatter')\n",
    "# plt.show()"
   ]
  },
  {
   "cell_type": "code",
   "execution_count": 74,
   "metadata": {},
   "outputs": [],
   "source": [
    "# clean_df[clean_df.label >=1].plot(x ='duration', y='fare', kind = 'scatter')\n",
    "# plt.show()"
   ]
  },
  {
   "cell_type": "code",
   "execution_count": 75,
   "metadata": {},
   "outputs": [],
   "source": [
    "# clean_df[clean_df.label <1].plot(x ='duration', y='fare', kind = 'scatter')\n",
    "# plt.show()"
   ]
  },
  {
   "cell_type": "code",
   "execution_count": 76,
   "metadata": {},
   "outputs": [],
   "source": [
    "# clean_df[clean_df.fare>25000].head()"
   ]
  },
  {
   "cell_type": "markdown",
   "metadata": {},
   "source": [
    "**Plot Meter Waiting**"
   ]
  },
  {
   "cell_type": "code",
   "execution_count": 77,
   "metadata": {},
   "outputs": [
    {
     "data": {
      "image/png": "[encoded data removed]",
      "text/plain": [
       "<Figure size 432x288 with 1 Axes>"
      ]
     },
     "metadata": {},
     "output_type": "display_data"
    }
   ],
   "source": [
    "clean_df.plot(x ='meter_waiting', y='meter_waiting_fare', kind = 'scatter')\n",
    "plt.show()"
   ]
  },
  {
   "cell_type": "code",
   "execution_count": 78,
   "metadata": {},
   "outputs": [
    {
     "data": {
      "text/plain": [
       "0.9988898139800396"
      ]
     },
     "execution_count": 78,
     "metadata": {},
     "output_type": "execute_result"
    }
   ],
   "source": [
    "# Phi Coefficient is the same as Pearson for two binary variables\n",
    "(clean_df[\"meter_waiting\"]\n",
    "     .corr(clean_df[\"meter_waiting_fare\"], method=\"pearson\")\n",
    ")"
   ]
  },
  {
   "cell_type": "code",
   "execution_count": 79,
   "metadata": {},
   "outputs": [
    {
     "data": {
      "image/png": "[encoded data removed]",
      "text/plain": [
       "<Figure size 432x288 with 1 Axes>"
      ]
     },
     "metadata": {},
     "output_type": "display_data"
    }
   ],
   "source": [
    "clean_df.plot(x ='meter_waiting', y='fare', kind = 'scatter')\n",
    "plt.show()"
   ]
  },
  {
   "cell_type": "code",
   "execution_count": 80,
   "metadata": {},
   "outputs": [],
   "source": [
    "# clean_df[clean_df.label>=1].plot(x ='meter_waiting', y='fare', kind = 'scatter')\n",
    "# plt.show()"
   ]
  },
  {
   "cell_type": "code",
   "execution_count": 81,
   "metadata": {},
   "outputs": [],
   "source": [
    "# clean_df[clean_df.label<1].plot(x ='meter_waiting', y='fare', kind = 'scatter')\n",
    "# plt.show()"
   ]
  },
  {
   "cell_type": "markdown",
   "metadata": {},
   "source": [
    "**meter_waiting_time vs fare**"
   ]
  },
  {
   "cell_type": "code",
   "execution_count": 82,
   "metadata": {},
   "outputs": [
    {
     "data": {
      "image/png": "[encoded data removed]",
      "text/plain": [
       "<Figure size 432x288 with 1 Axes>"
      ]
     },
     "metadata": {},
     "output_type": "display_data"
    }
   ],
   "source": [
    "clean_df.plot(x ='meter_waiting_fare', y='fare', kind = 'scatter')\n",
    "plt.show()"
   ]
  },
  {
   "cell_type": "code",
   "execution_count": 83,
   "metadata": {},
   "outputs": [],
   "source": [
    "# clean_df[clean_df.label>=1].plot(x ='meter_waiting_fare', y='fare', kind = 'scatter')\n",
    "# plt.show()"
   ]
  },
  {
   "cell_type": "code",
   "execution_count": 84,
   "metadata": {},
   "outputs": [],
   "source": [
    "# clean_df[clean_df.label<1].plot(x ='meter_waiting_fare', y='fare', kind = 'scatter')\n",
    "# plt.show()"
   ]
  },
  {
   "cell_type": "markdown",
   "metadata": {},
   "source": [
    "**euc_distance vs fare**"
   ]
  },
  {
   "cell_type": "code",
   "execution_count": 85,
   "metadata": {},
   "outputs": [
    {
     "data": {
      "image/png": "[encoded data removed]",
      "text/plain": [
       "<Figure size 432x288 with 1 Axes>"
      ]
     },
     "metadata": {},
     "output_type": "display_data"
    }
   ],
   "source": [
    "clean_df.plot(x ='euc_distance', y='fare', kind = 'scatter')\n",
    "plt.show()"
   ]
  },
  {
   "cell_type": "code",
   "execution_count": 86,
   "metadata": {},
   "outputs": [],
   "source": [
    "clean_df = clean_df[clean_df.euc_distance<10]\n",
    "# clean_df = clean_df[clean_df.euc_distance<1000]"
   ]
  },
  {
   "cell_type": "code",
   "execution_count": 87,
   "metadata": {},
   "outputs": [
    {
     "data": {
      "image/png": "[encoded data removed]",
      "text/plain": [
       "<Figure size 432x288 with 1 Axes>"
      ]
     },
     "metadata": {},
     "output_type": "display_data"
    }
   ],
   "source": [
    "clean_df.plot(x ='euc_distance', y='fare', kind = 'scatter')\n",
    "plt.show()"
   ]
  },
  {
   "cell_type": "code",
   "execution_count": 88,
   "metadata": {},
   "outputs": [],
   "source": [
    "clean_df = clean_df[clean_df.euc_distance<0.6]\n",
    "# clean_df = clean_df[clean_df.euc_distance<65]"
   ]
  },
  {
   "cell_type": "code",
   "execution_count": 89,
   "metadata": {},
   "outputs": [
    {
     "data": {
      "image/png": "[encoded data removed]",
      "text/plain": [
       "<Figure size 432x288 with 1 Axes>"
      ]
     },
     "metadata": {},
     "output_type": "display_data"
    }
   ],
   "source": [
    "clean_df.plot(x ='euc_distance', y='fare', kind = 'scatter')\n",
    "plt.show()"
   ]
  },
  {
   "cell_type": "code",
   "execution_count": 90,
   "metadata": {},
   "outputs": [
    {
     "data": {
      "text/html": [
       "<div>\n",
       "<style scoped>\n",
       "    .dataframe tbody tr th:only-of-type {\n",
       "        vertical-align: middle;\n",
       "    }\n",
       "\n",
       "    .dataframe tbody tr th {\n",
       "        vertical-align: top;\n",
       "    }\n",
       "\n",
       "    .dataframe thead th {\n",
       "        text-align: right;\n",
       "    }\n",
       "</style>\n",
       "<table border=\"1\" class=\"dataframe\">\n",
       "  <thead>\n",
       "    <tr style=\"text-align: right;\">\n",
       "      <th></th>\n",
       "      <th>additional_fare</th>\n",
       "      <th>duration</th>\n",
       "      <th>meter_waiting</th>\n",
       "      <th>meter_waiting_fare</th>\n",
       "      <th>meter_waiting_till_pickup</th>\n",
       "      <th>fare</th>\n",
       "      <th>label</th>\n",
       "      <th>travel_time</th>\n",
       "      <th>euc_distance</th>\n",
       "    </tr>\n",
       "    <tr>\n",
       "      <th>tripid</th>\n",
       "      <th></th>\n",
       "      <th></th>\n",
       "      <th></th>\n",
       "      <th></th>\n",
       "      <th></th>\n",
       "      <th></th>\n",
       "      <th></th>\n",
       "      <th></th>\n",
       "      <th></th>\n",
       "    </tr>\n",
       "  </thead>\n",
       "  <tbody>\n",
       "    <tr>\n",
       "      <th>203475249</th>\n",
       "      <td>10.5</td>\n",
       "      <td>9271.0</td>\n",
       "      <td>790.0</td>\n",
       "      <td>45.662</td>\n",
       "      <td>115.0</td>\n",
       "      <td>2841.27</td>\n",
       "      <td>1</td>\n",
       "      <td>8481.0</td>\n",
       "      <td>0.528973</td>\n",
       "    </tr>\n",
       "    <tr>\n",
       "      <th>208649108</th>\n",
       "      <td>10.5</td>\n",
       "      <td>176620.0</td>\n",
       "      <td>176164.0</td>\n",
       "      <td>10173.378</td>\n",
       "      <td>10.0</td>\n",
       "      <td>13350.32</td>\n",
       "      <td>0</td>\n",
       "      <td>456.0</td>\n",
       "      <td>0.568757</td>\n",
       "    </tr>\n",
       "  </tbody>\n",
       "</table>\n",
       "</div>"
      ],
      "text/plain": [
       "           additional_fare  duration  meter_waiting  meter_waiting_fare  \\\n",
       "tripid                                                                    \n",
       "203475249             10.5    9271.0          790.0              45.662   \n",
       "208649108             10.5  176620.0       176164.0           10173.378   \n",
       "\n",
       "           meter_waiting_till_pickup      fare  label  travel_time  \\\n",
       "tripid                                                               \n",
       "203475249                      115.0   2841.27      1       8481.0   \n",
       "208649108                       10.0  13350.32      0        456.0   \n",
       "\n",
       "           euc_distance  \n",
       "tripid                   \n",
       "203475249      0.528973  \n",
       "208649108      0.568757  "
      ]
     },
     "execution_count": 90,
     "metadata": {},
     "output_type": "execute_result"
    }
   ],
   "source": [
    "clean_df[clean_df.euc_distance>0.5]"
   ]
  },
  {
   "cell_type": "code",
   "execution_count": 91,
   "metadata": {},
   "outputs": [],
   "source": [
    "# clean_df[clean_df.label>=1].plot(x ='euc_distance', y='fare', kind = 'scatter')\n",
    "# plt.show()"
   ]
  },
  {
   "cell_type": "code",
   "execution_count": 92,
   "metadata": {},
   "outputs": [],
   "source": [
    "# clean_df[clean_df.label<1].plot(x ='euc_distance', y='fare', kind = 'scatter')\n",
    "# plt.show()"
   ]
  },
  {
   "cell_type": "code",
   "execution_count": 93,
   "metadata": {},
   "outputs": [],
   "source": [
    "# clean_df[clean_df.euc_distance>50].head()"
   ]
  },
  {
   "cell_type": "markdown",
   "metadata": {},
   "source": [
    "Travel Time"
   ]
  },
  {
   "cell_type": "code",
   "execution_count": 94,
   "metadata": {},
   "outputs": [
    {
     "data": {
      "image/png": "[encoded data removed]",
      "text/plain": [
       "<Figure size 432x288 with 1 Axes>"
      ]
     },
     "metadata": {},
     "output_type": "display_data"
    }
   ],
   "source": [
    "clean_df.plot(x ='travel_time', y='fare', kind = 'scatter')\n",
    "plt.show()"
   ]
  },
  {
   "cell_type": "code",
   "execution_count": 95,
   "metadata": {},
   "outputs": [],
   "source": [
    "#clean_df = clean_df[clean_df.travel_time<25000]"
   ]
  },
  {
   "cell_type": "code",
   "execution_count": 96,
   "metadata": {},
   "outputs": [
    {
     "data": {
      "image/png": "[encoded data removed]",
      "text/plain": [
       "<Figure size 432x288 with 1 Axes>"
      ]
     },
     "metadata": {},
     "output_type": "display_data"
    }
   ],
   "source": [
    "clean_df.plot(x ='travel_time', y='euc_distance', kind = 'scatter')\n",
    "plt.show()"
   ]
  },
  {
   "cell_type": "code",
   "execution_count": 97,
   "metadata": {},
   "outputs": [],
   "source": [
    "# clean_df = clean_df[clean_df.meter_waiting_till_pickup<40000]\n",
    "# clean_df = clean_df[clean_df.additional_fare<2000]\n",
    "# clean_df = clean_df[clean_df.euc_distance<10]"
   ]
  },
  {
   "cell_type": "code",
   "execution_count": 98,
   "metadata": {},
   "outputs": [],
   "source": [
    "# clean_df.plot(x ='travel_time', y='travel_fare', kind = 'scatter')\n",
    "# plt.show()"
   ]
  },
  {
   "cell_type": "markdown",
   "metadata": {},
   "source": [
    "# Final Plot"
   ]
  },
  {
   "cell_type": "code",
   "execution_count": 99,
   "metadata": {},
   "outputs": [
    {
     "data": {
      "image/png": "[encoded data removed]",
      "text/plain": [
       "<Figure size 432x288 with 1 Axes>"
      ]
     },
     "metadata": {},
     "output_type": "display_data"
    }
   ],
   "source": [
    "clean_df.plot(x ='meter_waiting_till_pickup', y='fare', kind = 'scatter')\n",
    "plt.show()"
   ]
  },
  {
   "cell_type": "code",
   "execution_count": 100,
   "metadata": {},
   "outputs": [
    {
     "data": {
      "image/png": "[encoded data removed]",
      "text/plain": [
       "<Figure size 432x288 with 1 Axes>"
      ]
     },
     "metadata": {},
     "output_type": "display_data"
    }
   ],
   "source": [
    "clean_df.plot(x ='meter_waiting_till_pickup', y='additional_fare', kind = 'scatter')\n",
    "plt.show()"
   ]
  },
  {
   "cell_type": "code",
   "execution_count": 101,
   "metadata": {},
   "outputs": [],
   "source": [
    "#clean_df[clean_df.meter_waiting_till_pickup>6000].head()"
   ]
  },
  {
   "cell_type": "code",
   "execution_count": 102,
   "metadata": {},
   "outputs": [
    {
     "data": {
      "image/png": "[encoded data removed]",
      "text/plain": [
       "<Figure size 432x288 with 1 Axes>"
      ]
     },
     "metadata": {},
     "output_type": "display_data"
    }
   ],
   "source": [
    "clean_df.plot(x ='additional_fare', y='fare', kind = 'scatter')\n",
    "plt.show()"
   ]
  },
  {
   "cell_type": "code",
   "execution_count": 103,
   "metadata": {},
   "outputs": [],
   "source": [
    "#clean_df = clean_df[clean_df.fare<10000]"
   ]
  },
  {
   "cell_type": "code",
   "execution_count": 104,
   "metadata": {},
   "outputs": [
    {
     "data": {
      "image/png": "[encoded data removed]",
      "text/plain": [
       "<Figure size 432x288 with 1 Axes>"
      ]
     },
     "metadata": {},
     "output_type": "display_data"
    }
   ],
   "source": [
    "clean_df.plot(x ='duration', y='fare', kind = 'scatter')\n",
    "plt.show()"
   ]
  },
  {
   "cell_type": "code",
   "execution_count": 105,
   "metadata": {},
   "outputs": [
    {
     "data": {
      "image/png": "[encoded data removed]",
      "text/plain": [
       "<Figure size 432x288 with 1 Axes>"
      ]
     },
     "metadata": {},
     "output_type": "display_data"
    }
   ],
   "source": [
    "clean_df.plot(x ='meter_waiting', y='fare', kind = 'scatter')\n",
    "plt.show()"
   ]
  },
  {
   "cell_type": "markdown",
   "metadata": {},
   "source": [
    "**euc_distance vs fare**"
   ]
  },
  {
   "cell_type": "code",
   "execution_count": 106,
   "metadata": {},
   "outputs": [
    {
     "data": {
      "image/png": "[encoded data removed]",
      "text/plain": [
       "<Figure size 432x288 with 1 Axes>"
      ]
     },
     "metadata": {},
     "output_type": "display_data"
    }
   ],
   "source": [
    "clean_df.plot(x ='euc_distance', y='fare', kind = 'scatter')\n",
    "plt.show()"
   ]
  },
  {
   "cell_type": "code",
   "execution_count": 107,
   "metadata": {},
   "outputs": [
    {
     "data": {
      "image/png": "[encoded data removed]",
      "text/plain": [
       "<Figure size 432x288 with 1 Axes>"
      ]
     },
     "metadata": {},
     "output_type": "display_data"
    }
   ],
   "source": [
    "clean_df.plot(x ='euc_distance', y='duration', kind = 'scatter')\n",
    "plt.show()"
   ]
  },
  {
   "cell_type": "code",
   "execution_count": 108,
   "metadata": {},
   "outputs": [
    {
     "data": {
      "image/png": "[encoded data removed]",
      "text/plain": [
       "<Figure size 432x288 with 1 Axes>"
      ]
     },
     "metadata": {},
     "output_type": "display_data"
    }
   ],
   "source": [
    "clean_df.plot(x ='travel_time', y='duration', kind = 'scatter')\n",
    "plt.show()"
   ]
  },
  {
   "cell_type": "code",
   "execution_count": 109,
   "metadata": {},
   "outputs": [
    {
     "data": {
      "text/html": [
       "<div>\n",
       "<style scoped>\n",
       "    .dataframe tbody tr th:only-of-type {\n",
       "        vertical-align: middle;\n",
       "    }\n",
       "\n",
       "    .dataframe tbody tr th {\n",
       "        vertical-align: top;\n",
       "    }\n",
       "\n",
       "    .dataframe thead th {\n",
       "        text-align: right;\n",
       "    }\n",
       "</style>\n",
       "<table border=\"1\" class=\"dataframe\">\n",
       "  <thead>\n",
       "    <tr style=\"text-align: right;\">\n",
       "      <th></th>\n",
       "      <th>additional_fare</th>\n",
       "      <th>duration</th>\n",
       "      <th>meter_waiting</th>\n",
       "      <th>meter_waiting_fare</th>\n",
       "      <th>meter_waiting_till_pickup</th>\n",
       "      <th>fare</th>\n",
       "      <th>label</th>\n",
       "      <th>travel_time</th>\n",
       "      <th>euc_distance</th>\n",
       "    </tr>\n",
       "    <tr>\n",
       "      <th>tripid</th>\n",
       "      <th></th>\n",
       "      <th></th>\n",
       "      <th></th>\n",
       "      <th></th>\n",
       "      <th></th>\n",
       "      <th></th>\n",
       "      <th></th>\n",
       "      <th></th>\n",
       "      <th></th>\n",
       "    </tr>\n",
       "  </thead>\n",
       "  <tbody>\n",
       "    <tr>\n",
       "      <th>191056435</th>\n",
       "      <td>10.5</td>\n",
       "      <td>80.0</td>\n",
       "      <td>80.0</td>\n",
       "      <td>0.0000</td>\n",
       "      <td>51288.0</td>\n",
       "      <td>60.50</td>\n",
       "      <td>1</td>\n",
       "      <td>0.0</td>\n",
       "      <td>0.014278</td>\n",
       "    </tr>\n",
       "    <tr>\n",
       "      <th>193653017</th>\n",
       "      <td>0.0</td>\n",
       "      <td>1560.0</td>\n",
       "      <td>0.0</td>\n",
       "      <td>0.0000</td>\n",
       "      <td>540.0</td>\n",
       "      <td>0.00</td>\n",
       "      <td>0</td>\n",
       "      <td>0.0</td>\n",
       "      <td>0.000172</td>\n",
       "    </tr>\n",
       "    <tr>\n",
       "      <th>195445714</th>\n",
       "      <td>10.5</td>\n",
       "      <td>27.0</td>\n",
       "      <td>27.0</td>\n",
       "      <td>0.0000</td>\n",
       "      <td>85.0</td>\n",
       "      <td>60.50</td>\n",
       "      <td>0</td>\n",
       "      <td>0.0</td>\n",
       "      <td>0.018963</td>\n",
       "    </tr>\n",
       "    <tr>\n",
       "      <th>197020223</th>\n",
       "      <td>10.5</td>\n",
       "      <td>49.0</td>\n",
       "      <td>49.0</td>\n",
       "      <td>2.8567</td>\n",
       "      <td>30.0</td>\n",
       "      <td>63.35</td>\n",
       "      <td>1</td>\n",
       "      <td>0.0</td>\n",
       "      <td>0.000010</td>\n",
       "    </tr>\n",
       "    <tr>\n",
       "      <th>197271380</th>\n",
       "      <td>10.5</td>\n",
       "      <td>29.0</td>\n",
       "      <td>29.0</td>\n",
       "      <td>0.0000</td>\n",
       "      <td>67.0</td>\n",
       "      <td>507.22</td>\n",
       "      <td>0</td>\n",
       "      <td>0.0</td>\n",
       "      <td>0.108635</td>\n",
       "    </tr>\n",
       "    <tr>\n",
       "      <th>197546607</th>\n",
       "      <td>10.5</td>\n",
       "      <td>28.0</td>\n",
       "      <td>28.0</td>\n",
       "      <td>0.0000</td>\n",
       "      <td>132.0</td>\n",
       "      <td>60.50</td>\n",
       "      <td>0</td>\n",
       "      <td>0.0</td>\n",
       "      <td>0.084772</td>\n",
       "    </tr>\n",
       "    <tr>\n",
       "      <th>199104080</th>\n",
       "      <td>21.0</td>\n",
       "      <td>49.0</td>\n",
       "      <td>49.0</td>\n",
       "      <td>2.8567</td>\n",
       "      <td>681.0</td>\n",
       "      <td>83.74</td>\n",
       "      <td>0</td>\n",
       "      <td>0.0</td>\n",
       "      <td>0.000969</td>\n",
       "    </tr>\n",
       "    <tr>\n",
       "      <th>200235706</th>\n",
       "      <td>10.5</td>\n",
       "      <td>53.0</td>\n",
       "      <td>53.0</td>\n",
       "      <td>3.0899</td>\n",
       "      <td>4620.0</td>\n",
       "      <td>63.47</td>\n",
       "      <td>0</td>\n",
       "      <td>0.0</td>\n",
       "      <td>0.020280</td>\n",
       "    </tr>\n",
       "    <tr>\n",
       "      <th>203915670</th>\n",
       "      <td>10.5</td>\n",
       "      <td>1300.0</td>\n",
       "      <td>1300.0</td>\n",
       "      <td>0.0000</td>\n",
       "      <td>688.0</td>\n",
       "      <td>60.50</td>\n",
       "      <td>0</td>\n",
       "      <td>0.0</td>\n",
       "      <td>0.008285</td>\n",
       "    </tr>\n",
       "    <tr>\n",
       "      <th>211275614</th>\n",
       "      <td>10.5</td>\n",
       "      <td>61.0</td>\n",
       "      <td>61.0</td>\n",
       "      <td>0.0000</td>\n",
       "      <td>115.0</td>\n",
       "      <td>60.50</td>\n",
       "      <td>0</td>\n",
       "      <td>0.0</td>\n",
       "      <td>0.040393</td>\n",
       "    </tr>\n",
       "    <tr>\n",
       "      <th>211428449</th>\n",
       "      <td>10.5</td>\n",
       "      <td>39.0</td>\n",
       "      <td>39.0</td>\n",
       "      <td>2.2737</td>\n",
       "      <td>4092.0</td>\n",
       "      <td>62.77</td>\n",
       "      <td>0</td>\n",
       "      <td>0.0</td>\n",
       "      <td>0.000737</td>\n",
       "    </tr>\n",
       "    <tr>\n",
       "      <th>212290406</th>\n",
       "      <td>10.5</td>\n",
       "      <td>38.0</td>\n",
       "      <td>38.0</td>\n",
       "      <td>0.0000</td>\n",
       "      <td>8.0</td>\n",
       "      <td>60.50</td>\n",
       "      <td>0</td>\n",
       "      <td>0.0</td>\n",
       "      <td>0.002382</td>\n",
       "    </tr>\n",
       "    <tr>\n",
       "      <th>213112837</th>\n",
       "      <td>0.0</td>\n",
       "      <td>1380.0</td>\n",
       "      <td>0.0</td>\n",
       "      <td>0.0000</td>\n",
       "      <td>973.0</td>\n",
       "      <td>0.00</td>\n",
       "      <td>0</td>\n",
       "      <td>0.0</td>\n",
       "      <td>0.007593</td>\n",
       "    </tr>\n",
       "  </tbody>\n",
       "</table>\n",
       "</div>"
      ],
      "text/plain": [
       "           additional_fare  duration  meter_waiting  meter_waiting_fare  \\\n",
       "tripid                                                                    \n",
       "191056435             10.5      80.0           80.0              0.0000   \n",
       "193653017              0.0    1560.0            0.0              0.0000   \n",
       "195445714             10.5      27.0           27.0              0.0000   \n",
       "197020223             10.5      49.0           49.0              2.8567   \n",
       "197271380             10.5      29.0           29.0              0.0000   \n",
       "197546607             10.5      28.0           28.0              0.0000   \n",
       "199104080             21.0      49.0           49.0              2.8567   \n",
       "200235706             10.5      53.0           53.0              3.0899   \n",
       "203915670             10.5    1300.0         1300.0              0.0000   \n",
       "211275614             10.5      61.0           61.0              0.0000   \n",
       "211428449             10.5      39.0           39.0              2.2737   \n",
       "212290406             10.5      38.0           38.0              0.0000   \n",
       "213112837              0.0    1380.0            0.0              0.0000   \n",
       "\n",
       "           meter_waiting_till_pickup    fare  label  travel_time  euc_distance  \n",
       "tripid                                                                          \n",
       "191056435                    51288.0   60.50      1          0.0      0.014278  \n",
       "193653017                      540.0    0.00      0          0.0      0.000172  \n",
       "195445714                       85.0   60.50      0          0.0      0.018963  \n",
       "197020223                       30.0   63.35      1          0.0      0.000010  \n",
       "197271380                       67.0  507.22      0          0.0      0.108635  \n",
       "197546607                      132.0   60.50      0          0.0      0.084772  \n",
       "199104080                      681.0   83.74      0          0.0      0.000969  \n",
       "200235706                     4620.0   63.47      0          0.0      0.020280  \n",
       "203915670                      688.0   60.50      0          0.0      0.008285  \n",
       "211275614                      115.0   60.50      0          0.0      0.040393  \n",
       "211428449                     4092.0   62.77      0          0.0      0.000737  \n",
       "212290406                        8.0   60.50      0          0.0      0.002382  \n",
       "213112837                      973.0    0.00      0          0.0      0.007593  "
      ]
     },
     "execution_count": 109,
     "metadata": {},
     "output_type": "execute_result"
    }
   ],
   "source": [
    "clean_df[clean_df.travel_time<1]"
   ]
  },
  {
   "cell_type": "code",
   "execution_count": 110,
   "metadata": {},
   "outputs": [],
   "source": [
    "#clean_df = clean_df.drop(['meter_waiting'],axis='columns')"
   ]
  },
  {
   "cell_type": "code",
   "execution_count": 111,
   "metadata": {},
   "outputs": [
    {
     "data": {
      "text/html": [
       "<div>\n",
       "<style scoped>\n",
       "    .dataframe tbody tr th:only-of-type {\n",
       "        vertical-align: middle;\n",
       "    }\n",
       "\n",
       "    .dataframe tbody tr th {\n",
       "        vertical-align: top;\n",
       "    }\n",
       "\n",
       "    .dataframe thead th {\n",
       "        text-align: right;\n",
       "    }\n",
       "</style>\n",
       "<table border=\"1\" class=\"dataframe\">\n",
       "  <thead>\n",
       "    <tr style=\"text-align: right;\">\n",
       "      <th></th>\n",
       "      <th>additional_fare</th>\n",
       "      <th>duration</th>\n",
       "      <th>meter_waiting</th>\n",
       "      <th>meter_waiting_fare</th>\n",
       "      <th>meter_waiting_till_pickup</th>\n",
       "      <th>fare</th>\n",
       "      <th>label</th>\n",
       "      <th>travel_time</th>\n",
       "      <th>euc_distance</th>\n",
       "    </tr>\n",
       "  </thead>\n",
       "  <tbody>\n",
       "    <tr>\n",
       "      <th>count</th>\n",
       "      <td>16950.000000</td>\n",
       "      <td>16950.000000</td>\n",
       "      <td>16950.000000</td>\n",
       "      <td>16950.000000</td>\n",
       "      <td>16950.000000</td>\n",
       "      <td>16950.000000</td>\n",
       "      <td>16950.000000</td>\n",
       "      <td>16950.000000</td>\n",
       "      <td>16950.000000</td>\n",
       "    </tr>\n",
       "    <tr>\n",
       "      <th>mean</th>\n",
       "      <td>12.894425</td>\n",
       "      <td>1575.675162</td>\n",
       "      <td>493.714159</td>\n",
       "      <td>24.307048</td>\n",
       "      <td>112.331563</td>\n",
       "      <td>302.428243</td>\n",
       "      <td>0.910678</td>\n",
       "      <td>1081.804720</td>\n",
       "      <td>0.040708</td>\n",
       "    </tr>\n",
       "    <tr>\n",
       "      <th>std</th>\n",
       "      <td>12.240942</td>\n",
       "      <td>4254.457486</td>\n",
       "      <td>3890.196636</td>\n",
       "      <td>224.832832</td>\n",
       "      <td>441.912639</td>\n",
       "      <td>385.174152</td>\n",
       "      <td>0.285216</td>\n",
       "      <td>1081.432484</td>\n",
       "      <td>0.040630</td>\n",
       "    </tr>\n",
       "    <tr>\n",
       "      <th>min</th>\n",
       "      <td>0.000000</td>\n",
       "      <td>22.000000</td>\n",
       "      <td>0.000000</td>\n",
       "      <td>0.000000</td>\n",
       "      <td>0.000000</td>\n",
       "      <td>0.000000</td>\n",
       "      <td>0.000000</td>\n",
       "      <td>0.000000</td>\n",
       "      <td>0.000000</td>\n",
       "    </tr>\n",
       "    <tr>\n",
       "      <th>25%</th>\n",
       "      <td>10.500000</td>\n",
       "      <td>548.000000</td>\n",
       "      <td>33.000000</td>\n",
       "      <td>0.000000</td>\n",
       "      <td>26.000000</td>\n",
       "      <td>125.485000</td>\n",
       "      <td>1.000000</td>\n",
       "      <td>446.000000</td>\n",
       "      <td>0.013412</td>\n",
       "    </tr>\n",
       "    <tr>\n",
       "      <th>50%</th>\n",
       "      <td>10.500000</td>\n",
       "      <td>1009.000000</td>\n",
       "      <td>123.000000</td>\n",
       "      <td>0.115600</td>\n",
       "      <td>73.000000</td>\n",
       "      <td>210.805000</td>\n",
       "      <td>1.000000</td>\n",
       "      <td>811.000000</td>\n",
       "      <td>0.029033</td>\n",
       "    </tr>\n",
       "    <tr>\n",
       "      <th>75%</th>\n",
       "      <td>10.500000</td>\n",
       "      <td>1799.750000</td>\n",
       "      <td>350.000000</td>\n",
       "      <td>14.225200</td>\n",
       "      <td>144.000000</td>\n",
       "      <td>365.327500</td>\n",
       "      <td>1.000000</td>\n",
       "      <td>1401.750000</td>\n",
       "      <td>0.055431</td>\n",
       "    </tr>\n",
       "    <tr>\n",
       "      <th>max</th>\n",
       "      <td>111.000000</td>\n",
       "      <td>183996.000000</td>\n",
       "      <td>183756.000000</td>\n",
       "      <td>10591.618800</td>\n",
       "      <td>51288.000000</td>\n",
       "      <td>13350.320000</td>\n",
       "      <td>1.000000</td>\n",
       "      <td>33104.000000</td>\n",
       "      <td>0.568757</td>\n",
       "    </tr>\n",
       "  </tbody>\n",
       "</table>\n",
       "</div>"
      ],
      "text/plain": [
       "       additional_fare       duration  meter_waiting  meter_waiting_fare  \\\n",
       "count     16950.000000   16950.000000   16950.000000        16950.000000   \n",
       "mean         12.894425    1575.675162     493.714159           24.307048   \n",
       "std          12.240942    4254.457486    3890.196636          224.832832   \n",
       "min           0.000000      22.000000       0.000000            0.000000   \n",
       "25%          10.500000     548.000000      33.000000            0.000000   \n",
       "50%          10.500000    1009.000000     123.000000            0.115600   \n",
       "75%          10.500000    1799.750000     350.000000           14.225200   \n",
       "max         111.000000  183996.000000  183756.000000        10591.618800   \n",
       "\n",
       "       meter_waiting_till_pickup          fare         label   travel_time  \\\n",
       "count               16950.000000  16950.000000  16950.000000  16950.000000   \n",
       "mean                  112.331563    302.428243      0.910678   1081.804720   \n",
       "std                   441.912639    385.174152      0.285216   1081.432484   \n",
       "min                     0.000000      0.000000      0.000000      0.000000   \n",
       "25%                    26.000000    125.485000      1.000000    446.000000   \n",
       "50%                    73.000000    210.805000      1.000000    811.000000   \n",
       "75%                   144.000000    365.327500      1.000000   1401.750000   \n",
       "max                 51288.000000  13350.320000      1.000000  33104.000000   \n",
       "\n",
       "       euc_distance  \n",
       "count  16950.000000  \n",
       "mean       0.040708  \n",
       "std        0.040630  \n",
       "min        0.000000  \n",
       "25%        0.013412  \n",
       "50%        0.029033  \n",
       "75%        0.055431  \n",
       "max        0.568757  "
      ]
     },
     "execution_count": 111,
     "metadata": {},
     "output_type": "execute_result"
    }
   ],
   "source": [
    "clean_df.describe()"
   ]
  },
  {
   "cell_type": "markdown",
   "metadata": {},
   "source": [
    "# **Model Selection Using Cross Validation**"
   ]
  },
  {
   "cell_type": "code",
   "execution_count": 112,
   "metadata": {},
   "outputs": [],
   "source": [
    "clean_df = clean_df.drop(['meter_waiting_till_pickup'],axis='columns')"
   ]
  },
  {
   "cell_type": "code",
   "execution_count": 113,
   "metadata": {},
   "outputs": [
    {
     "data": {
      "text/plain": [
       "tripid\n",
       "189123628    1\n",
       "189125358    1\n",
       "189125719    1\n",
       "189127273    1\n",
       "189129552    1\n",
       "Name: label, dtype: int64"
      ]
     },
     "execution_count": 113,
     "metadata": {},
     "output_type": "execute_result"
    }
   ],
   "source": [
    "X_train = clean_df.drop(['label'],axis='columns')\n",
    "Y_train = clean_df['label']\n",
    "Y_train.head()"
   ]
  },
  {
   "cell_type": "code",
   "execution_count": 114,
   "metadata": {},
   "outputs": [],
   "source": [
    "scaler = StandardScaler()\n",
    "#scaler = MinMaxScaler()\n",
    "#scalar=PCA()\n",
    "\n",
    "X_train = scaler.fit_transform(X_train)"
   ]
  },
  {
   "cell_type": "code",
   "execution_count": 115,
   "metadata": {},
   "outputs": [],
   "source": [
    "kfold = StratifiedKFold(n_splits=10)"
   ]
  },
  {
   "cell_type": "code",
   "execution_count": 116,
   "metadata": {},
   "outputs": [],
   "source": [
    "random_state = 2"
   ]
  },
  {
   "cell_type": "code",
   "execution_count": 117,
   "metadata": {},
   "outputs": [],
   "source": [
    "# #upsampling method\n",
    "\n",
    "# example_params = {\n",
    "#         #'n_estimators': 100,\n",
    "#         #'max_depth': 5,\n",
    "#         #'random_state': 13\n",
    "#     }\n",
    "\n",
    "# def score_model(model, params, cv=None):\n",
    "#     \"\"\"\n",
    "#     Creates folds manually, and upsamples within each fold.\n",
    "#     Returns an array of validation (recall) scores\n",
    "#     \"\"\"\n",
    "#     if cv is None:\n",
    "#         cv = KFold(n_splits=10, random_state=42)\n",
    "\n",
    "#     smoter = SMOTE(random_state=42)\n",
    "    \n",
    "#     scores = []\n",
    "\n",
    "#     for train_fold_index, val_fold_index in cv.split(X_train, Y_train):\n",
    "#         # Get the training data\n",
    "#         X_train_fold, y_train_fold = X_train[train_fold_index], Y_train[train_fold_index]\n",
    "#         # Get the validation data\n",
    "#         X_val_fold, y_val_fold = X_train[val_fold_index], Y_train[val_fold_index]\n",
    "\n",
    "#         # Upsample only the data in the training section\n",
    "#         X_train_fold_upsample, y_train_fold_upsample = smoter.fit_resample(X_train_fold,y_train_fold)\n",
    "#         # Fit the model on the upsampled training data\n",
    "#         model_obj = model.fit(X_train_fold_upsample, y_train_fold_upsample)\n",
    "#         # Score the model on the (non-upsampled) validation data\n",
    "#         score = f1_score(y_val_fold, model_obj.predict(X_val_fold))\n",
    "#         scores.append(score)\n",
    "#     return np.array(scores)"
   ]
  },
  {
   "cell_type": "code",
   "execution_count": 118,
   "metadata": {},
   "outputs": [],
   "source": [
    "classifiers = []\n",
    "classifiers.append(XGBClassifier())\n",
    "classifiers.append(SVC(random_state=random_state))\n",
    "classifiers.append(DecisionTreeClassifier(random_state=random_state))\n",
    "classifiers.append(AdaBoostClassifier(DecisionTreeClassifier(random_state=random_state),random_state=random_state,learning_rate=0.1))\n",
    "classifiers.append(RandomForestClassifier(random_state=random_state))\n",
    "classifiers.append(ExtraTreesClassifier(random_state=random_state))\n",
    "classifiers.append(RidgeClassifier())\n",
    "classifiers.append(GradientBoostingClassifier(random_state=random_state))\n",
    "classifiers.append(MLPClassifier(random_state=random_state))\n",
    "classifiers.append(KNeighborsClassifier())\n",
    "classifiers.append(LogisticRegression(random_state = random_state))\n",
    "classifiers.append(LinearDiscriminantAnalysis())\n",
    "classifiers.append(naive_bayes.BernoulliNB())\n",
    "classifiers.append(naive_bayes.GaussianNB())\n",
    "classifiers.append(SGDClassifier())\n",
    "# classifiers.append(RadiusNeighborsClassifier())\n",
    "classifiers.append(BaggingClassifier(random_state=random_state))\n",
    "\n",
    "\n",
    "cv_results = []\n",
    "for classifier in classifiers :\n",
    "    cv_results.append(cross_val_score(classifier, X_train, y = Y_train, scoring = 'f1', cv = kfold, n_jobs=4)) #without upsampling\n",
    "    #cv_results.append(score_model(classifier, example_params, cv=None))  #with upsampling\n",
    "#     imba_pipeline = make_pipeline(SMOTE(random_state=42), classifier)\n",
    "#     cv_results.append(cross_val_score(imba_pipeline, X_train, y =Y_train, scoring='f1', cv=kfold, n_jobs=4))\n",
    "\n",
    "cv_means = []\n",
    "cv_std = []\n",
    "for cv_result in cv_results:\n",
    "    cv_means.append(cv_result.mean())\n",
    "    cv_std.append(cv_result.std())"
   ]
  },
  {
   "cell_type": "code",
   "execution_count": 119,
   "metadata": {},
   "outputs": [],
   "source": [
    "cv_res = pd.DataFrame({\"CrossValMeans\":cv_means,\"CrossValerrors\": cv_std,\"Algorithm\":[\"XGB\",\"SVC\",\"DecisionTree\",\"AdaBoost\",\n",
    "\"RandomForest\",\"ExtraTrees\", \"RidgeRegression\",\"GradientBoosting\",\"MultipleLayerPerceptron\",\"KNeighboors\",\"LogisticRegression\",\n",
    "\"LinearDiscriminantAnalysis\",\"BNB\",\"GNB\",\"SGDClassifier\",\"BaggingClassifier\"]}) \n",
    "#\"RadiusNeighborsClassifier\""
   ]
  },
  {
   "cell_type": "code",
   "execution_count": 120,
   "metadata": {},
   "outputs": [
    {
     "data": {
      "text/html": [
       "<div>\n",
       "<style scoped>\n",
       "    .dataframe tbody tr th:only-of-type {\n",
       "        vertical-align: middle;\n",
       "    }\n",
       "\n",
       "    .dataframe tbody tr th {\n",
       "        vertical-align: top;\n",
       "    }\n",
       "\n",
       "    .dataframe thead th {\n",
       "        text-align: right;\n",
       "    }\n",
       "</style>\n",
       "<table border=\"1\" class=\"dataframe\">\n",
       "  <thead>\n",
       "    <tr style=\"text-align: right;\">\n",
       "      <th></th>\n",
       "      <th>CrossValMeans</th>\n",
       "      <th>CrossValerrors</th>\n",
       "      <th>Algorithm</th>\n",
       "    </tr>\n",
       "  </thead>\n",
       "  <tbody>\n",
       "    <tr>\n",
       "      <th>0</th>\n",
       "      <td>0.975037</td>\n",
       "      <td>0.004223</td>\n",
       "      <td>XGB</td>\n",
       "    </tr>\n",
       "    <tr>\n",
       "      <th>1</th>\n",
       "      <td>0.971016</td>\n",
       "      <td>0.002410</td>\n",
       "      <td>SVC</td>\n",
       "    </tr>\n",
       "    <tr>\n",
       "      <th>2</th>\n",
       "      <td>0.960443</td>\n",
       "      <td>0.003441</td>\n",
       "      <td>DecisionTree</td>\n",
       "    </tr>\n",
       "    <tr>\n",
       "      <th>3</th>\n",
       "      <td>0.961521</td>\n",
       "      <td>0.003735</td>\n",
       "      <td>AdaBoost</td>\n",
       "    </tr>\n",
       "    <tr>\n",
       "      <th>4</th>\n",
       "      <td>0.975392</td>\n",
       "      <td>0.003390</td>\n",
       "      <td>RandomForest</td>\n",
       "    </tr>\n",
       "    <tr>\n",
       "      <th>5</th>\n",
       "      <td>0.974820</td>\n",
       "      <td>0.004564</td>\n",
       "      <td>ExtraTrees</td>\n",
       "    </tr>\n",
       "    <tr>\n",
       "      <th>6</th>\n",
       "      <td>0.955326</td>\n",
       "      <td>0.001136</td>\n",
       "      <td>RidgeRegression</td>\n",
       "    </tr>\n",
       "    <tr>\n",
       "      <th>7</th>\n",
       "      <td>0.972438</td>\n",
       "      <td>0.002778</td>\n",
       "      <td>GradientBoosting</td>\n",
       "    </tr>\n",
       "    <tr>\n",
       "      <th>8</th>\n",
       "      <td>0.975875</td>\n",
       "      <td>0.002847</td>\n",
       "      <td>MultipleLayerPerceptron</td>\n",
       "    </tr>\n",
       "    <tr>\n",
       "      <th>9</th>\n",
       "      <td>0.974958</td>\n",
       "      <td>0.003592</td>\n",
       "      <td>KNeighboors</td>\n",
       "    </tr>\n",
       "    <tr>\n",
       "      <th>10</th>\n",
       "      <td>0.958814</td>\n",
       "      <td>0.001352</td>\n",
       "      <td>LogisticRegression</td>\n",
       "    </tr>\n",
       "    <tr>\n",
       "      <th>11</th>\n",
       "      <td>0.958436</td>\n",
       "      <td>0.001374</td>\n",
       "      <td>LinearDiscriminantAnalysis</td>\n",
       "    </tr>\n",
       "    <tr>\n",
       "      <th>12</th>\n",
       "      <td>0.949102</td>\n",
       "      <td>0.002492</td>\n",
       "      <td>BNB</td>\n",
       "    </tr>\n",
       "    <tr>\n",
       "      <th>13</th>\n",
       "      <td>0.946542</td>\n",
       "      <td>0.003118</td>\n",
       "      <td>GNB</td>\n",
       "    </tr>\n",
       "    <tr>\n",
       "      <th>14</th>\n",
       "      <td>0.959450</td>\n",
       "      <td>0.002070</td>\n",
       "      <td>SGDClassifier</td>\n",
       "    </tr>\n",
       "    <tr>\n",
       "      <th>15</th>\n",
       "      <td>0.973601</td>\n",
       "      <td>0.003358</td>\n",
       "      <td>BaggingClassifier</td>\n",
       "    </tr>\n",
       "  </tbody>\n",
       "</table>\n",
       "</div>"
      ],
      "text/plain": [
       "    CrossValMeans  CrossValerrors                   Algorithm\n",
       "0        0.975037        0.004223                         XGB\n",
       "1        0.971016        0.002410                         SVC\n",
       "2        0.960443        0.003441                DecisionTree\n",
       "3        0.961521        0.003735                    AdaBoost\n",
       "4        0.975392        0.003390                RandomForest\n",
       "5        0.974820        0.004564                  ExtraTrees\n",
       "6        0.955326        0.001136             RidgeRegression\n",
       "7        0.972438        0.002778            GradientBoosting\n",
       "8        0.975875        0.002847     MultipleLayerPerceptron\n",
       "9        0.974958        0.003592                 KNeighboors\n",
       "10       0.958814        0.001352          LogisticRegression\n",
       "11       0.958436        0.001374  LinearDiscriminantAnalysis\n",
       "12       0.949102        0.002492                         BNB\n",
       "13       0.946542        0.003118                         GNB\n",
       "14       0.959450        0.002070               SGDClassifier\n",
       "15       0.973601        0.003358           BaggingClassifier"
      ]
     },
     "execution_count": 120,
     "metadata": {},
     "output_type": "execute_result"
    }
   ],
   "source": [
    "cv_res"
   ]
  },
  {
   "cell_type": "code",
   "execution_count": 121,
   "metadata": {},
   "outputs": [
    {
     "data": {
      "image/png": "[encoded data removed]",
      "text/plain": [
       "<Figure size 432x288 with 1 Axes>"
      ]
     },
     "metadata": {},
     "output_type": "display_data"
    }
   ],
   "source": [
    "g = sns.barplot(\"CrossValMeans\",\"Algorithm\",data = cv_res, palette=\"Set3\",orient = \"h\",**{'xerr':cv_std})\n",
    "g.set_xlabel(\"Mean Accuracy\")\n",
    "g = g.set_title(\"Cross validation scores\")"
   ]
  },
  {
   "cell_type": "code",
   "execution_count": 122,
   "metadata": {},
   "outputs": [
    {
     "name": "stdout",
     "output_type": "stream",
     "text": [
      "Fitting 10 folds for each of 108 candidates, totalling 1080 fits\n"
     ]
    },
    {
     "name": "stderr",
     "output_type": "stream",
     "text": [
      "[Parallel(n_jobs=4)]: Using backend LokyBackend with 4 concurrent workers.\n",
      "[Parallel(n_jobs=4)]: Done  42 tasks      | elapsed:   37.2s\n",
      "[Parallel(n_jobs=4)]: Done 192 tasks      | elapsed:  3.2min\n",
      "[Parallel(n_jobs=4)]: Done 442 tasks      | elapsed:  7.8min\n",
      "[Parallel(n_jobs=4)]: Done 792 tasks      | elapsed: 14.0min\n",
      "[Parallel(n_jobs=4)]: Done 1080 out of 1080 | elapsed: 19.3min finished\n"
     ]
    },
    {
     "data": {
      "text/plain": [
       "0.9764708003965733"
      ]
     },
     "execution_count": 122,
     "metadata": {},
     "output_type": "execute_result"
    }
   ],
   "source": [
    "XGBC = XGBClassifier()\n",
    "# xgbc_param_grid = {\n",
    "#    \"learning_rate\"    : [0.1, 0.2, 0.3] , #[0.1] #[0.3]\n",
    "#    \"max_depth\"        : [3,4,5,6],  #[5] #[3]\n",
    "#    \"n_estimators\"     : [180,200,220], #[100] #[150]\n",
    "#    \"min_child_weight\" : [ 1, 3, 5],   #[] #[1]\n",
    "#    \"gamma\"            : [ 0.05, 0.1, 0.15, 0.2 ], #[0.2] #[0.2]\n",
    "#    \"colsample_bytree\" : [0.5 , 0.7 ,1.0 ],   #[] #[1]\n",
    "#    \"subsample\"       : [0.8,1]\n",
    "#     }\n",
    "# xgbc_param_grid = {\n",
    "#    \"learning_rate\"    : [0.15,0.1,0.05] , #[0.1]\n",
    "#    \"max_depth\"        : [5,6,7],    #[7]\n",
    "#    \"n_estimators\"     : [100,200,300],    #[100]\n",
    "#    #\"min_child_weight\" : [1,2,3], #[2]\n",
    "#    \"gamma\"            : [0.1,0.2,0.3], #[0.25]\n",
    "#    #\"scale_pos_weight\" : [1,0.1],\n",
    "# #    \"colsample_bytree\" : [0.9,1 ],   #[] #[1]\n",
    "# #    \"subsample\"       : [0.9,1]\n",
    "#     }\n",
    "\n",
    "xgbc_param_grid = {\n",
    "   \"learning_rate\"    : [0.15,0.1,0.05] , #[0.1]\n",
    "   \"max_depth\"        : [4,5,6],    #[6]\n",
    "   \"n_estimators\"     : [150,100,200,300],    #[150]\n",
    "   #\"min_child_weight\" : [1,2,3], #[2]\n",
    "   \"gamma\"            : [0.15,0.2,0.25], #[0.2]\n",
    "   #\"scale_pos_weight\" : [1,0.1],\n",
    "#    \"colsample_bytree\" : [0.9,1 ],   #[] #[1]\n",
    "#    \"subsample\"       : [0.9,1]\n",
    "    }\n",
    "\n",
    "gsXGBC = GridSearchCV(XGBC,param_grid =xgbc_param_grid, cv=kfold, scoring=\"f1\", n_jobs= 4, verbose = 1)\n",
    "\n",
    "gsXGBC.fit(X_train,Y_train)\n",
    "\n",
    "XGBC_best = gsXGBC.best_estimator_\n",
    "\n",
    "# Best score\n",
    "gsXGBC.best_score_"
   ]
  },
  {
   "cell_type": "code",
   "execution_count": 123,
   "metadata": {},
   "outputs": [
    {
     "data": {
      "text/plain": [
       "XGBClassifier(base_score=0.5, booster=None, colsample_bylevel=1,\n",
       "              colsample_bynode=1, colsample_bytree=1, gamma=0.2, gpu_id=-1,\n",
       "              importance_type='gain', interaction_constraints=None,\n",
       "              learning_rate=0.1, max_delta_step=0, max_depth=6,\n",
       "              min_child_weight=1, missing=nan, monotone_constraints=None,\n",
       "              n_estimators=150, n_jobs=0, num_parallel_tree=1,\n",
       "              objective='binary:logistic', random_state=0, reg_alpha=0,\n",
       "              reg_lambda=1, scale_pos_weight=1, subsample=1, tree_method=None,\n",
       "              validate_parameters=False, verbosity=None)"
      ]
     },
     "execution_count": 123,
     "metadata": {},
     "output_type": "execute_result"
    }
   ],
   "source": [
    "XGBC_best"
   ]
  },
  {
   "cell_type": "code",
   "execution_count": 124,
   "metadata": {},
   "outputs": [],
   "source": [
    "# LR = LogisticRegression(random_state = random_state)\n",
    "# lr_param_grid = {'penalty' : ['l1', 'l2'], \n",
    "#                    'solver' : ['liblinear', 'saga'],               \n",
    "#                   'C': [1, 10, 50, 100, 300],\n",
    "#                   'class_weight' : [{1:0.5, 0:0.5}, {1:0.4, 0:0.6}, {1:0.6, 0:0.4}, {1:0.7, 0:0.3}]}\n",
    "\n",
    "# gsLR = GridSearchCV(LR,param_grid =lr_param_grid, cv=kfold, scoring='f1', n_jobs= 4, verbose = 1)\n",
    "\n",
    "# gsLR.fit(X_train,Y_train)\n",
    "\n",
    "# LR_best = gsLR.best_estimator_\n",
    "\n",
    "# # Best score\n",
    "# gsLR.best_score_"
   ]
  },
  {
   "cell_type": "code",
   "execution_count": 125,
   "metadata": {},
   "outputs": [],
   "source": [
    "# gsLR.best_score_"
   ]
  },
  {
   "cell_type": "code",
   "execution_count": null,
   "metadata": {},
   "outputs": [],
   "source": [
    "RFC = RandomForestClassifier()\n",
    "rfc_param_grid = {\n",
    "   #'bootstrap': [True, False],\n",
    "   'max_depth': [30], #[20] [20]\n",
    "   #'max_features': ['auto', 'sqrt'],\n",
    "   #'min_samples_leaf': [1, 2, 4],\n",
    "   #'min_samples_split': [2, 5, 10],\n",
    "   'n_estimators': [2250] #[1000] [1250]\n",
    "    }\n",
    "\n",
    "gsRFC = GridSearchCV(RFC,param_grid =rfc_param_grid, cv=kfold, scoring=\"f1\", n_jobs= 4, verbose = 1)\n",
    "\n",
    "gsRFC.fit(X_train,Y_train)\n",
    "\n",
    "RFC_best = gsRFC.best_estimator_\n",
    "\n",
    "# Best score\n",
    "gsRFC.best_score_"
   ]
  },
  {
   "cell_type": "code",
   "execution_count": null,
   "metadata": {},
   "outputs": [],
   "source": [
    "RFC_best"
   ]
  },
  {
   "cell_type": "code",
   "execution_count": null,
   "metadata": {},
   "outputs": [],
   "source": [
    "# LDA = LinearDiscriminantAnalysis()\n",
    "# lda_param_grid = {'n_components' : [1, 2, 5, 10, 100], \n",
    "#                    'solver' : ['svd', 'lsqr','eigen']}\n",
    "\n",
    "# gsLDA = GridSearchCV(LDA,param_grid =lda_param_grid, cv=kfold, scoring=\"f1\", n_jobs= 4, verbose = 1)\n",
    "\n",
    "# gsLDA.fit(X_train,Y_train)\n",
    "\n",
    "# LDA_best = gsLDA.best_estimator_\n",
    "\n",
    "# # Best score\n",
    "# gsLDA.best_score_"
   ]
  },
  {
   "cell_type": "code",
   "execution_count": null,
   "metadata": {},
   "outputs": [],
   "source": [
    "# LDA_best"
   ]
  },
  {
   "cell_type": "code",
   "execution_count": null,
   "metadata": {},
   "outputs": [],
   "source": [
    "# RR = RidgeClassifier(random_state = random_state)\n",
    "# rr_param_grid = {'solver' : ['liblinear', 'saga'],               \n",
    "#                   'alpha' : [ 0.01, 0.1, 1, 5, 10, 50, 100]}\n",
    "\n",
    "# gsRR = GridSearchCV(RR,param_grid =rr_param_grid, cv=kfold, scoring=\"f1\", n_jobs= 4, verbose = 1)\n",
    "\n",
    "# gsRR.fit(X_train,Y_train)\n",
    "\n",
    "# RR_best = gsRR.best_estimator_\n",
    "\n",
    "# # Best score\n",
    "# gsRR.best_score_"
   ]
  },
  {
   "cell_type": "code",
   "execution_count": null,
   "metadata": {},
   "outputs": [],
   "source": [
    "# RR_best"
   ]
  },
  {
   "cell_type": "code",
   "execution_count": null,
   "metadata": {},
   "outputs": [],
   "source": [
    "ETC = ExtraTreesClassifier()\n",
    "# etc_param_grid = {\n",
    "#    #'bootstrap': [True, False],\n",
    "#    'max_depth': [40,50,60], #[20]\n",
    "#    'max_features': ['auto', 'sqrt'],\n",
    "#    'min_samples_leaf': [1, 2, 4],\n",
    "#    'min_samples_split': [2, 5, 10],\n",
    "#    'n_estimators': [1200,1300,1400] #[1000][1500]\n",
    "#     }\n",
    "\n",
    "etc_param_grid = {\n",
    "   #'bootstrap': [True, False],\n",
    "   'max_depth': [50,60], #[20]\n",
    "   'max_features': ['sqrt'],\n",
    "   'min_samples_leaf': [1],\n",
    "   'min_samples_split': [2],\n",
    "   'n_estimators': [1200,1300] #[1000][1500]\n",
    "    }\n",
    "\n",
    "gsETC = GridSearchCV(ETC,param_grid =etc_param_grid, cv=kfold, scoring=\"f1\", n_jobs= 4, verbose = 1)\n",
    "\n",
    "gsETC.fit(X_train,Y_train)\n",
    "\n",
    "\n",
    "ETC_best = gsETC.best_estimator_\n",
    "\n",
    "# Best score\n",
    "gsETC.best_score_"
   ]
  },
  {
   "cell_type": "code",
   "execution_count": null,
   "metadata": {},
   "outputs": [],
   "source": [
    "ETC_best"
   ]
  },
  {
   "cell_type": "code",
   "execution_count": null,
   "metadata": {},
   "outputs": [],
   "source": [
    "# KNC = KNeighborsClassifier()\n",
    "# knc_param_grid = {\n",
    "#     'weights': ['uniform' , 'distance'],\n",
    "#    #'bootstrap': [True, False],\n",
    "#    #'max_depth': [10, 20, 30], #[20]\n",
    "#    #'max_features': ['auto', 'sqrt'],\n",
    "#    #'min_samples_leaf': [1, 2, 4],\n",
    "#    #'min_samples_split': [2, 5, 10],\n",
    "#     'n_neighbors': [3,5,7,11,19,49],\n",
    "#     'metric': ['euclidean' , 'manhattan']\n",
    "#     }\n",
    "\n",
    "# gsKNC = GridSearchCV(KNC,param_grid =knc_param_grid, cv=kfold, scoring=\"f1\", n_jobs= 4, verbose = 1)\n",
    "\n",
    "# gsKNC.fit(X_train,Y_train)\n",
    "\n",
    "# KNC_best = gsKNC.best_estimator_\n",
    "\n",
    "# # Best score\n",
    "# gsKNC.best_score_"
   ]
  },
  {
   "cell_type": "code",
   "execution_count": null,
   "metadata": {},
   "outputs": [],
   "source": [
    "# KNC_best"
   ]
  },
  {
   "cell_type": "code",
   "execution_count": null,
   "metadata": {},
   "outputs": [],
   "source": [
    "GBC = GradientBoostingClassifier()\n",
    "# gbc_param_grid = {\n",
    "#     #\"loss\":[\"deviance\"],\n",
    "#     \"learning_rate\": [0.05, 0.1, 0.2], #[0.1] #[0.1]\n",
    "#     #\"min_samples_split\": np.linspace(0.1, 0.5, 4),\n",
    "#     #\"min_samples_leaf\": np.linspace(0.1, 0.5, 4),\n",
    "#     \"max_depth\":[6,8,10], #[5] #[4]\n",
    "#     #\"max_features\":[\"log2\",\"sqrt\"],\n",
    "#     #\"criterion\": [\"friedman_mse\", \"mae\"],\n",
    "#     #\"subsample\":[0.5, 0.8, 0.9, 1.0],\n",
    "#     \"n_estimators\":[150, 200, 250] #[100] #[200]\n",
    "#     }\n",
    "\n",
    "\n",
    "gbc_param_grid = {\n",
    "    #\"loss\":[\"deviance\"],\n",
    "    \"learning_rate\": [0.05], #[0.1] #[0.1]\n",
    "    #\"min_samples_split\": np.linspace(0.1, 0.5, 4),\n",
    "    #\"min_samples_leaf\": np.linspace(0.1, 0.5, 4),\n",
    "    \"max_depth\":[6,7,8], #[5] #[4]\n",
    "    #\"max_features\":[\"log2\",\"sqrt\"],\n",
    "    #\"criterion\": [\"friedman_mse\", \"mae\"],\n",
    "    #\"subsample\":[0.5, 0.8, 0.9, 1.0],\n",
    "    \"n_estimators\":[150, 200, 250] #[100] #[200]\n",
    "    }\n",
    "\n",
    "gsGBC = GridSearchCV(GBC,param_grid =gbc_param_grid, cv=kfold, scoring=\"f1\", n_jobs= 4, verbose = 1)\n",
    "\n",
    "gsGBC.fit(X_train,Y_train)\n",
    "\n",
    "GBC_best = gsGBC.best_estimator_\n",
    "\n",
    "# Best score\n",
    "gsGBC.best_score_"
   ]
  },
  {
   "cell_type": "code",
   "execution_count": null,
   "metadata": {},
   "outputs": [],
   "source": [
    "GBC_best "
   ]
  },
  {
   "cell_type": "code",
   "execution_count": null,
   "metadata": {},
   "outputs": [],
   "source": [
    "MLPC = MLPClassifier()\n",
    "mlpc_param_grid = {\n",
    "#     #\"loss\":[\"deviance\"],\n",
    "#     \"learning_rate\": [0.05, 0.1, 0.2], #[0.1] #[0.1]\n",
    "#     #\"min_samples_split\": np.linspace(0.1, 0.5, 4),\n",
    "#     #\"min_samples_leaf\": np.linspace(0.1, 0.5, 4),\n",
    "#     \"max_depth\":[4 , 5, 6], #[5] #[4]\n",
    "#     #\"max_features\":[\"log2\",\"sqrt\"],\n",
    "#     #\"criterion\": [\"friedman_mse\", \"mae\"],\n",
    "#     #\"subsample\":[0.5, 0.8, 0.9, 1.0],\n",
    "#     \"n_estimators\":[100, 200, 300] #[100] #[200]\n",
    "    'hidden_layer_sizes': [(50,50,50), (50,100,50), (100,)],\n",
    "    'activation': ['tanh', 'relu','logistic'],\n",
    "    'solver': ['sgd', 'adam'],\n",
    "    'alpha': [0.0001, 0.05],\n",
    "    'learning_rate': ['constant','adaptive'],\n",
    "    }\n",
    "\n",
    "# mlpc_param_grid = {\n",
    "# #     #\"loss\":[\"deviance\"],\n",
    "# #     \"learning_rate\": [0.05, 0.1, 0.2], #[0.1] #[0.1]\n",
    "# #     #\"min_samples_split\": np.linspace(0.1, 0.5, 4),\n",
    "# #     #\"min_samples_leaf\": np.linspace(0.1, 0.5, 4),\n",
    "# #     \"max_depth\":[4 , 5, 6], #[5] #[4]\n",
    "# #     #\"max_features\":[\"log2\",\"sqrt\"],\n",
    "# #     #\"criterion\": [\"friedman_mse\", \"mae\"],\n",
    "# #     #\"subsample\":[0.5, 0.8, 0.9, 1.0],\n",
    "# #     \"n_estimators\":[100, 200, 300] #[100] #[200]\n",
    "#     'hidden_layer_sizes': [(50,50,50)],\n",
    "#     'activation': ['tanh'],\n",
    "#     'solver': ['adam'],\n",
    "#     'alpha': [ 0.05],\n",
    "#     'learning_rate': ['constant']\n",
    "#     }\n",
    "\n",
    "gsMLPC = GridSearchCV(MLPC,param_grid =mlpc_param_grid, cv=kfold, scoring=\"f1\", n_jobs= 4, verbose = 1)\n",
    "\n",
    "gsMLPC.fit(X_train,Y_train)\n",
    "\n",
    "MLPC_best = gsMLPC.best_estimator_\n",
    "\n",
    "# Best score\n",
    "gsMLPC.best_score_\n"
   ]
  },
  {
   "cell_type": "code",
   "execution_count": null,
   "metadata": {},
   "outputs": [],
   "source": [
    "MLPC_best"
   ]
  },
  {
   "cell_type": "code",
   "execution_count": null,
   "metadata": {},
   "outputs": [],
   "source": [
    "best_data = [ [ 'RandomForestClassifier',gsRFC.best_score_], ['ExtraTrees',gsETC.best_score_], ['GradientBoosing',gsGBC.best_score_], ['XGB',gsXGBC.best_score_], ['MLPC',gsMLPC.best_score_]]\n",
    "cv_best_algo_df = pd.DataFrame(best_data, columns = ['Algo', 'Best Score'])\n",
    "cv_best_algo_df"
   ]
  },
  {
   "cell_type": "markdown",
   "metadata": {},
   "source": [
    "# Getting Output"
   ]
  },
  {
   "cell_type": "code",
   "execution_count": null,
   "metadata": {},
   "outputs": [],
   "source": [
    "# votingC = VotingClassifier(estimators=[('xgbc', XGBC_best), ('gbc', GBC_best),('rfc', RFC_best)], voting='soft', n_jobs=4)\n",
    "\n",
    "# votingC = votingC.fit(X_train, Y_train)"
   ]
  },
  {
   "cell_type": "code",
   "execution_count": 127,
   "metadata": {},
   "outputs": [],
   "source": [
    "test_df = pd.read_csv(\"/kaggle/input/fare-dataset/test.csv\", index_col=\"tripid\")"
   ]
  },
  {
   "cell_type": "code",
   "execution_count": 128,
   "metadata": {},
   "outputs": [],
   "source": [
    "test_df[\"pickup\"] = pd.to_datetime(test_df[\"pickup_time\"])\n",
    "test_df[\"drop\"] = pd.to_datetime(test_df[\"drop_time\"])\n",
    "test_df ['difference'] = test_df[\"drop\"] - test_df[\"pickup\"]\n",
    "test_df ['difference'] = test_df ['difference']/np.timedelta64(1,'s')\n",
    "test_df['duration'] = np.where(abs(test_df['duration']-test_df['difference']) > 120, test_df['difference'], test_df['duration'])\n",
    "test_df[\"travel_time\"] = test_df[\"duration\"] - test_df[\"meter_waiting\"]\n",
    "#test_df[\"travel_fare\"] = test_df[\"fare\"] - test_df[\"meter_waiting_fare\"] - test_df[\"additional_fare\"]\n",
    "\n",
    "#test_df['pickup_hour'] = test_df[\"pickup\"].dt.hour\n",
    "\n",
    "#test_df = test_df.drop(['pickup_time','drop_time','pickup','drop','difference'],axis='columns')\n",
    "# # test_df['duration'] = test_df['duration'].fillna(test_df ['difference'])\n",
    "# test_df.info()\n",
    "# test_df.head()\n",
    "\n",
    "# # new_df = train_df[\"pickup_time\"]-train_df[\"drop_time\"]\n",
    "# # train_df.info()\n",
    "# # train_df.head()\n",
    "# test_df.isnull().sum()\n",
    "# test_df.head()"
   ]
  },
  {
   "cell_type": "code",
   "execution_count": null,
   "metadata": {},
   "outputs": [],
   "source": [
    "# test_df['pickup_hour'] = np.where(abs(test_df['pickup_hour']) <6, 1, test_df['pickup_hour'])\n",
    "# test_df['pickup_hour'] = np.where(abs(test_df['pickup_hour']) >19, 1, test_df['pickup_hour'])\n",
    "# test_df['pickup_hour'] = np.where(abs(test_df['pickup_hour']) >1, 1, test_df['pickup_hour'])"
   ]
  },
  {
   "cell_type": "code",
   "execution_count": 129,
   "metadata": {},
   "outputs": [
    {
     "data": {
      "text/html": [
       "<div>\n",
       "<style scoped>\n",
       "    .dataframe tbody tr th:only-of-type {\n",
       "        vertical-align: middle;\n",
       "    }\n",
       "\n",
       "    .dataframe tbody tr th {\n",
       "        vertical-align: top;\n",
       "    }\n",
       "\n",
       "    .dataframe thead th {\n",
       "        text-align: right;\n",
       "    }\n",
       "</style>\n",
       "<table border=\"1\" class=\"dataframe\">\n",
       "  <thead>\n",
       "    <tr style=\"text-align: right;\">\n",
       "      <th></th>\n",
       "      <th>additional_fare</th>\n",
       "      <th>duration</th>\n",
       "      <th>meter_waiting</th>\n",
       "      <th>meter_waiting_fare</th>\n",
       "      <th>meter_waiting_till_pickup</th>\n",
       "      <th>pick_lat</th>\n",
       "      <th>pick_lon</th>\n",
       "      <th>drop_lat</th>\n",
       "      <th>drop_lon</th>\n",
       "      <th>fare</th>\n",
       "      <th>difference</th>\n",
       "      <th>travel_time</th>\n",
       "    </tr>\n",
       "  </thead>\n",
       "  <tbody>\n",
       "    <tr>\n",
       "      <th>count</th>\n",
       "      <td>8576.000000</td>\n",
       "      <td>8576.000000</td>\n",
       "      <td>8576.000000</td>\n",
       "      <td>8576.000000</td>\n",
       "      <td>8576.000000</td>\n",
       "      <td>8576.000000</td>\n",
       "      <td>8576.000000</td>\n",
       "      <td>8576.000000</td>\n",
       "      <td>8576.000000</td>\n",
       "      <td>8576.000000</td>\n",
       "      <td>8576.000000</td>\n",
       "      <td>8576.000000</td>\n",
       "    </tr>\n",
       "    <tr>\n",
       "      <th>mean</th>\n",
       "      <td>11.088095</td>\n",
       "      <td>1541.849347</td>\n",
       "      <td>508.502099</td>\n",
       "      <td>24.671655</td>\n",
       "      <td>119.863106</td>\n",
       "      <td>6.969246</td>\n",
       "      <td>80.008728</td>\n",
       "      <td>6.970008</td>\n",
       "      <td>80.010145</td>\n",
       "      <td>293.278057</td>\n",
       "      <td>1542.054571</td>\n",
       "      <td>1033.347248</td>\n",
       "    </tr>\n",
       "    <tr>\n",
       "      <th>std</th>\n",
       "      <td>5.359602</td>\n",
       "      <td>5952.439797</td>\n",
       "      <td>5784.005855</td>\n",
       "      <td>333.515641</td>\n",
       "      <td>793.233190</td>\n",
       "      <td>0.217809</td>\n",
       "      <td>0.251873</td>\n",
       "      <td>0.218826</td>\n",
       "      <td>0.252229</td>\n",
       "      <td>436.730282</td>\n",
       "      <td>5952.333969</td>\n",
       "      <td>998.044944</td>\n",
       "    </tr>\n",
       "    <tr>\n",
       "      <th>min</th>\n",
       "      <td>0.000000</td>\n",
       "      <td>24.000000</td>\n",
       "      <td>0.000000</td>\n",
       "      <td>0.000000</td>\n",
       "      <td>0.000000</td>\n",
       "      <td>5.943130</td>\n",
       "      <td>79.817700</td>\n",
       "      <td>5.936600</td>\n",
       "      <td>79.818000</td>\n",
       "      <td>0.000000</td>\n",
       "      <td>0.000000</td>\n",
       "      <td>0.000000</td>\n",
       "    </tr>\n",
       "    <tr>\n",
       "      <th>25%</th>\n",
       "      <td>10.500000</td>\n",
       "      <td>540.000000</td>\n",
       "      <td>30.000000</td>\n",
       "      <td>0.000000</td>\n",
       "      <td>26.000000</td>\n",
       "      <td>6.864810</td>\n",
       "      <td>79.871600</td>\n",
       "      <td>6.864950</td>\n",
       "      <td>79.871300</td>\n",
       "      <td>126.077500</td>\n",
       "      <td>540.000000</td>\n",
       "      <td>447.000000</td>\n",
       "    </tr>\n",
       "    <tr>\n",
       "      <th>50%</th>\n",
       "      <td>10.500000</td>\n",
       "      <td>983.000000</td>\n",
       "      <td>116.000000</td>\n",
       "      <td>0.000000</td>\n",
       "      <td>72.000000</td>\n",
       "      <td>6.913605</td>\n",
       "      <td>79.900500</td>\n",
       "      <td>6.915460</td>\n",
       "      <td>79.902250</td>\n",
       "      <td>203.950000</td>\n",
       "      <td>960.000000</td>\n",
       "      <td>787.000000</td>\n",
       "    </tr>\n",
       "    <tr>\n",
       "      <th>75%</th>\n",
       "      <td>10.500000</td>\n",
       "      <td>1723.000000</td>\n",
       "      <td>336.250000</td>\n",
       "      <td>11.744200</td>\n",
       "      <td>138.000000</td>\n",
       "      <td>7.068875</td>\n",
       "      <td>79.963225</td>\n",
       "      <td>7.073505</td>\n",
       "      <td>79.967825</td>\n",
       "      <td>344.075000</td>\n",
       "      <td>1740.000000</td>\n",
       "      <td>1343.250000</td>\n",
       "    </tr>\n",
       "    <tr>\n",
       "      <th>max</th>\n",
       "      <td>160.500000</td>\n",
       "      <td>447230.000000</td>\n",
       "      <td>446934.000000</td>\n",
       "      <td>25760.361800</td>\n",
       "      <td>55571.000000</td>\n",
       "      <td>8.425010</td>\n",
       "      <td>80.776400</td>\n",
       "      <td>8.421730</td>\n",
       "      <td>80.805500</td>\n",
       "      <td>26844.330000</td>\n",
       "      <td>447240.000000</td>\n",
       "      <td>26601.000000</td>\n",
       "    </tr>\n",
       "  </tbody>\n",
       "</table>\n",
       "</div>"
      ],
      "text/plain": [
       "       additional_fare       duration  meter_waiting  meter_waiting_fare  \\\n",
       "count      8576.000000    8576.000000    8576.000000         8576.000000   \n",
       "mean         11.088095    1541.849347     508.502099           24.671655   \n",
       "std           5.359602    5952.439797    5784.005855          333.515641   \n",
       "min           0.000000      24.000000       0.000000            0.000000   \n",
       "25%          10.500000     540.000000      30.000000            0.000000   \n",
       "50%          10.500000     983.000000     116.000000            0.000000   \n",
       "75%          10.500000    1723.000000     336.250000           11.744200   \n",
       "max         160.500000  447230.000000  446934.000000        25760.361800   \n",
       "\n",
       "       meter_waiting_till_pickup     pick_lat     pick_lon     drop_lat  \\\n",
       "count                8576.000000  8576.000000  8576.000000  8576.000000   \n",
       "mean                  119.863106     6.969246    80.008728     6.970008   \n",
       "std                   793.233190     0.217809     0.251873     0.218826   \n",
       "min                     0.000000     5.943130    79.817700     5.936600   \n",
       "25%                    26.000000     6.864810    79.871600     6.864950   \n",
       "50%                    72.000000     6.913605    79.900500     6.915460   \n",
       "75%                   138.000000     7.068875    79.963225     7.073505   \n",
       "max                 55571.000000     8.425010    80.776400     8.421730   \n",
       "\n",
       "          drop_lon          fare     difference   travel_time  \n",
       "count  8576.000000   8576.000000    8576.000000   8576.000000  \n",
       "mean     80.010145    293.278057    1542.054571   1033.347248  \n",
       "std       0.252229    436.730282    5952.333969    998.044944  \n",
       "min      79.818000      0.000000       0.000000      0.000000  \n",
       "25%      79.871300    126.077500     540.000000    447.000000  \n",
       "50%      79.902250    203.950000     960.000000    787.000000  \n",
       "75%      79.967825    344.075000    1740.000000   1343.250000  \n",
       "max      80.805500  26844.330000  447240.000000  26601.000000  "
      ]
     },
     "execution_count": 129,
     "metadata": {},
     "output_type": "execute_result"
    }
   ],
   "source": [
    "test_df.describe()"
   ]
  },
  {
   "cell_type": "code",
   "execution_count": 130,
   "metadata": {},
   "outputs": [
    {
     "data": {
      "text/plain": [
       "additional_fare              0\n",
       "duration                     0\n",
       "meter_waiting                0\n",
       "meter_waiting_fare           0\n",
       "meter_waiting_till_pickup    0\n",
       "pickup_time                  0\n",
       "drop_time                    0\n",
       "pick_lat                     0\n",
       "pick_lon                     0\n",
       "drop_lat                     0\n",
       "drop_lon                     0\n",
       "fare                         0\n",
       "pickup                       0\n",
       "drop                         0\n",
       "difference                   0\n",
       "travel_time                  0\n",
       "dtype: int64"
      ]
     },
     "execution_count": 130,
     "metadata": {},
     "output_type": "execute_result"
    }
   ],
   "source": [
    "test_df.isnull().sum()"
   ]
  },
  {
   "cell_type": "code",
   "execution_count": null,
   "metadata": {},
   "outputs": [],
   "source": [
    "#test_df[test_df.travel_fare <0]"
   ]
  },
  {
   "cell_type": "code",
   "execution_count": null,
   "metadata": {},
   "outputs": [],
   "source": [
    "#test_df[test_df.travel_fare==0]"
   ]
  },
  {
   "cell_type": "code",
   "execution_count": null,
   "metadata": {},
   "outputs": [],
   "source": [
    "test_df[test_df.travel_time==0]"
   ]
  },
  {
   "cell_type": "code",
   "execution_count": 131,
   "metadata": {},
   "outputs": [
    {
     "data": {
      "text/html": [
       "<div>\n",
       "<style scoped>\n",
       "    .dataframe tbody tr th:only-of-type {\n",
       "        vertical-align: middle;\n",
       "    }\n",
       "\n",
       "    .dataframe tbody tr th {\n",
       "        vertical-align: top;\n",
       "    }\n",
       "\n",
       "    .dataframe thead th {\n",
       "        text-align: right;\n",
       "    }\n",
       "</style>\n",
       "<table border=\"1\" class=\"dataframe\">\n",
       "  <thead>\n",
       "    <tr style=\"text-align: right;\">\n",
       "      <th></th>\n",
       "      <th>additional_fare</th>\n",
       "      <th>duration</th>\n",
       "      <th>meter_waiting</th>\n",
       "      <th>meter_waiting_fare</th>\n",
       "      <th>meter_waiting_till_pickup</th>\n",
       "      <th>pickup_time</th>\n",
       "      <th>drop_time</th>\n",
       "      <th>pick_lat</th>\n",
       "      <th>pick_lon</th>\n",
       "      <th>drop_lat</th>\n",
       "      <th>drop_lon</th>\n",
       "      <th>fare</th>\n",
       "      <th>pickup</th>\n",
       "      <th>drop</th>\n",
       "      <th>difference</th>\n",
       "      <th>travel_time</th>\n",
       "    </tr>\n",
       "    <tr>\n",
       "      <th>tripid</th>\n",
       "      <th></th>\n",
       "      <th></th>\n",
       "      <th></th>\n",
       "      <th></th>\n",
       "      <th></th>\n",
       "      <th></th>\n",
       "      <th></th>\n",
       "      <th></th>\n",
       "      <th></th>\n",
       "      <th></th>\n",
       "      <th></th>\n",
       "      <th></th>\n",
       "      <th></th>\n",
       "      <th></th>\n",
       "      <th></th>\n",
       "      <th></th>\n",
       "    </tr>\n",
       "  </thead>\n",
       "  <tbody>\n",
       "  </tbody>\n",
       "</table>\n",
       "</div>"
      ],
      "text/plain": [
       "Empty DataFrame\n",
       "Columns: [additional_fare, duration, meter_waiting, meter_waiting_fare, meter_waiting_till_pickup, pickup_time, drop_time, pick_lat, pick_lon, drop_lat, drop_lon, fare, pickup, drop, difference, travel_time]\n",
       "Index: []"
      ]
     },
     "execution_count": 131,
     "metadata": {},
     "output_type": "execute_result"
    }
   ],
   "source": [
    "test_df[test_df.travel_time<0]"
   ]
  },
  {
   "cell_type": "code",
   "execution_count": 132,
   "metadata": {},
   "outputs": [
    {
     "data": {
      "text/plain": [
       "additional_fare       0\n",
       "duration              0\n",
       "meter_waiting         0\n",
       "meter_waiting_fare    0\n",
       "fare                  0\n",
       "travel_time           0\n",
       "euc_distance          0\n",
       "dtype: int64"
      ]
     },
     "execution_count": 132,
     "metadata": {},
     "output_type": "execute_result"
    }
   ],
   "source": [
    "test_df['lat_change'] = abs(test_df['pick_lat']- test_df['drop_lat'])\n",
    "test_df['lon_change'] = abs(test_df['pick_lon']- test_df['drop_lon'])\n",
    "test_df['euc_distance'] = np.sqrt((test_df['lat_change']**2) + (test_df['lon_change']**2))\n",
    "\n",
    "#test_df[\"travel_time\"] = test_df[\"duration\"] - test_df[\"meter_waiting\"]\n",
    "test_df.head()\n",
    "\n",
    "test_df2 = test_df.drop(['pickup_time','drop_time','pickup','drop','difference','pick_lat','pick_lon','drop_lat','drop_lon','lat_change','lon_change', 'meter_waiting_till_pickup'],axis='columns')\n",
    "#test_df2 = test_df.drop(['pickup_time','drop_time','pick_lat','drop_lat','pick_lon','drop_lon'],axis='columns')\n",
    "#test_df2 = test_df.drop(['pickup_time','drop_time','pick_lat','pick_lon','drop_lat','drop_lon','lat_change','lon_change','meter_waiting'],axis='columns')\n",
    "#test_df2 = test_df.drop(['pickup_time','drop_time','pick_lat','pick_lon','drop_lat','drop_lon','lat_change','lon_change','meter_waiting_fare'],axis='columns')\n",
    "\n",
    "test_df2.isnull().sum()"
   ]
  },
  {
   "cell_type": "code",
   "execution_count": 133,
   "metadata": {},
   "outputs": [
    {
     "data": {
      "text/html": [
       "<div>\n",
       "<style scoped>\n",
       "    .dataframe tbody tr th:only-of-type {\n",
       "        vertical-align: middle;\n",
       "    }\n",
       "\n",
       "    .dataframe tbody tr th {\n",
       "        vertical-align: top;\n",
       "    }\n",
       "\n",
       "    .dataframe thead th {\n",
       "        text-align: right;\n",
       "    }\n",
       "</style>\n",
       "<table border=\"1\" class=\"dataframe\">\n",
       "  <thead>\n",
       "    <tr style=\"text-align: right;\">\n",
       "      <th></th>\n",
       "      <th>additional_fare</th>\n",
       "      <th>duration</th>\n",
       "      <th>meter_waiting</th>\n",
       "      <th>meter_waiting_fare</th>\n",
       "      <th>meter_waiting_till_pickup</th>\n",
       "      <th>pickup_time</th>\n",
       "      <th>drop_time</th>\n",
       "      <th>pick_lat</th>\n",
       "      <th>pick_lon</th>\n",
       "      <th>drop_lat</th>\n",
       "      <th>drop_lon</th>\n",
       "      <th>fare</th>\n",
       "      <th>pickup</th>\n",
       "      <th>drop</th>\n",
       "      <th>difference</th>\n",
       "      <th>travel_time</th>\n",
       "      <th>lat_change</th>\n",
       "      <th>lon_change</th>\n",
       "      <th>euc_distance</th>\n",
       "    </tr>\n",
       "    <tr>\n",
       "      <th>tripid</th>\n",
       "      <th></th>\n",
       "      <th></th>\n",
       "      <th></th>\n",
       "      <th></th>\n",
       "      <th></th>\n",
       "      <th></th>\n",
       "      <th></th>\n",
       "      <th></th>\n",
       "      <th></th>\n",
       "      <th></th>\n",
       "      <th></th>\n",
       "      <th></th>\n",
       "      <th></th>\n",
       "      <th></th>\n",
       "      <th></th>\n",
       "      <th></th>\n",
       "      <th></th>\n",
       "      <th></th>\n",
       "      <th></th>\n",
       "    </tr>\n",
       "  </thead>\n",
       "  <tbody>\n",
       "    <tr>\n",
       "      <th>213644527</th>\n",
       "      <td>5.0</td>\n",
       "      <td>53.0</td>\n",
       "      <td>51</td>\n",
       "      <td>2.973300</td>\n",
       "      <td>0</td>\n",
       "      <td>2/3/2020 7:38</td>\n",
       "      <td>2/3/2020 7:38</td>\n",
       "      <td>6.88371</td>\n",
       "      <td>79.9076</td>\n",
       "      <td>6.88371</td>\n",
       "      <td>79.9076</td>\n",
       "      <td>62.97</td>\n",
       "      <td>2020-02-03 07:38:00</td>\n",
       "      <td>2020-02-03 07:38:00</td>\n",
       "      <td>0.0</td>\n",
       "      <td>2.0</td>\n",
       "      <td>0.0</td>\n",
       "      <td>0.0</td>\n",
       "      <td>0.0</td>\n",
       "    </tr>\n",
       "    <tr>\n",
       "      <th>214443986</th>\n",
       "      <td>5.0</td>\n",
       "      <td>32.0</td>\n",
       "      <td>30</td>\n",
       "      <td>1.749000</td>\n",
       "      <td>0</td>\n",
       "      <td>2/6/2020 20:54</td>\n",
       "      <td>2/6/2020 20:54</td>\n",
       "      <td>6.97871</td>\n",
       "      <td>79.9958</td>\n",
       "      <td>6.97871</td>\n",
       "      <td>79.9958</td>\n",
       "      <td>61.74</td>\n",
       "      <td>2020-02-06 20:54:00</td>\n",
       "      <td>2020-02-06 20:54:00</td>\n",
       "      <td>0.0</td>\n",
       "      <td>2.0</td>\n",
       "      <td>0.0</td>\n",
       "      <td>0.0</td>\n",
       "      <td>0.0</td>\n",
       "    </tr>\n",
       "    <tr>\n",
       "      <th>214459662</th>\n",
       "      <td>5.0</td>\n",
       "      <td>44.0</td>\n",
       "      <td>42</td>\n",
       "      <td>2.448600</td>\n",
       "      <td>0</td>\n",
       "      <td>2/7/2020 0:09</td>\n",
       "      <td>2/7/2020 0:10</td>\n",
       "      <td>6.93729</td>\n",
       "      <td>79.9796</td>\n",
       "      <td>6.93729</td>\n",
       "      <td>79.9796</td>\n",
       "      <td>62.44</td>\n",
       "      <td>2020-02-07 00:09:00</td>\n",
       "      <td>2020-02-07 00:10:00</td>\n",
       "      <td>60.0</td>\n",
       "      <td>2.0</td>\n",
       "      <td>0.0</td>\n",
       "      <td>0.0</td>\n",
       "      <td>0.0</td>\n",
       "    </tr>\n",
       "    <tr>\n",
       "      <th>215383717</th>\n",
       "      <td>5.0</td>\n",
       "      <td>32.0</td>\n",
       "      <td>30</td>\n",
       "      <td>1.749000</td>\n",
       "      <td>0</td>\n",
       "      <td>2/11/2020 12:20</td>\n",
       "      <td>2/11/2020 12:20</td>\n",
       "      <td>6.81234</td>\n",
       "      <td>79.8814</td>\n",
       "      <td>6.81234</td>\n",
       "      <td>79.8814</td>\n",
       "      <td>61.74</td>\n",
       "      <td>2020-02-11 12:20:00</td>\n",
       "      <td>2020-02-11 12:20:00</td>\n",
       "      <td>0.0</td>\n",
       "      <td>2.0</td>\n",
       "      <td>0.0</td>\n",
       "      <td>0.0</td>\n",
       "      <td>0.0</td>\n",
       "    </tr>\n",
       "    <tr>\n",
       "      <th>215728475</th>\n",
       "      <td>5.0</td>\n",
       "      <td>253.0</td>\n",
       "      <td>250</td>\n",
       "      <td>14.575000</td>\n",
       "      <td>0</td>\n",
       "      <td>2/12/2020 18:21</td>\n",
       "      <td>2/12/2020 18:25</td>\n",
       "      <td>6.90056</td>\n",
       "      <td>79.9123</td>\n",
       "      <td>6.90056</td>\n",
       "      <td>79.9123</td>\n",
       "      <td>74.57</td>\n",
       "      <td>2020-02-12 18:21:00</td>\n",
       "      <td>2020-02-12 18:25:00</td>\n",
       "      <td>240.0</td>\n",
       "      <td>3.0</td>\n",
       "      <td>0.0</td>\n",
       "      <td>0.0</td>\n",
       "      <td>0.0</td>\n",
       "    </tr>\n",
       "    <tr>\n",
       "      <th>215874000</th>\n",
       "      <td>10.5</td>\n",
       "      <td>1880.0</td>\n",
       "      <td>718</td>\n",
       "      <td>41.554649</td>\n",
       "      <td>18</td>\n",
       "      <td>2/13/2020 13:11</td>\n",
       "      <td>2/13/2020 13:42</td>\n",
       "      <td>7.02177</td>\n",
       "      <td>79.9442</td>\n",
       "      <td>7.02177</td>\n",
       "      <td>79.9442</td>\n",
       "      <td>338.75</td>\n",
       "      <td>2020-02-13 13:11:00</td>\n",
       "      <td>2020-02-13 13:42:00</td>\n",
       "      <td>1860.0</td>\n",
       "      <td>1162.0</td>\n",
       "      <td>0.0</td>\n",
       "      <td>0.0</td>\n",
       "      <td>0.0</td>\n",
       "    </tr>\n",
       "    <tr>\n",
       "      <th>216770871</th>\n",
       "      <td>30.5</td>\n",
       "      <td>5081.0</td>\n",
       "      <td>4221</td>\n",
       "      <td>246.084300</td>\n",
       "      <td>16</td>\n",
       "      <td>2/17/2020 11:00</td>\n",
       "      <td>2/17/2020 12:25</td>\n",
       "      <td>6.85024</td>\n",
       "      <td>79.8690</td>\n",
       "      <td>6.85024</td>\n",
       "      <td>79.8690</td>\n",
       "      <td>412.02</td>\n",
       "      <td>2020-02-17 11:00:00</td>\n",
       "      <td>2020-02-17 12:25:00</td>\n",
       "      <td>5100.0</td>\n",
       "      <td>860.0</td>\n",
       "      <td>0.0</td>\n",
       "      <td>0.0</td>\n",
       "      <td>0.0</td>\n",
       "    </tr>\n",
       "    <tr>\n",
       "      <th>217244029</th>\n",
       "      <td>10.5</td>\n",
       "      <td>634.0</td>\n",
       "      <td>50</td>\n",
       "      <td>2.915000</td>\n",
       "      <td>96</td>\n",
       "      <td>2/19/2020 16:20</td>\n",
       "      <td>2/19/2020 16:30</td>\n",
       "      <td>6.93546</td>\n",
       "      <td>79.9134</td>\n",
       "      <td>6.93546</td>\n",
       "      <td>79.9134</td>\n",
       "      <td>112.76</td>\n",
       "      <td>2020-02-19 16:20:00</td>\n",
       "      <td>2020-02-19 16:30:00</td>\n",
       "      <td>600.0</td>\n",
       "      <td>584.0</td>\n",
       "      <td>0.0</td>\n",
       "      <td>0.0</td>\n",
       "      <td>0.0</td>\n",
       "    </tr>\n",
       "    <tr>\n",
       "      <th>217980822</th>\n",
       "      <td>30.5</td>\n",
       "      <td>4168.0</td>\n",
       "      <td>3853</td>\n",
       "      <td>224.629900</td>\n",
       "      <td>22</td>\n",
       "      <td>2/23/2020 13:19</td>\n",
       "      <td>2/23/2020 14:29</td>\n",
       "      <td>6.89589</td>\n",
       "      <td>79.9048</td>\n",
       "      <td>6.89589</td>\n",
       "      <td>79.9048</td>\n",
       "      <td>324.36</td>\n",
       "      <td>2020-02-23 13:19:00</td>\n",
       "      <td>2020-02-23 14:29:00</td>\n",
       "      <td>4200.0</td>\n",
       "      <td>315.0</td>\n",
       "      <td>0.0</td>\n",
       "      <td>0.0</td>\n",
       "      <td>0.0</td>\n",
       "    </tr>\n",
       "    <tr>\n",
       "      <th>218143071</th>\n",
       "      <td>10.5</td>\n",
       "      <td>664.0</td>\n",
       "      <td>230</td>\n",
       "      <td>13.294000</td>\n",
       "      <td>6</td>\n",
       "      <td>2/24/2020 12:21</td>\n",
       "      <td>2/24/2020 12:32</td>\n",
       "      <td>6.77328</td>\n",
       "      <td>79.8819</td>\n",
       "      <td>6.77328</td>\n",
       "      <td>79.8819</td>\n",
       "      <td>113.54</td>\n",
       "      <td>2020-02-24 12:21:00</td>\n",
       "      <td>2020-02-24 12:32:00</td>\n",
       "      <td>660.0</td>\n",
       "      <td>434.0</td>\n",
       "      <td>0.0</td>\n",
       "      <td>0.0</td>\n",
       "      <td>0.0</td>\n",
       "    </tr>\n",
       "    <tr>\n",
       "      <th>218150199</th>\n",
       "      <td>10.5</td>\n",
       "      <td>2620.0</td>\n",
       "      <td>2185</td>\n",
       "      <td>125.946200</td>\n",
       "      <td>53</td>\n",
       "      <td>2/24/2020 12:55</td>\n",
       "      <td>2/24/2020 13:39</td>\n",
       "      <td>6.87619</td>\n",
       "      <td>79.8956</td>\n",
       "      <td>6.87619</td>\n",
       "      <td>79.8956</td>\n",
       "      <td>230.69</td>\n",
       "      <td>2020-02-24 12:55:00</td>\n",
       "      <td>2020-02-24 13:39:00</td>\n",
       "      <td>2640.0</td>\n",
       "      <td>435.0</td>\n",
       "      <td>0.0</td>\n",
       "      <td>0.0</td>\n",
       "      <td>0.0</td>\n",
       "    </tr>\n",
       "    <tr>\n",
       "      <th>218348394</th>\n",
       "      <td>5.0</td>\n",
       "      <td>33.0</td>\n",
       "      <td>31</td>\n",
       "      <td>1.807300</td>\n",
       "      <td>0</td>\n",
       "      <td>2/25/2020 11:39</td>\n",
       "      <td>2/25/2020 11:40</td>\n",
       "      <td>7.12550</td>\n",
       "      <td>79.9793</td>\n",
       "      <td>7.12550</td>\n",
       "      <td>79.9793</td>\n",
       "      <td>61.80</td>\n",
       "      <td>2020-02-25 11:39:00</td>\n",
       "      <td>2020-02-25 11:40:00</td>\n",
       "      <td>60.0</td>\n",
       "      <td>2.0</td>\n",
       "      <td>0.0</td>\n",
       "      <td>0.0</td>\n",
       "      <td>0.0</td>\n",
       "    </tr>\n",
       "    <tr>\n",
       "      <th>218577693</th>\n",
       "      <td>10.5</td>\n",
       "      <td>8998.0</td>\n",
       "      <td>4799</td>\n",
       "      <td>277.382200</td>\n",
       "      <td>76</td>\n",
       "      <td>2/26/2020 11:35</td>\n",
       "      <td>2/26/2020 14:05</td>\n",
       "      <td>6.82579</td>\n",
       "      <td>79.9030</td>\n",
       "      <td>6.82579</td>\n",
       "      <td>79.9030</td>\n",
       "      <td>1080.31</td>\n",
       "      <td>2020-02-26 11:35:00</td>\n",
       "      <td>2020-02-26 14:05:00</td>\n",
       "      <td>9000.0</td>\n",
       "      <td>4199.0</td>\n",
       "      <td>0.0</td>\n",
       "      <td>0.0</td>\n",
       "      <td>0.0</td>\n",
       "    </tr>\n",
       "    <tr>\n",
       "      <th>218622255</th>\n",
       "      <td>5.0</td>\n",
       "      <td>74.0</td>\n",
       "      <td>71</td>\n",
       "      <td>4.139300</td>\n",
       "      <td>0</td>\n",
       "      <td>2/26/2020 14:34</td>\n",
       "      <td>2/26/2020 14:35</td>\n",
       "      <td>6.64621</td>\n",
       "      <td>80.1760</td>\n",
       "      <td>6.64621</td>\n",
       "      <td>80.1760</td>\n",
       "      <td>64.13</td>\n",
       "      <td>2020-02-26 14:34:00</td>\n",
       "      <td>2020-02-26 14:35:00</td>\n",
       "      <td>60.0</td>\n",
       "      <td>3.0</td>\n",
       "      <td>0.0</td>\n",
       "      <td>0.0</td>\n",
       "      <td>0.0</td>\n",
       "    </tr>\n",
       "    <tr>\n",
       "      <th>219841449</th>\n",
       "      <td>5.0</td>\n",
       "      <td>425.0</td>\n",
       "      <td>425</td>\n",
       "      <td>24.777500</td>\n",
       "      <td>0</td>\n",
       "      <td>3/2/2020 16:44</td>\n",
       "      <td>3/2/2020 16:51</td>\n",
       "      <td>7.02816</td>\n",
       "      <td>79.9226</td>\n",
       "      <td>7.02816</td>\n",
       "      <td>79.9226</td>\n",
       "      <td>84.77</td>\n",
       "      <td>2020-03-02 16:44:00</td>\n",
       "      <td>2020-03-02 16:51:00</td>\n",
       "      <td>420.0</td>\n",
       "      <td>0.0</td>\n",
       "      <td>0.0</td>\n",
       "      <td>0.0</td>\n",
       "      <td>0.0</td>\n",
       "    </tr>\n",
       "    <tr>\n",
       "      <th>220173063</th>\n",
       "      <td>5.0</td>\n",
       "      <td>31.0</td>\n",
       "      <td>28</td>\n",
       "      <td>1.632400</td>\n",
       "      <td>0</td>\n",
       "      <td>3/4/2020 7:46</td>\n",
       "      <td>3/4/2020 7:46</td>\n",
       "      <td>6.71926</td>\n",
       "      <td>80.0599</td>\n",
       "      <td>6.71926</td>\n",
       "      <td>80.0599</td>\n",
       "      <td>61.63</td>\n",
       "      <td>2020-03-04 07:46:00</td>\n",
       "      <td>2020-03-04 07:46:00</td>\n",
       "      <td>0.0</td>\n",
       "      <td>3.0</td>\n",
       "      <td>0.0</td>\n",
       "      <td>0.0</td>\n",
       "      <td>0.0</td>\n",
       "    </tr>\n",
       "    <tr>\n",
       "      <th>220395137</th>\n",
       "      <td>5.0</td>\n",
       "      <td>30.0</td>\n",
       "      <td>28</td>\n",
       "      <td>1.632400</td>\n",
       "      <td>0</td>\n",
       "      <td>3/4/2020 23:49</td>\n",
       "      <td>3/4/2020 23:49</td>\n",
       "      <td>6.97291</td>\n",
       "      <td>79.9183</td>\n",
       "      <td>6.97291</td>\n",
       "      <td>79.9183</td>\n",
       "      <td>61.63</td>\n",
       "      <td>2020-03-04 23:49:00</td>\n",
       "      <td>2020-03-04 23:49:00</td>\n",
       "      <td>0.0</td>\n",
       "      <td>2.0</td>\n",
       "      <td>0.0</td>\n",
       "      <td>0.0</td>\n",
       "      <td>0.0</td>\n",
       "    </tr>\n",
       "    <tr>\n",
       "      <th>220479559</th>\n",
       "      <td>10.5</td>\n",
       "      <td>3268.0</td>\n",
       "      <td>2754</td>\n",
       "      <td>147.736800</td>\n",
       "      <td>85</td>\n",
       "      <td>3/5/2020 12:22</td>\n",
       "      <td>3/5/2020 13:17</td>\n",
       "      <td>6.83079</td>\n",
       "      <td>79.9076</td>\n",
       "      <td>6.83079</td>\n",
       "      <td>79.9076</td>\n",
       "      <td>278.99</td>\n",
       "      <td>2020-03-05 12:22:00</td>\n",
       "      <td>2020-03-05 13:17:00</td>\n",
       "      <td>3300.0</td>\n",
       "      <td>514.0</td>\n",
       "      <td>0.0</td>\n",
       "      <td>0.0</td>\n",
       "      <td>0.0</td>\n",
       "    </tr>\n",
       "    <tr>\n",
       "      <th>221098931</th>\n",
       "      <td>5.0</td>\n",
       "      <td>26.0</td>\n",
       "      <td>23</td>\n",
       "      <td>1.340900</td>\n",
       "      <td>0</td>\n",
       "      <td>3/7/2020 12:03</td>\n",
       "      <td>3/7/2020 12:03</td>\n",
       "      <td>6.94392</td>\n",
       "      <td>79.8642</td>\n",
       "      <td>6.94392</td>\n",
       "      <td>79.8642</td>\n",
       "      <td>61.34</td>\n",
       "      <td>2020-03-07 12:03:00</td>\n",
       "      <td>2020-03-07 12:03:00</td>\n",
       "      <td>0.0</td>\n",
       "      <td>3.0</td>\n",
       "      <td>0.0</td>\n",
       "      <td>0.0</td>\n",
       "      <td>0.0</td>\n",
       "    </tr>\n",
       "    <tr>\n",
       "      <th>221608129</th>\n",
       "      <td>10.5</td>\n",
       "      <td>3373.0</td>\n",
       "      <td>1347</td>\n",
       "      <td>77.888417</td>\n",
       "      <td>32</td>\n",
       "      <td>3/10/2020 9:22</td>\n",
       "      <td>3/10/2020 10:18</td>\n",
       "      <td>6.87882</td>\n",
       "      <td>79.8978</td>\n",
       "      <td>6.87882</td>\n",
       "      <td>79.8978</td>\n",
       "      <td>402.08</td>\n",
       "      <td>2020-03-10 09:22:00</td>\n",
       "      <td>2020-03-10 10:18:00</td>\n",
       "      <td>3360.0</td>\n",
       "      <td>2026.0</td>\n",
       "      <td>0.0</td>\n",
       "      <td>0.0</td>\n",
       "      <td>0.0</td>\n",
       "    </tr>\n",
       "    <tr>\n",
       "      <th>221654348</th>\n",
       "      <td>10.5</td>\n",
       "      <td>5588.0</td>\n",
       "      <td>2414</td>\n",
       "      <td>139.554939</td>\n",
       "      <td>230</td>\n",
       "      <td>3/10/2020 13:18</td>\n",
       "      <td>3/10/2020 14:51</td>\n",
       "      <td>6.89868</td>\n",
       "      <td>79.8920</td>\n",
       "      <td>6.89868</td>\n",
       "      <td>79.8920</td>\n",
       "      <td>568.33</td>\n",
       "      <td>2020-03-10 13:18:00</td>\n",
       "      <td>2020-03-10 14:51:00</td>\n",
       "      <td>5580.0</td>\n",
       "      <td>3174.0</td>\n",
       "      <td>0.0</td>\n",
       "      <td>0.0</td>\n",
       "      <td>0.0</td>\n",
       "    </tr>\n",
       "    <tr>\n",
       "      <th>222142287</th>\n",
       "      <td>5.0</td>\n",
       "      <td>43.0</td>\n",
       "      <td>40</td>\n",
       "      <td>2.332000</td>\n",
       "      <td>0</td>\n",
       "      <td>3/12/2020 7:39</td>\n",
       "      <td>3/12/2020 7:39</td>\n",
       "      <td>6.89074</td>\n",
       "      <td>79.9936</td>\n",
       "      <td>6.89074</td>\n",
       "      <td>79.9936</td>\n",
       "      <td>62.33</td>\n",
       "      <td>2020-03-12 07:39:00</td>\n",
       "      <td>2020-03-12 07:39:00</td>\n",
       "      <td>0.0</td>\n",
       "      <td>3.0</td>\n",
       "      <td>0.0</td>\n",
       "      <td>0.0</td>\n",
       "      <td>0.0</td>\n",
       "    </tr>\n",
       "    <tr>\n",
       "      <th>222167016</th>\n",
       "      <td>10.5</td>\n",
       "      <td>2320.0</td>\n",
       "      <td>886</td>\n",
       "      <td>51.210800</td>\n",
       "      <td>41</td>\n",
       "      <td>3/12/2020 9:08</td>\n",
       "      <td>3/12/2020 9:47</td>\n",
       "      <td>6.92712</td>\n",
       "      <td>79.8619</td>\n",
       "      <td>6.92712</td>\n",
       "      <td>79.8619</td>\n",
       "      <td>289.69</td>\n",
       "      <td>2020-03-12 09:08:00</td>\n",
       "      <td>2020-03-12 09:47:00</td>\n",
       "      <td>2340.0</td>\n",
       "      <td>1434.0</td>\n",
       "      <td>0.0</td>\n",
       "      <td>0.0</td>\n",
       "      <td>0.0</td>\n",
       "    </tr>\n",
       "    <tr>\n",
       "      <th>222450904</th>\n",
       "      <td>10.5</td>\n",
       "      <td>5120.0</td>\n",
       "      <td>3976</td>\n",
       "      <td>229.812800</td>\n",
       "      <td>119</td>\n",
       "      <td>3/13/2020 12:05</td>\n",
       "      <td>3/13/2020 13:30</td>\n",
       "      <td>6.80097</td>\n",
       "      <td>79.9401</td>\n",
       "      <td>6.80097</td>\n",
       "      <td>79.9401</td>\n",
       "      <td>415.02</td>\n",
       "      <td>2020-03-13 12:05:00</td>\n",
       "      <td>2020-03-13 13:30:00</td>\n",
       "      <td>5100.0</td>\n",
       "      <td>1144.0</td>\n",
       "      <td>0.0</td>\n",
       "      <td>0.0</td>\n",
       "      <td>0.0</td>\n",
       "    </tr>\n",
       "    <tr>\n",
       "      <th>222607129</th>\n",
       "      <td>25.0</td>\n",
       "      <td>66.0</td>\n",
       "      <td>64</td>\n",
       "      <td>3.731200</td>\n",
       "      <td>0</td>\n",
       "      <td>3/14/2020 11:13</td>\n",
       "      <td>3/14/2020 11:14</td>\n",
       "      <td>6.88668</td>\n",
       "      <td>79.9010</td>\n",
       "      <td>6.88668</td>\n",
       "      <td>79.9010</td>\n",
       "      <td>83.73</td>\n",
       "      <td>2020-03-14 11:13:00</td>\n",
       "      <td>2020-03-14 11:14:00</td>\n",
       "      <td>60.0</td>\n",
       "      <td>2.0</td>\n",
       "      <td>0.0</td>\n",
       "      <td>0.0</td>\n",
       "      <td>0.0</td>\n",
       "    </tr>\n",
       "  </tbody>\n",
       "</table>\n",
       "</div>"
      ],
      "text/plain": [
       "           additional_fare  duration  meter_waiting  meter_waiting_fare  \\\n",
       "tripid                                                                    \n",
       "213644527              5.0      53.0             51            2.973300   \n",
       "214443986              5.0      32.0             30            1.749000   \n",
       "214459662              5.0      44.0             42            2.448600   \n",
       "215383717              5.0      32.0             30            1.749000   \n",
       "215728475              5.0     253.0            250           14.575000   \n",
       "215874000             10.5    1880.0            718           41.554649   \n",
       "216770871             30.5    5081.0           4221          246.084300   \n",
       "217244029             10.5     634.0             50            2.915000   \n",
       "217980822             30.5    4168.0           3853          224.629900   \n",
       "218143071             10.5     664.0            230           13.294000   \n",
       "218150199             10.5    2620.0           2185          125.946200   \n",
       "218348394              5.0      33.0             31            1.807300   \n",
       "218577693             10.5    8998.0           4799          277.382200   \n",
       "218622255              5.0      74.0             71            4.139300   \n",
       "219841449              5.0     425.0            425           24.777500   \n",
       "220173063              5.0      31.0             28            1.632400   \n",
       "220395137              5.0      30.0             28            1.632400   \n",
       "220479559             10.5    3268.0           2754          147.736800   \n",
       "221098931              5.0      26.0             23            1.340900   \n",
       "221608129             10.5    3373.0           1347           77.888417   \n",
       "221654348             10.5    5588.0           2414          139.554939   \n",
       "222142287              5.0      43.0             40            2.332000   \n",
       "222167016             10.5    2320.0            886           51.210800   \n",
       "222450904             10.5    5120.0           3976          229.812800   \n",
       "222607129             25.0      66.0             64            3.731200   \n",
       "\n",
       "           meter_waiting_till_pickup      pickup_time        drop_time  \\\n",
       "tripid                                                                   \n",
       "213644527                          0    2/3/2020 7:38    2/3/2020 7:38   \n",
       "214443986                          0   2/6/2020 20:54   2/6/2020 20:54   \n",
       "214459662                          0    2/7/2020 0:09    2/7/2020 0:10   \n",
       "215383717                          0  2/11/2020 12:20  2/11/2020 12:20   \n",
       "215728475                          0  2/12/2020 18:21  2/12/2020 18:25   \n",
       "215874000                         18  2/13/2020 13:11  2/13/2020 13:42   \n",
       "216770871                         16  2/17/2020 11:00  2/17/2020 12:25   \n",
       "217244029                         96  2/19/2020 16:20  2/19/2020 16:30   \n",
       "217980822                         22  2/23/2020 13:19  2/23/2020 14:29   \n",
       "218143071                          6  2/24/2020 12:21  2/24/2020 12:32   \n",
       "218150199                         53  2/24/2020 12:55  2/24/2020 13:39   \n",
       "218348394                          0  2/25/2020 11:39  2/25/2020 11:40   \n",
       "218577693                         76  2/26/2020 11:35  2/26/2020 14:05   \n",
       "218622255                          0  2/26/2020 14:34  2/26/2020 14:35   \n",
       "219841449                          0   3/2/2020 16:44   3/2/2020 16:51   \n",
       "220173063                          0    3/4/2020 7:46    3/4/2020 7:46   \n",
       "220395137                          0   3/4/2020 23:49   3/4/2020 23:49   \n",
       "220479559                         85   3/5/2020 12:22   3/5/2020 13:17   \n",
       "221098931                          0   3/7/2020 12:03   3/7/2020 12:03   \n",
       "221608129                         32   3/10/2020 9:22  3/10/2020 10:18   \n",
       "221654348                        230  3/10/2020 13:18  3/10/2020 14:51   \n",
       "222142287                          0   3/12/2020 7:39   3/12/2020 7:39   \n",
       "222167016                         41   3/12/2020 9:08   3/12/2020 9:47   \n",
       "222450904                        119  3/13/2020 12:05  3/13/2020 13:30   \n",
       "222607129                          0  3/14/2020 11:13  3/14/2020 11:14   \n",
       "\n",
       "           pick_lat  pick_lon  drop_lat  drop_lon     fare  \\\n",
       "tripid                                                       \n",
       "213644527   6.88371   79.9076   6.88371   79.9076    62.97   \n",
       "214443986   6.97871   79.9958   6.97871   79.9958    61.74   \n",
       "214459662   6.93729   79.9796   6.93729   79.9796    62.44   \n",
       "215383717   6.81234   79.8814   6.81234   79.8814    61.74   \n",
       "215728475   6.90056   79.9123   6.90056   79.9123    74.57   \n",
       "215874000   7.02177   79.9442   7.02177   79.9442   338.75   \n",
       "216770871   6.85024   79.8690   6.85024   79.8690   412.02   \n",
       "217244029   6.93546   79.9134   6.93546   79.9134   112.76   \n",
       "217980822   6.89589   79.9048   6.89589   79.9048   324.36   \n",
       "218143071   6.77328   79.8819   6.77328   79.8819   113.54   \n",
       "218150199   6.87619   79.8956   6.87619   79.8956   230.69   \n",
       "218348394   7.12550   79.9793   7.12550   79.9793    61.80   \n",
       "218577693   6.82579   79.9030   6.82579   79.9030  1080.31   \n",
       "218622255   6.64621   80.1760   6.64621   80.1760    64.13   \n",
       "219841449   7.02816   79.9226   7.02816   79.9226    84.77   \n",
       "220173063   6.71926   80.0599   6.71926   80.0599    61.63   \n",
       "220395137   6.97291   79.9183   6.97291   79.9183    61.63   \n",
       "220479559   6.83079   79.9076   6.83079   79.9076   278.99   \n",
       "221098931   6.94392   79.8642   6.94392   79.8642    61.34   \n",
       "221608129   6.87882   79.8978   6.87882   79.8978   402.08   \n",
       "221654348   6.89868   79.8920   6.89868   79.8920   568.33   \n",
       "222142287   6.89074   79.9936   6.89074   79.9936    62.33   \n",
       "222167016   6.92712   79.8619   6.92712   79.8619   289.69   \n",
       "222450904   6.80097   79.9401   6.80097   79.9401   415.02   \n",
       "222607129   6.88668   79.9010   6.88668   79.9010    83.73   \n",
       "\n",
       "                       pickup                drop  difference  travel_time  \\\n",
       "tripid                                                                       \n",
       "213644527 2020-02-03 07:38:00 2020-02-03 07:38:00         0.0          2.0   \n",
       "214443986 2020-02-06 20:54:00 2020-02-06 20:54:00         0.0          2.0   \n",
       "214459662 2020-02-07 00:09:00 2020-02-07 00:10:00        60.0          2.0   \n",
       "215383717 2020-02-11 12:20:00 2020-02-11 12:20:00         0.0          2.0   \n",
       "215728475 2020-02-12 18:21:00 2020-02-12 18:25:00       240.0          3.0   \n",
       "215874000 2020-02-13 13:11:00 2020-02-13 13:42:00      1860.0       1162.0   \n",
       "216770871 2020-02-17 11:00:00 2020-02-17 12:25:00      5100.0        860.0   \n",
       "217244029 2020-02-19 16:20:00 2020-02-19 16:30:00       600.0        584.0   \n",
       "217980822 2020-02-23 13:19:00 2020-02-23 14:29:00      4200.0        315.0   \n",
       "218143071 2020-02-24 12:21:00 2020-02-24 12:32:00       660.0        434.0   \n",
       "218150199 2020-02-24 12:55:00 2020-02-24 13:39:00      2640.0        435.0   \n",
       "218348394 2020-02-25 11:39:00 2020-02-25 11:40:00        60.0          2.0   \n",
       "218577693 2020-02-26 11:35:00 2020-02-26 14:05:00      9000.0       4199.0   \n",
       "218622255 2020-02-26 14:34:00 2020-02-26 14:35:00        60.0          3.0   \n",
       "219841449 2020-03-02 16:44:00 2020-03-02 16:51:00       420.0          0.0   \n",
       "220173063 2020-03-04 07:46:00 2020-03-04 07:46:00         0.0          3.0   \n",
       "220395137 2020-03-04 23:49:00 2020-03-04 23:49:00         0.0          2.0   \n",
       "220479559 2020-03-05 12:22:00 2020-03-05 13:17:00      3300.0        514.0   \n",
       "221098931 2020-03-07 12:03:00 2020-03-07 12:03:00         0.0          3.0   \n",
       "221608129 2020-03-10 09:22:00 2020-03-10 10:18:00      3360.0       2026.0   \n",
       "221654348 2020-03-10 13:18:00 2020-03-10 14:51:00      5580.0       3174.0   \n",
       "222142287 2020-03-12 07:39:00 2020-03-12 07:39:00         0.0          3.0   \n",
       "222167016 2020-03-12 09:08:00 2020-03-12 09:47:00      2340.0       1434.0   \n",
       "222450904 2020-03-13 12:05:00 2020-03-13 13:30:00      5100.0       1144.0   \n",
       "222607129 2020-03-14 11:13:00 2020-03-14 11:14:00        60.0          2.0   \n",
       "\n",
       "           lat_change  lon_change  euc_distance  \n",
       "tripid                                           \n",
       "213644527         0.0         0.0           0.0  \n",
       "214443986         0.0         0.0           0.0  \n",
       "214459662         0.0         0.0           0.0  \n",
       "215383717         0.0         0.0           0.0  \n",
       "215728475         0.0         0.0           0.0  \n",
       "215874000         0.0         0.0           0.0  \n",
       "216770871         0.0         0.0           0.0  \n",
       "217244029         0.0         0.0           0.0  \n",
       "217980822         0.0         0.0           0.0  \n",
       "218143071         0.0         0.0           0.0  \n",
       "218150199         0.0         0.0           0.0  \n",
       "218348394         0.0         0.0           0.0  \n",
       "218577693         0.0         0.0           0.0  \n",
       "218622255         0.0         0.0           0.0  \n",
       "219841449         0.0         0.0           0.0  \n",
       "220173063         0.0         0.0           0.0  \n",
       "220395137         0.0         0.0           0.0  \n",
       "220479559         0.0         0.0           0.0  \n",
       "221098931         0.0         0.0           0.0  \n",
       "221608129         0.0         0.0           0.0  \n",
       "221654348         0.0         0.0           0.0  \n",
       "222142287         0.0         0.0           0.0  \n",
       "222167016         0.0         0.0           0.0  \n",
       "222450904         0.0         0.0           0.0  \n",
       "222607129         0.0         0.0           0.0  "
      ]
     },
     "execution_count": 133,
     "metadata": {},
     "output_type": "execute_result"
    }
   ],
   "source": [
    "test_df[test_df.euc_distance==0]"
   ]
  },
  {
   "cell_type": "code",
   "execution_count": null,
   "metadata": {},
   "outputs": [],
   "source": [
    "test_df[test_df.duration<1]"
   ]
  },
  {
   "cell_type": "code",
   "execution_count": 134,
   "metadata": {},
   "outputs": [
    {
     "data": {
      "text/html": [
       "<div>\n",
       "<style scoped>\n",
       "    .dataframe tbody tr th:only-of-type {\n",
       "        vertical-align: middle;\n",
       "    }\n",
       "\n",
       "    .dataframe tbody tr th {\n",
       "        vertical-align: top;\n",
       "    }\n",
       "\n",
       "    .dataframe thead th {\n",
       "        text-align: right;\n",
       "    }\n",
       "</style>\n",
       "<table border=\"1\" class=\"dataframe\">\n",
       "  <thead>\n",
       "    <tr style=\"text-align: right;\">\n",
       "      <th></th>\n",
       "      <th>additional_fare</th>\n",
       "      <th>duration</th>\n",
       "      <th>meter_waiting</th>\n",
       "      <th>meter_waiting_fare</th>\n",
       "      <th>fare</th>\n",
       "      <th>travel_time</th>\n",
       "      <th>euc_distance</th>\n",
       "    </tr>\n",
       "  </thead>\n",
       "  <tbody>\n",
       "    <tr>\n",
       "      <th>count</th>\n",
       "      <td>8576.000000</td>\n",
       "      <td>8576.000000</td>\n",
       "      <td>8576.000000</td>\n",
       "      <td>8576.000000</td>\n",
       "      <td>8576.000000</td>\n",
       "      <td>8576.000000</td>\n",
       "      <td>8576.000000</td>\n",
       "    </tr>\n",
       "    <tr>\n",
       "      <th>mean</th>\n",
       "      <td>11.088095</td>\n",
       "      <td>1541.849347</td>\n",
       "      <td>508.502099</td>\n",
       "      <td>24.671655</td>\n",
       "      <td>293.278057</td>\n",
       "      <td>1033.347248</td>\n",
       "      <td>0.039963</td>\n",
       "    </tr>\n",
       "    <tr>\n",
       "      <th>std</th>\n",
       "      <td>5.359602</td>\n",
       "      <td>5952.439797</td>\n",
       "      <td>5784.005855</td>\n",
       "      <td>333.515641</td>\n",
       "      <td>436.730282</td>\n",
       "      <td>998.044944</td>\n",
       "      <td>0.038596</td>\n",
       "    </tr>\n",
       "    <tr>\n",
       "      <th>min</th>\n",
       "      <td>0.000000</td>\n",
       "      <td>24.000000</td>\n",
       "      <td>0.000000</td>\n",
       "      <td>0.000000</td>\n",
       "      <td>0.000000</td>\n",
       "      <td>0.000000</td>\n",
       "      <td>0.000000</td>\n",
       "    </tr>\n",
       "    <tr>\n",
       "      <th>25%</th>\n",
       "      <td>10.500000</td>\n",
       "      <td>540.000000</td>\n",
       "      <td>30.000000</td>\n",
       "      <td>0.000000</td>\n",
       "      <td>126.077500</td>\n",
       "      <td>447.000000</td>\n",
       "      <td>0.014029</td>\n",
       "    </tr>\n",
       "    <tr>\n",
       "      <th>50%</th>\n",
       "      <td>10.500000</td>\n",
       "      <td>983.000000</td>\n",
       "      <td>116.000000</td>\n",
       "      <td>0.000000</td>\n",
       "      <td>203.950000</td>\n",
       "      <td>787.000000</td>\n",
       "      <td>0.029098</td>\n",
       "    </tr>\n",
       "    <tr>\n",
       "      <th>75%</th>\n",
       "      <td>10.500000</td>\n",
       "      <td>1723.000000</td>\n",
       "      <td>336.250000</td>\n",
       "      <td>11.744200</td>\n",
       "      <td>344.075000</td>\n",
       "      <td>1343.250000</td>\n",
       "      <td>0.054315</td>\n",
       "    </tr>\n",
       "    <tr>\n",
       "      <th>max</th>\n",
       "      <td>160.500000</td>\n",
       "      <td>447230.000000</td>\n",
       "      <td>446934.000000</td>\n",
       "      <td>25760.361800</td>\n",
       "      <td>26844.330000</td>\n",
       "      <td>26601.000000</td>\n",
       "      <td>0.467416</td>\n",
       "    </tr>\n",
       "  </tbody>\n",
       "</table>\n",
       "</div>"
      ],
      "text/plain": [
       "       additional_fare       duration  meter_waiting  meter_waiting_fare  \\\n",
       "count      8576.000000    8576.000000    8576.000000         8576.000000   \n",
       "mean         11.088095    1541.849347     508.502099           24.671655   \n",
       "std           5.359602    5952.439797    5784.005855          333.515641   \n",
       "min           0.000000      24.000000       0.000000            0.000000   \n",
       "25%          10.500000     540.000000      30.000000            0.000000   \n",
       "50%          10.500000     983.000000     116.000000            0.000000   \n",
       "75%          10.500000    1723.000000     336.250000           11.744200   \n",
       "max         160.500000  447230.000000  446934.000000        25760.361800   \n",
       "\n",
       "               fare   travel_time  euc_distance  \n",
       "count   8576.000000   8576.000000   8576.000000  \n",
       "mean     293.278057   1033.347248      0.039963  \n",
       "std      436.730282    998.044944      0.038596  \n",
       "min        0.000000      0.000000      0.000000  \n",
       "25%      126.077500    447.000000      0.014029  \n",
       "50%      203.950000    787.000000      0.029098  \n",
       "75%      344.075000   1343.250000      0.054315  \n",
       "max    26844.330000  26601.000000      0.467416  "
      ]
     },
     "execution_count": 134,
     "metadata": {},
     "output_type": "execute_result"
    }
   ],
   "source": [
    "test_df2.describe()"
   ]
  },
  {
   "cell_type": "code",
   "execution_count": 135,
   "metadata": {},
   "outputs": [],
   "source": [
    "test = scaler.transform(test_df2)"
   ]
  },
  {
   "cell_type": "code",
   "execution_count": null,
   "metadata": {},
   "outputs": [],
   "source": [
    "#XGBC_best = XGBClassifier().fit(X_train , Y_train)"
   ]
  },
  {
   "cell_type": "code",
   "execution_count": 136,
   "metadata": {},
   "outputs": [],
   "source": [
    "#a = votingC.predict(test) #GBC_best.predict_proba(test)\n",
    "a = XGBC_best.predict(test)\n",
    "test_df2['prediction'] = a "
   ]
  },
  {
   "cell_type": "code",
   "execution_count": 137,
   "metadata": {},
   "outputs": [
    {
     "data": {
      "text/plain": [
       "1    8173\n",
       "0     403\n",
       "Name: prediction, dtype: int64"
      ]
     },
     "execution_count": 137,
     "metadata": {},
     "output_type": "execute_result"
    }
   ],
   "source": [
    "test_df2['prediction'].value_counts()"
   ]
  },
  {
   "cell_type": "code",
   "execution_count": 139,
   "metadata": {},
   "outputs": [
    {
     "name": "stdout",
     "output_type": "stream",
     "text": [
      "<class 'pandas.core.frame.DataFrame'>\n",
      "Int64Index: 8576 entries, 213284604 to 222860703\n",
      "Data columns (total 1 columns):\n",
      " #   Column      Non-Null Count  Dtype\n",
      "---  ------      --------------  -----\n",
      " 0   prediction  8576 non-null   int64\n",
      "dtypes: int64(1)\n",
      "memory usage: 134.0 KB\n"
     ]
    }
   ],
   "source": [
    "#output_df = test_df2.drop(['additional_fare','duration','meter_waiting','meter_waiting_fare','meter_waiting_till_pickup','fare','lat_change','lon_change'],axis='columns')\n",
    "# output_df = test_df2['prediction']\n",
    "output_df = test_df2.drop(['additional_fare','duration','fare','euc_distance','meter_waiting_fare','meter_waiting','travel_time'],axis='columns')\n",
    "\n",
    "output_df.head()\n",
    "output_df.info()"
   ]
  },
  {
   "cell_type": "code",
   "execution_count": 140,
   "metadata": {},
   "outputs": [
    {
     "data": {
      "text/plain": [
       "count    8576.000000\n",
       "mean        0.953008\n",
       "std         0.211633\n",
       "min         0.000000\n",
       "25%         1.000000\n",
       "50%         1.000000\n",
       "75%         1.000000\n",
       "max         1.000000\n",
       "Name: prediction, dtype: float64"
      ]
     },
     "execution_count": 140,
     "metadata": {},
     "output_type": "execute_result"
    }
   ],
   "source": [
    "output_df.prediction.describe()"
   ]
  },
  {
   "cell_type": "code",
   "execution_count": null,
   "metadata": {},
   "outputs": [],
   "source": [
    "output_df.to_csv('submission_30.csv', index=True)"
   ]
  }
 ],
 "metadata": {
  "kernelspec": {
   "display_name": "Python 3",
   "language": "python",
   "name": "python3"
  },
  "language_info": {
   "codemirror_mode": {
    "name": "ipython",
    "version": 3
   },
   "file_extension": ".py",
   "mimetype": "text/x-python",
   "name": "python",
   "nbconvert_exporter": "python",
   "pygments_lexer": "ipython3",
   "version": "3.7.3"
  }
 },
 "nbformat": 4,
 "nbformat_minor": 4
}
