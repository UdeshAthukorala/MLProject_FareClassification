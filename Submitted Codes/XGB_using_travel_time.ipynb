{
 "cells": [
  {
   "cell_type": "code",
   "execution_count": 1485,
   "metadata": {
    "_cell_guid": "b1076dfc-b9ad-4769-8c92-a6c4dae69d19",
    "_uuid": "8f2839f25d086af736a60e9eeb907d3b93b6e0e5"
   },
   "outputs": [
    {
     "name": "stdout",
     "output_type": "stream",
     "text": [
      "/kaggle/input/fare-dataset/test.csv\n",
      "/kaggle/input/fare-dataset/train.csv\n"
     ]
    }
   ],
   "source": [
    "# This Python 3 environment comes with many helpful analytics libraries installed\n",
    "# It is defined by the kaggle/python Docker image: https://github.com/kaggle/docker-python\n",
    "# For example, here's several helpful packages to load\n",
    "\n",
    "import numpy as np # linear algebra\n",
    "import pandas as pd # data processing, CSV file I/O (e.g. pd.read_csv)\n",
    "\n",
    "from sklearn.ensemble import RandomForestClassifier, AdaBoostClassifier, GradientBoostingClassifier, ExtraTreesClassifier, VotingClassifier, BaggingClassifier\n",
    "from sklearn.discriminant_analysis import LinearDiscriminantAnalysis\n",
    "from sklearn.linear_model import LogisticRegression, RidgeClassifier, SGDClassifier\n",
    "from sklearn.neighbors import KNeighborsClassifier, RadiusNeighborsClassifier\n",
    "from sklearn.tree import DecisionTreeClassifier\n",
    "from sklearn.neural_network import MLPClassifier\n",
    "from sklearn.svm import SVC\n",
    "from sklearn.model_selection import GridSearchCV, cross_val_score, cross_val_predict, StratifiedKFold, learning_curve, KFold, train_test_split\n",
    "from sklearn import naive_bayes\n",
    "from sklearn.preprocessing import LabelEncoder,StandardScaler, MinMaxScaler\n",
    "from sklearn.utils import resample\n",
    "from sklearn.metrics import f1_score\n",
    "from imblearn.over_sampling import SMOTE\n",
    "from sklearn.impute import SimpleImputer\n",
    "from sklearn.compose import ColumnTransformer\n",
    "from sklearn.pipeline import Pipeline\n",
    "from sklearn.decomposition import PCA\n",
    "\n",
    "from xgboost import XGBClassifier\n",
    "import seaborn as sns\n",
    "from imblearn.pipeline import Pipeline, make_pipeline\n",
    "\n",
    "\n",
    "from collections import Counter\n",
    "%matplotlib inline\n",
    "import matplotlib.pyplot as plt\n",
    "import seaborn as sns\n",
    "sns.set(style='white', context='notebook', palette='deep')\n",
    "# Input data files are available in the read-only \"../input/\" directory\n",
    "# For example, running this (by clicking run or pressing Shift+Enter) will list all files under the input directory\n",
    "\n",
    "\n",
    "import os\n",
    "for dirname, _, filenames in os.walk('/kaggle/input'):\n",
    "    for filename in filenames:\n",
    "        print(os.path.join(dirname, filename))\n",
    "\n",
    "# You can write up to 5GB to the current directory (/kaggle/working/) that gets preserved as output when you create a version using \"Save & Run All\" \n",
    "# You can also write temporary files to /kaggle/temp/, but they won't be saved outside of the current session\n",
    "\n",
    "RANDOM_SEED = 6    # Set a random seed for reproducibility!"
   ]
  },
  {
   "cell_type": "code",
   "execution_count": 1486,
   "metadata": {
    "_cell_guid": "79c7e3d0-c299-4dcb-8224-4455121ee9b0",
    "_uuid": "d629ff2d2480ee46fbb7e2d37f6b5fab8052498a"
   },
   "outputs": [],
   "source": [
    "train_df = pd.read_csv(\"/kaggle/input/fare-dataset/train.csv\", index_col=\"tripid\")\n",
    "test_df = pd.read_csv(\"/kaggle/input/fare-dataset/test.csv\", index_col=\"tripid\")"
   ]
  },
  {
   "cell_type": "code",
   "execution_count": 1487,
   "metadata": {},
   "outputs": [
    {
     "data": {
      "text/plain": [
       "correct      15495\n",
       "incorrect     1681\n",
       "Name: label, dtype: int64"
      ]
     },
     "execution_count": 1487,
     "metadata": {},
     "output_type": "execute_result"
    }
   ],
   "source": [
    "train_df['label'].value_counts()"
   ]
  },
  {
   "cell_type": "code",
   "execution_count": 1488,
   "metadata": {},
   "outputs": [],
   "source": [
    "train_df[\"label\"] = train_df[\"label\"].map({\"incorrect\": 0, \"correct\":1})"
   ]
  },
  {
   "cell_type": "code",
   "execution_count": 1489,
   "metadata": {},
   "outputs": [
    {
     "name": "stdout",
     "output_type": "stream",
     "text": [
      "<class 'pandas.core.frame.DataFrame'>\n",
      "Int64Index: 17176 entries, 189123628 to 213817296\n",
      "Data columns (total 17 columns):\n",
      " #   Column                     Non-Null Count  Dtype         \n",
      "---  ------                     --------------  -----         \n",
      " 0   additional_fare            16974 non-null  float64       \n",
      " 1   duration                   16974 non-null  float64       \n",
      " 2   meter_waiting              16974 non-null  float64       \n",
      " 3   meter_waiting_fare         16974 non-null  float64       \n",
      " 4   meter_waiting_till_pickup  16974 non-null  float64       \n",
      " 5   pickup_time                17176 non-null  object        \n",
      " 6   drop_time                  17176 non-null  object        \n",
      " 7   pick_lat                   17176 non-null  float64       \n",
      " 8   pick_lon                   17176 non-null  float64       \n",
      " 9   drop_lat                   17176 non-null  float64       \n",
      " 10  drop_lon                   17176 non-null  float64       \n",
      " 11  fare                       17039 non-null  float64       \n",
      " 12  label                      17176 non-null  int64         \n",
      " 13  pickup                     17176 non-null  datetime64[ns]\n",
      " 14  drop                       17176 non-null  datetime64[ns]\n",
      " 15  difference                 17176 non-null  float64       \n",
      " 16  travel_time                16974 non-null  float64       \n",
      "dtypes: datetime64[ns](2), float64(12), int64(1), object(2)\n",
      "memory usage: 2.4+ MB\n"
     ]
    },
    {
     "data": {
      "text/html": [
       "<div>\n",
       "<style scoped>\n",
       "    .dataframe tbody tr th:only-of-type {\n",
       "        vertical-align: middle;\n",
       "    }\n",
       "\n",
       "    .dataframe tbody tr th {\n",
       "        vertical-align: top;\n",
       "    }\n",
       "\n",
       "    .dataframe thead th {\n",
       "        text-align: right;\n",
       "    }\n",
       "</style>\n",
       "<table border=\"1\" class=\"dataframe\">\n",
       "  <thead>\n",
       "    <tr style=\"text-align: right;\">\n",
       "      <th></th>\n",
       "      <th>additional_fare</th>\n",
       "      <th>duration</th>\n",
       "      <th>meter_waiting</th>\n",
       "      <th>meter_waiting_fare</th>\n",
       "      <th>meter_waiting_till_pickup</th>\n",
       "      <th>pickup_time</th>\n",
       "      <th>drop_time</th>\n",
       "      <th>pick_lat</th>\n",
       "      <th>pick_lon</th>\n",
       "      <th>drop_lat</th>\n",
       "      <th>drop_lon</th>\n",
       "      <th>fare</th>\n",
       "      <th>label</th>\n",
       "      <th>pickup</th>\n",
       "      <th>drop</th>\n",
       "      <th>difference</th>\n",
       "      <th>travel_time</th>\n",
       "    </tr>\n",
       "    <tr>\n",
       "      <th>tripid</th>\n",
       "      <th></th>\n",
       "      <th></th>\n",
       "      <th></th>\n",
       "      <th></th>\n",
       "      <th></th>\n",
       "      <th></th>\n",
       "      <th></th>\n",
       "      <th></th>\n",
       "      <th></th>\n",
       "      <th></th>\n",
       "      <th></th>\n",
       "      <th></th>\n",
       "      <th></th>\n",
       "      <th></th>\n",
       "      <th></th>\n",
       "      <th></th>\n",
       "      <th></th>\n",
       "    </tr>\n",
       "  </thead>\n",
       "  <tbody>\n",
       "    <tr>\n",
       "      <th>189123628</th>\n",
       "      <td>10.5</td>\n",
       "      <td>834.0</td>\n",
       "      <td>56.0</td>\n",
       "      <td>0.0000</td>\n",
       "      <td>64.0</td>\n",
       "      <td>11/1/2019 0:20</td>\n",
       "      <td>11/1/2019 0:34</td>\n",
       "      <td>6.86252</td>\n",
       "      <td>79.8993</td>\n",
       "      <td>6.90330</td>\n",
       "      <td>79.8783</td>\n",
       "      <td>270.32</td>\n",
       "      <td>1</td>\n",
       "      <td>2019-11-01 00:20:00</td>\n",
       "      <td>2019-11-01 00:34:00</td>\n",
       "      <td>840.0</td>\n",
       "      <td>778.0</td>\n",
       "    </tr>\n",
       "    <tr>\n",
       "      <th>189125358</th>\n",
       "      <td>10.5</td>\n",
       "      <td>791.0</td>\n",
       "      <td>47.0</td>\n",
       "      <td>0.0000</td>\n",
       "      <td>134.0</td>\n",
       "      <td>11/1/2019 0:56</td>\n",
       "      <td>11/1/2019 1:09</td>\n",
       "      <td>6.88589</td>\n",
       "      <td>79.8984</td>\n",
       "      <td>6.91373</td>\n",
       "      <td>79.8923</td>\n",
       "      <td>197.85</td>\n",
       "      <td>1</td>\n",
       "      <td>2019-11-01 00:56:00</td>\n",
       "      <td>2019-11-01 01:09:00</td>\n",
       "      <td>780.0</td>\n",
       "      <td>744.0</td>\n",
       "    </tr>\n",
       "    <tr>\n",
       "      <th>189125719</th>\n",
       "      <td>10.5</td>\n",
       "      <td>1087.0</td>\n",
       "      <td>80.0</td>\n",
       "      <td>0.0000</td>\n",
       "      <td>61.0</td>\n",
       "      <td>11/1/2019 1:08</td>\n",
       "      <td>11/1/2019 1:26</td>\n",
       "      <td>6.90839</td>\n",
       "      <td>79.8651</td>\n",
       "      <td>6.93669</td>\n",
       "      <td>79.9146</td>\n",
       "      <td>301.64</td>\n",
       "      <td>1</td>\n",
       "      <td>2019-11-01 01:08:00</td>\n",
       "      <td>2019-11-01 01:26:00</td>\n",
       "      <td>1080.0</td>\n",
       "      <td>1007.0</td>\n",
       "    </tr>\n",
       "    <tr>\n",
       "      <th>189127273</th>\n",
       "      <td>10.5</td>\n",
       "      <td>598.0</td>\n",
       "      <td>271.0</td>\n",
       "      <td>15.6638</td>\n",
       "      <td>68.0</td>\n",
       "      <td>11/1/2019 2:27</td>\n",
       "      <td>11/1/2019 2:37</td>\n",
       "      <td>6.92570</td>\n",
       "      <td>79.8895</td>\n",
       "      <td>6.92748</td>\n",
       "      <td>79.8971</td>\n",
       "      <td>82.30</td>\n",
       "      <td>1</td>\n",
       "      <td>2019-11-01 02:27:00</td>\n",
       "      <td>2019-11-01 02:37:00</td>\n",
       "      <td>600.0</td>\n",
       "      <td>327.0</td>\n",
       "    </tr>\n",
       "    <tr>\n",
       "      <th>189128020</th>\n",
       "      <td>NaN</td>\n",
       "      <td>NaN</td>\n",
       "      <td>NaN</td>\n",
       "      <td>NaN</td>\n",
       "      <td>NaN</td>\n",
       "      <td>11/1/2019 3:34</td>\n",
       "      <td>11/1/2019 3:51</td>\n",
       "      <td>6.87441</td>\n",
       "      <td>79.8615</td>\n",
       "      <td>6.84478</td>\n",
       "      <td>79.9290</td>\n",
       "      <td>358.39</td>\n",
       "      <td>1</td>\n",
       "      <td>2019-11-01 03:34:00</td>\n",
       "      <td>2019-11-01 03:51:00</td>\n",
       "      <td>1020.0</td>\n",
       "      <td>NaN</td>\n",
       "    </tr>\n",
       "  </tbody>\n",
       "</table>\n",
       "</div>"
      ],
      "text/plain": [
       "           additional_fare  duration  meter_waiting  meter_waiting_fare  \\\n",
       "tripid                                                                    \n",
       "189123628             10.5     834.0           56.0              0.0000   \n",
       "189125358             10.5     791.0           47.0              0.0000   \n",
       "189125719             10.5    1087.0           80.0              0.0000   \n",
       "189127273             10.5     598.0          271.0             15.6638   \n",
       "189128020              NaN       NaN            NaN                 NaN   \n",
       "\n",
       "           meter_waiting_till_pickup     pickup_time       drop_time  \\\n",
       "tripid                                                                 \n",
       "189123628                       64.0  11/1/2019 0:20  11/1/2019 0:34   \n",
       "189125358                      134.0  11/1/2019 0:56  11/1/2019 1:09   \n",
       "189125719                       61.0  11/1/2019 1:08  11/1/2019 1:26   \n",
       "189127273                       68.0  11/1/2019 2:27  11/1/2019 2:37   \n",
       "189128020                        NaN  11/1/2019 3:34  11/1/2019 3:51   \n",
       "\n",
       "           pick_lat  pick_lon  drop_lat  drop_lon    fare  label  \\\n",
       "tripid                                                             \n",
       "189123628   6.86252   79.8993   6.90330   79.8783  270.32      1   \n",
       "189125358   6.88589   79.8984   6.91373   79.8923  197.85      1   \n",
       "189125719   6.90839   79.8651   6.93669   79.9146  301.64      1   \n",
       "189127273   6.92570   79.8895   6.92748   79.8971   82.30      1   \n",
       "189128020   6.87441   79.8615   6.84478   79.9290  358.39      1   \n",
       "\n",
       "                       pickup                drop  difference  travel_time  \n",
       "tripid                                                                      \n",
       "189123628 2019-11-01 00:20:00 2019-11-01 00:34:00       840.0        778.0  \n",
       "189125358 2019-11-01 00:56:00 2019-11-01 01:09:00       780.0        744.0  \n",
       "189125719 2019-11-01 01:08:00 2019-11-01 01:26:00      1080.0       1007.0  \n",
       "189127273 2019-11-01 02:27:00 2019-11-01 02:37:00       600.0        327.0  \n",
       "189128020 2019-11-01 03:34:00 2019-11-01 03:51:00      1020.0          NaN  "
      ]
     },
     "execution_count": 1489,
     "metadata": {},
     "output_type": "execute_result"
    }
   ],
   "source": [
    "train_df[\"pickup\"] = pd.to_datetime(train_df[\"pickup_time\"])\n",
    "train_df[\"drop\"] = pd.to_datetime(train_df[\"drop_time\"])\n",
    "train_df ['difference'] = train_df[\"drop\"] - train_df[\"pickup\"]\n",
    "train_df ['difference'] = train_df ['difference']/np.timedelta64(1,'s')\n",
    "# train_df['duration'] = train_df['duration'].fillna(train_df ['difference'])\n",
    "train_df['travel_time'] = train_df['duration'] - train_df['meter_waiting']\n",
    "\n",
    "#train_df['duration'] = train_df ['difference']\n",
    "train_df['duration'] = np.where(abs(train_df['duration']-train_df['difference']) > 120, train_df['difference'], train_df['duration'])\n",
    "train_df.info()\n",
    "train_df.head()\n",
    "\n",
    "# new_df = train_df[\"pickup_time\"]-train_df[\"drop_time\"]\n",
    "# train_df.info()\n",
    "# train_df.head()\n",
    "train_df.isnull().sum()\n",
    "train_df.head()"
   ]
  },
  {
   "cell_type": "code",
   "execution_count": 1490,
   "metadata": {},
   "outputs": [
    {
     "data": {
      "text/html": [
       "<div>\n",
       "<style scoped>\n",
       "    .dataframe tbody tr th:only-of-type {\n",
       "        vertical-align: middle;\n",
       "    }\n",
       "\n",
       "    .dataframe tbody tr th {\n",
       "        vertical-align: top;\n",
       "    }\n",
       "\n",
       "    .dataframe thead th {\n",
       "        text-align: right;\n",
       "    }\n",
       "</style>\n",
       "<table border=\"1\" class=\"dataframe\">\n",
       "  <thead>\n",
       "    <tr style=\"text-align: right;\">\n",
       "      <th></th>\n",
       "      <th>additional_fare</th>\n",
       "      <th>duration</th>\n",
       "      <th>meter_waiting</th>\n",
       "      <th>meter_waiting_fare</th>\n",
       "      <th>meter_waiting_till_pickup</th>\n",
       "      <th>pickup_time</th>\n",
       "      <th>drop_time</th>\n",
       "      <th>pick_lat</th>\n",
       "      <th>pick_lon</th>\n",
       "      <th>drop_lat</th>\n",
       "      <th>drop_lon</th>\n",
       "      <th>fare</th>\n",
       "      <th>label</th>\n",
       "      <th>pickup</th>\n",
       "      <th>drop</th>\n",
       "      <th>difference</th>\n",
       "      <th>travel_time</th>\n",
       "    </tr>\n",
       "    <tr>\n",
       "      <th>tripid</th>\n",
       "      <th></th>\n",
       "      <th></th>\n",
       "      <th></th>\n",
       "      <th></th>\n",
       "      <th></th>\n",
       "      <th></th>\n",
       "      <th></th>\n",
       "      <th></th>\n",
       "      <th></th>\n",
       "      <th></th>\n",
       "      <th></th>\n",
       "      <th></th>\n",
       "      <th></th>\n",
       "      <th></th>\n",
       "      <th></th>\n",
       "      <th></th>\n",
       "      <th></th>\n",
       "    </tr>\n",
       "  </thead>\n",
       "  <tbody>\n",
       "    <tr>\n",
       "      <th>191056435</th>\n",
       "      <td>10.50</td>\n",
       "      <td>80.0</td>\n",
       "      <td>80.0</td>\n",
       "      <td>0.0000</td>\n",
       "      <td>51288.0</td>\n",
       "      <td>11/10/2019 9:59</td>\n",
       "      <td>11/10/2019 10:01</td>\n",
       "      <td>7.03001</td>\n",
       "      <td>79.9214</td>\n",
       "      <td>7.04234</td>\n",
       "      <td>79.9142</td>\n",
       "      <td>60.50</td>\n",
       "      <td>1</td>\n",
       "      <td>2019-11-10 09:59:00</td>\n",
       "      <td>2019-11-10 10:01:00</td>\n",
       "      <td>120.0</td>\n",
       "      <td>0.0</td>\n",
       "    </tr>\n",
       "    <tr>\n",
       "      <th>192182656</th>\n",
       "      <td>5.00</td>\n",
       "      <td>240.0</td>\n",
       "      <td>23.0</td>\n",
       "      <td>1.3409</td>\n",
       "      <td>0.0</td>\n",
       "      <td>11/15/2019 14:31</td>\n",
       "      <td>11/15/2019 14:35</td>\n",
       "      <td>6.87287</td>\n",
       "      <td>79.8908</td>\n",
       "      <td>6.87959</td>\n",
       "      <td>79.8911</td>\n",
       "      <td>NaN</td>\n",
       "      <td>0</td>\n",
       "      <td>2019-11-15 14:31:00</td>\n",
       "      <td>2019-11-15 14:35:00</td>\n",
       "      <td>240.0</td>\n",
       "      <td>0.0</td>\n",
       "    </tr>\n",
       "    <tr>\n",
       "      <th>193653017</th>\n",
       "      <td>0.00</td>\n",
       "      <td>1560.0</td>\n",
       "      <td>0.0</td>\n",
       "      <td>0.0000</td>\n",
       "      <td>540.0</td>\n",
       "      <td>11/21/2019 15:57</td>\n",
       "      <td>11/21/2019 16:23</td>\n",
       "      <td>6.90471</td>\n",
       "      <td>79.8520</td>\n",
       "      <td>6.90457</td>\n",
       "      <td>79.8519</td>\n",
       "      <td>0.00</td>\n",
       "      <td>0</td>\n",
       "      <td>2019-11-21 15:57:00</td>\n",
       "      <td>2019-11-21 16:23:00</td>\n",
       "      <td>1560.0</td>\n",
       "      <td>0.0</td>\n",
       "    </tr>\n",
       "    <tr>\n",
       "      <th>195445714</th>\n",
       "      <td>10.50</td>\n",
       "      <td>27.0</td>\n",
       "      <td>27.0</td>\n",
       "      <td>0.0000</td>\n",
       "      <td>85.0</td>\n",
       "      <td>11/27/2019 18:50</td>\n",
       "      <td>11/27/2019 18:51</td>\n",
       "      <td>6.84092</td>\n",
       "      <td>79.9990</td>\n",
       "      <td>6.82197</td>\n",
       "      <td>79.9983</td>\n",
       "      <td>60.50</td>\n",
       "      <td>0</td>\n",
       "      <td>2019-11-27 18:50:00</td>\n",
       "      <td>2019-11-27 18:51:00</td>\n",
       "      <td>60.0</td>\n",
       "      <td>0.0</td>\n",
       "    </tr>\n",
       "    <tr>\n",
       "      <th>197020223</th>\n",
       "      <td>10.50</td>\n",
       "      <td>49.0</td>\n",
       "      <td>49.0</td>\n",
       "      <td>2.8567</td>\n",
       "      <td>30.0</td>\n",
       "      <td>12/1/2019 17:21</td>\n",
       "      <td>12/1/2019 17:22</td>\n",
       "      <td>6.86513</td>\n",
       "      <td>79.8788</td>\n",
       "      <td>6.86514</td>\n",
       "      <td>79.8788</td>\n",
       "      <td>63.35</td>\n",
       "      <td>1</td>\n",
       "      <td>2019-12-01 17:21:00</td>\n",
       "      <td>2019-12-01 17:22:00</td>\n",
       "      <td>60.0</td>\n",
       "      <td>0.0</td>\n",
       "    </tr>\n",
       "    <tr>\n",
       "      <th>197271380</th>\n",
       "      <td>10.50</td>\n",
       "      <td>29.0</td>\n",
       "      <td>29.0</td>\n",
       "      <td>0.0000</td>\n",
       "      <td>67.0</td>\n",
       "      <td>12/2/2019 19:17</td>\n",
       "      <td>12/2/2019 19:18</td>\n",
       "      <td>6.93262</td>\n",
       "      <td>79.8417</td>\n",
       "      <td>6.83686</td>\n",
       "      <td>79.8930</td>\n",
       "      <td>507.22</td>\n",
       "      <td>0</td>\n",
       "      <td>2019-12-02 19:17:00</td>\n",
       "      <td>2019-12-02 19:18:00</td>\n",
       "      <td>60.0</td>\n",
       "      <td>0.0</td>\n",
       "    </tr>\n",
       "    <tr>\n",
       "      <th>197546607</th>\n",
       "      <td>10.50</td>\n",
       "      <td>28.0</td>\n",
       "      <td>28.0</td>\n",
       "      <td>0.0000</td>\n",
       "      <td>132.0</td>\n",
       "      <td>12/4/2019 9:30</td>\n",
       "      <td>12/4/2019 9:31</td>\n",
       "      <td>6.95391</td>\n",
       "      <td>79.8623</td>\n",
       "      <td>6.86921</td>\n",
       "      <td>79.8588</td>\n",
       "      <td>60.50</td>\n",
       "      <td>0</td>\n",
       "      <td>2019-12-04 09:30:00</td>\n",
       "      <td>2019-12-04 09:31:00</td>\n",
       "      <td>60.0</td>\n",
       "      <td>0.0</td>\n",
       "    </tr>\n",
       "    <tr>\n",
       "      <th>199104080</th>\n",
       "      <td>21.00</td>\n",
       "      <td>49.0</td>\n",
       "      <td>49.0</td>\n",
       "      <td>2.8567</td>\n",
       "      <td>681.0</td>\n",
       "      <td>12/9/2019 19:04</td>\n",
       "      <td>12/9/2019 19:05</td>\n",
       "      <td>7.26668</td>\n",
       "      <td>80.5983</td>\n",
       "      <td>7.26704</td>\n",
       "      <td>80.5992</td>\n",
       "      <td>83.74</td>\n",
       "      <td>0</td>\n",
       "      <td>2019-12-09 19:04:00</td>\n",
       "      <td>2019-12-09 19:05:00</td>\n",
       "      <td>60.0</td>\n",
       "      <td>0.0</td>\n",
       "    </tr>\n",
       "    <tr>\n",
       "      <th>200235706</th>\n",
       "      <td>10.50</td>\n",
       "      <td>53.0</td>\n",
       "      <td>53.0</td>\n",
       "      <td>3.0899</td>\n",
       "      <td>4620.0</td>\n",
       "      <td>12/13/2019 14:44</td>\n",
       "      <td>12/13/2019 14:45</td>\n",
       "      <td>6.91705</td>\n",
       "      <td>79.9724</td>\n",
       "      <td>6.93689</td>\n",
       "      <td>79.9766</td>\n",
       "      <td>63.47</td>\n",
       "      <td>0</td>\n",
       "      <td>2019-12-13 14:44:00</td>\n",
       "      <td>2019-12-13 14:45:00</td>\n",
       "      <td>60.0</td>\n",
       "      <td>0.0</td>\n",
       "    </tr>\n",
       "    <tr>\n",
       "      <th>203915670</th>\n",
       "      <td>10.50</td>\n",
       "      <td>1300.0</td>\n",
       "      <td>1300.0</td>\n",
       "      <td>0.0000</td>\n",
       "      <td>688.0</td>\n",
       "      <td>12/24/2019 23:08</td>\n",
       "      <td>12/24/2019 23:30</td>\n",
       "      <td>6.54998</td>\n",
       "      <td>79.9836</td>\n",
       "      <td>6.55791</td>\n",
       "      <td>79.9860</td>\n",
       "      <td>60.50</td>\n",
       "      <td>0</td>\n",
       "      <td>2019-12-24 23:08:00</td>\n",
       "      <td>2019-12-24 23:30:00</td>\n",
       "      <td>1320.0</td>\n",
       "      <td>0.0</td>\n",
       "    </tr>\n",
       "    <tr>\n",
       "      <th>205035393</th>\n",
       "      <td>450.82</td>\n",
       "      <td>68.0</td>\n",
       "      <td>1555.0</td>\n",
       "      <td>90.6565</td>\n",
       "      <td>65.0</td>\n",
       "      <td>12/30/2019 10:10</td>\n",
       "      <td>12/30/2019 10:12</td>\n",
       "      <td>7.47655</td>\n",
       "      <td>80.3588</td>\n",
       "      <td>7.48167</td>\n",
       "      <td>80.3607</td>\n",
       "      <td>591.47</td>\n",
       "      <td>0</td>\n",
       "      <td>2019-12-30 10:10:00</td>\n",
       "      <td>2019-12-30 10:12:00</td>\n",
       "      <td>120.0</td>\n",
       "      <td>-1487.0</td>\n",
       "    </tr>\n",
       "    <tr>\n",
       "      <th>207947602</th>\n",
       "      <td>40.50</td>\n",
       "      <td>24.0</td>\n",
       "      <td>617.0</td>\n",
       "      <td>0.0000</td>\n",
       "      <td>229.0</td>\n",
       "      <td>1/8/2020 14:55</td>\n",
       "      <td>1/8/2020 14:56</td>\n",
       "      <td>6.93383</td>\n",
       "      <td>79.8545</td>\n",
       "      <td>6.93317</td>\n",
       "      <td>79.8556</td>\n",
       "      <td>90.50</td>\n",
       "      <td>1</td>\n",
       "      <td>2020-01-08 14:55:00</td>\n",
       "      <td>2020-01-08 14:56:00</td>\n",
       "      <td>60.0</td>\n",
       "      <td>-593.0</td>\n",
       "    </tr>\n",
       "    <tr>\n",
       "      <th>208324987</th>\n",
       "      <td>10.50</td>\n",
       "      <td>65.0</td>\n",
       "      <td>774.0</td>\n",
       "      <td>0.0000</td>\n",
       "      <td>108.0</td>\n",
       "      <td>1/9/2020 16:11</td>\n",
       "      <td>1/9/2020 16:12</td>\n",
       "      <td>6.91368</td>\n",
       "      <td>79.9714</td>\n",
       "      <td>6.91061</td>\n",
       "      <td>79.9717</td>\n",
       "      <td>60.50</td>\n",
       "      <td>0</td>\n",
       "      <td>2020-01-09 16:11:00</td>\n",
       "      <td>2020-01-09 16:12:00</td>\n",
       "      <td>60.0</td>\n",
       "      <td>-709.0</td>\n",
       "    </tr>\n",
       "    <tr>\n",
       "      <th>209365576</th>\n",
       "      <td>12795.03</td>\n",
       "      <td>40.0</td>\n",
       "      <td>210164.0</td>\n",
       "      <td>12252.5612</td>\n",
       "      <td>182.0</td>\n",
       "      <td>1/16/2020 5:29</td>\n",
       "      <td>1/16/2020 5:29</td>\n",
       "      <td>7.15515</td>\n",
       "      <td>79.8718</td>\n",
       "      <td>7.15537</td>\n",
       "      <td>79.8799</td>\n",
       "      <td>25097.59</td>\n",
       "      <td>0</td>\n",
       "      <td>2020-01-16 05:29:00</td>\n",
       "      <td>2020-01-16 05:29:00</td>\n",
       "      <td>0.0</td>\n",
       "      <td>-210124.0</td>\n",
       "    </tr>\n",
       "    <tr>\n",
       "      <th>211275614</th>\n",
       "      <td>10.50</td>\n",
       "      <td>61.0</td>\n",
       "      <td>61.0</td>\n",
       "      <td>0.0000</td>\n",
       "      <td>115.0</td>\n",
       "      <td>1/21/2020 18:34</td>\n",
       "      <td>1/21/2020 18:35</td>\n",
       "      <td>6.81599</td>\n",
       "      <td>79.9712</td>\n",
       "      <td>6.85420</td>\n",
       "      <td>79.9581</td>\n",
       "      <td>60.50</td>\n",
       "      <td>0</td>\n",
       "      <td>2020-01-21 18:34:00</td>\n",
       "      <td>2020-01-21 18:35:00</td>\n",
       "      <td>60.0</td>\n",
       "      <td>0.0</td>\n",
       "    </tr>\n",
       "    <tr>\n",
       "      <th>211428449</th>\n",
       "      <td>10.50</td>\n",
       "      <td>39.0</td>\n",
       "      <td>39.0</td>\n",
       "      <td>2.2737</td>\n",
       "      <td>4092.0</td>\n",
       "      <td>1/22/2020 15:11</td>\n",
       "      <td>1/22/2020 15:12</td>\n",
       "      <td>6.91584</td>\n",
       "      <td>79.8522</td>\n",
       "      <td>6.91657</td>\n",
       "      <td>79.8523</td>\n",
       "      <td>62.77</td>\n",
       "      <td>0</td>\n",
       "      <td>2020-01-22 15:11:00</td>\n",
       "      <td>2020-01-22 15:12:00</td>\n",
       "      <td>60.0</td>\n",
       "      <td>0.0</td>\n",
       "    </tr>\n",
       "    <tr>\n",
       "      <th>212290406</th>\n",
       "      <td>10.50</td>\n",
       "      <td>38.0</td>\n",
       "      <td>38.0</td>\n",
       "      <td>0.0000</td>\n",
       "      <td>8.0</td>\n",
       "      <td>1/26/2020 12:22</td>\n",
       "      <td>1/26/2020 12:23</td>\n",
       "      <td>6.86662</td>\n",
       "      <td>79.8773</td>\n",
       "      <td>6.86424</td>\n",
       "      <td>79.8772</td>\n",
       "      <td>60.50</td>\n",
       "      <td>0</td>\n",
       "      <td>2020-01-26 12:22:00</td>\n",
       "      <td>2020-01-26 12:23:00</td>\n",
       "      <td>60.0</td>\n",
       "      <td>0.0</td>\n",
       "    </tr>\n",
       "    <tr>\n",
       "      <th>213112837</th>\n",
       "      <td>0.00</td>\n",
       "      <td>1380.0</td>\n",
       "      <td>0.0</td>\n",
       "      <td>0.0000</td>\n",
       "      <td>973.0</td>\n",
       "      <td>1/29/2020 20:00</td>\n",
       "      <td>1/29/2020 20:23</td>\n",
       "      <td>6.85275</td>\n",
       "      <td>79.9391</td>\n",
       "      <td>6.84612</td>\n",
       "      <td>79.9428</td>\n",
       "      <td>0.00</td>\n",
       "      <td>0</td>\n",
       "      <td>2020-01-29 20:00:00</td>\n",
       "      <td>2020-01-29 20:23:00</td>\n",
       "      <td>1380.0</td>\n",
       "      <td>0.0</td>\n",
       "    </tr>\n",
       "  </tbody>\n",
       "</table>\n",
       "</div>"
      ],
      "text/plain": [
       "           additional_fare  duration  meter_waiting  meter_waiting_fare  \\\n",
       "tripid                                                                    \n",
       "191056435            10.50      80.0           80.0              0.0000   \n",
       "192182656             5.00     240.0           23.0              1.3409   \n",
       "193653017             0.00    1560.0            0.0              0.0000   \n",
       "195445714            10.50      27.0           27.0              0.0000   \n",
       "197020223            10.50      49.0           49.0              2.8567   \n",
       "197271380            10.50      29.0           29.0              0.0000   \n",
       "197546607            10.50      28.0           28.0              0.0000   \n",
       "199104080            21.00      49.0           49.0              2.8567   \n",
       "200235706            10.50      53.0           53.0              3.0899   \n",
       "203915670            10.50    1300.0         1300.0              0.0000   \n",
       "205035393           450.82      68.0         1555.0             90.6565   \n",
       "207947602            40.50      24.0          617.0              0.0000   \n",
       "208324987            10.50      65.0          774.0              0.0000   \n",
       "209365576         12795.03      40.0       210164.0          12252.5612   \n",
       "211275614            10.50      61.0           61.0              0.0000   \n",
       "211428449            10.50      39.0           39.0              2.2737   \n",
       "212290406            10.50      38.0           38.0              0.0000   \n",
       "213112837             0.00    1380.0            0.0              0.0000   \n",
       "\n",
       "           meter_waiting_till_pickup       pickup_time         drop_time  \\\n",
       "tripid                                                                     \n",
       "191056435                    51288.0   11/10/2019 9:59  11/10/2019 10:01   \n",
       "192182656                        0.0  11/15/2019 14:31  11/15/2019 14:35   \n",
       "193653017                      540.0  11/21/2019 15:57  11/21/2019 16:23   \n",
       "195445714                       85.0  11/27/2019 18:50  11/27/2019 18:51   \n",
       "197020223                       30.0   12/1/2019 17:21   12/1/2019 17:22   \n",
       "197271380                       67.0   12/2/2019 19:17   12/2/2019 19:18   \n",
       "197546607                      132.0    12/4/2019 9:30    12/4/2019 9:31   \n",
       "199104080                      681.0   12/9/2019 19:04   12/9/2019 19:05   \n",
       "200235706                     4620.0  12/13/2019 14:44  12/13/2019 14:45   \n",
       "203915670                      688.0  12/24/2019 23:08  12/24/2019 23:30   \n",
       "205035393                       65.0  12/30/2019 10:10  12/30/2019 10:12   \n",
       "207947602                      229.0    1/8/2020 14:55    1/8/2020 14:56   \n",
       "208324987                      108.0    1/9/2020 16:11    1/9/2020 16:12   \n",
       "209365576                      182.0    1/16/2020 5:29    1/16/2020 5:29   \n",
       "211275614                      115.0   1/21/2020 18:34   1/21/2020 18:35   \n",
       "211428449                     4092.0   1/22/2020 15:11   1/22/2020 15:12   \n",
       "212290406                        8.0   1/26/2020 12:22   1/26/2020 12:23   \n",
       "213112837                      973.0   1/29/2020 20:00   1/29/2020 20:23   \n",
       "\n",
       "           pick_lat  pick_lon  drop_lat  drop_lon      fare  label  \\\n",
       "tripid                                                               \n",
       "191056435   7.03001   79.9214   7.04234   79.9142     60.50      1   \n",
       "192182656   6.87287   79.8908   6.87959   79.8911       NaN      0   \n",
       "193653017   6.90471   79.8520   6.90457   79.8519      0.00      0   \n",
       "195445714   6.84092   79.9990   6.82197   79.9983     60.50      0   \n",
       "197020223   6.86513   79.8788   6.86514   79.8788     63.35      1   \n",
       "197271380   6.93262   79.8417   6.83686   79.8930    507.22      0   \n",
       "197546607   6.95391   79.8623   6.86921   79.8588     60.50      0   \n",
       "199104080   7.26668   80.5983   7.26704   80.5992     83.74      0   \n",
       "200235706   6.91705   79.9724   6.93689   79.9766     63.47      0   \n",
       "203915670   6.54998   79.9836   6.55791   79.9860     60.50      0   \n",
       "205035393   7.47655   80.3588   7.48167   80.3607    591.47      0   \n",
       "207947602   6.93383   79.8545   6.93317   79.8556     90.50      1   \n",
       "208324987   6.91368   79.9714   6.91061   79.9717     60.50      0   \n",
       "209365576   7.15515   79.8718   7.15537   79.8799  25097.59      0   \n",
       "211275614   6.81599   79.9712   6.85420   79.9581     60.50      0   \n",
       "211428449   6.91584   79.8522   6.91657   79.8523     62.77      0   \n",
       "212290406   6.86662   79.8773   6.86424   79.8772     60.50      0   \n",
       "213112837   6.85275   79.9391   6.84612   79.9428      0.00      0   \n",
       "\n",
       "                       pickup                drop  difference  travel_time  \n",
       "tripid                                                                      \n",
       "191056435 2019-11-10 09:59:00 2019-11-10 10:01:00       120.0          0.0  \n",
       "192182656 2019-11-15 14:31:00 2019-11-15 14:35:00       240.0          0.0  \n",
       "193653017 2019-11-21 15:57:00 2019-11-21 16:23:00      1560.0          0.0  \n",
       "195445714 2019-11-27 18:50:00 2019-11-27 18:51:00        60.0          0.0  \n",
       "197020223 2019-12-01 17:21:00 2019-12-01 17:22:00        60.0          0.0  \n",
       "197271380 2019-12-02 19:17:00 2019-12-02 19:18:00        60.0          0.0  \n",
       "197546607 2019-12-04 09:30:00 2019-12-04 09:31:00        60.0          0.0  \n",
       "199104080 2019-12-09 19:04:00 2019-12-09 19:05:00        60.0          0.0  \n",
       "200235706 2019-12-13 14:44:00 2019-12-13 14:45:00        60.0          0.0  \n",
       "203915670 2019-12-24 23:08:00 2019-12-24 23:30:00      1320.0          0.0  \n",
       "205035393 2019-12-30 10:10:00 2019-12-30 10:12:00       120.0      -1487.0  \n",
       "207947602 2020-01-08 14:55:00 2020-01-08 14:56:00        60.0       -593.0  \n",
       "208324987 2020-01-09 16:11:00 2020-01-09 16:12:00        60.0       -709.0  \n",
       "209365576 2020-01-16 05:29:00 2020-01-16 05:29:00         0.0    -210124.0  \n",
       "211275614 2020-01-21 18:34:00 2020-01-21 18:35:00        60.0          0.0  \n",
       "211428449 2020-01-22 15:11:00 2020-01-22 15:12:00        60.0          0.0  \n",
       "212290406 2020-01-26 12:22:00 2020-01-26 12:23:00        60.0          0.0  \n",
       "213112837 2020-01-29 20:00:00 2020-01-29 20:23:00      1380.0          0.0  "
      ]
     },
     "execution_count": 1490,
     "metadata": {},
     "output_type": "execute_result"
    }
   ],
   "source": [
    "train_df[train_df.travel_time<1]"
   ]
  },
  {
   "cell_type": "code",
   "execution_count": 1491,
   "metadata": {},
   "outputs": [],
   "source": [
    "train_df = train_df[train_df.travel_time>=0]"
   ]
  },
  {
   "cell_type": "code",
   "execution_count": 1492,
   "metadata": {},
   "outputs": [
    {
     "data": {
      "text/html": [
       "<div>\n",
       "<style scoped>\n",
       "    .dataframe tbody tr th:only-of-type {\n",
       "        vertical-align: middle;\n",
       "    }\n",
       "\n",
       "    .dataframe tbody tr th {\n",
       "        vertical-align: top;\n",
       "    }\n",
       "\n",
       "    .dataframe thead th {\n",
       "        text-align: right;\n",
       "    }\n",
       "</style>\n",
       "<table border=\"1\" class=\"dataframe\">\n",
       "  <thead>\n",
       "    <tr style=\"text-align: right;\">\n",
       "      <th></th>\n",
       "      <th>additional_fare</th>\n",
       "      <th>duration</th>\n",
       "      <th>meter_waiting</th>\n",
       "      <th>meter_waiting_fare</th>\n",
       "      <th>meter_waiting_till_pickup</th>\n",
       "      <th>pickup_time</th>\n",
       "      <th>drop_time</th>\n",
       "      <th>pick_lat</th>\n",
       "      <th>pick_lon</th>\n",
       "      <th>drop_lat</th>\n",
       "      <th>drop_lon</th>\n",
       "      <th>fare</th>\n",
       "      <th>label</th>\n",
       "      <th>pickup</th>\n",
       "      <th>drop</th>\n",
       "      <th>difference</th>\n",
       "      <th>travel_time</th>\n",
       "    </tr>\n",
       "    <tr>\n",
       "      <th>tripid</th>\n",
       "      <th></th>\n",
       "      <th></th>\n",
       "      <th></th>\n",
       "      <th></th>\n",
       "      <th></th>\n",
       "      <th></th>\n",
       "      <th></th>\n",
       "      <th></th>\n",
       "      <th></th>\n",
       "      <th></th>\n",
       "      <th></th>\n",
       "      <th></th>\n",
       "      <th></th>\n",
       "      <th></th>\n",
       "      <th></th>\n",
       "      <th></th>\n",
       "      <th></th>\n",
       "    </tr>\n",
       "  </thead>\n",
       "  <tbody>\n",
       "  </tbody>\n",
       "</table>\n",
       "</div>"
      ],
      "text/plain": [
       "Empty DataFrame\n",
       "Columns: [additional_fare, duration, meter_waiting, meter_waiting_fare, meter_waiting_till_pickup, pickup_time, drop_time, pick_lat, pick_lon, drop_lat, drop_lon, fare, label, pickup, drop, difference, travel_time]\n",
       "Index: []"
      ]
     },
     "execution_count": 1492,
     "metadata": {},
     "output_type": "execute_result"
    }
   ],
   "source": [
    "train_df[train_df.duration <1]"
   ]
  },
  {
   "cell_type": "code",
   "execution_count": 1493,
   "metadata": {},
   "outputs": [],
   "source": [
    "# # Outlier detection \n",
    "\n",
    "# def detect_outliers(df,n,features):\n",
    "#     \"\"\"\n",
    "#     Takes a dataframe df of features and returns a list of the indices\n",
    "#     corresponding to the observations containing more than n outliers according\n",
    "#     to the Tukey method.\n",
    "#     \"\"\"\n",
    "#     outlier_indices = []\n",
    "    \n",
    "#     # iterate over features(columns)\n",
    "#     for col in features:\n",
    "#         # 1st quartile (25%)\n",
    "#         Q1 = np.percentile(df[col], 25)\n",
    "#         # 3rd quartile (75%)\n",
    "#         Q3 = np.percentile(df[col],75)\n",
    "#         # Interquartile range (IQR)\n",
    "#         IQR = Q3 - Q1\n",
    "        \n",
    "#         # outlier step\n",
    "#         outlier_step = 1.5 * IQR\n",
    "        \n",
    "#         # Determine a list of indices of outliers for feature col\n",
    "#         outlier_list_col = df[(df[col] < Q1 - outlier_step) | (df[col] > Q3 + outlier_step )].index\n",
    "        \n",
    "#         # append the found outlier indices for col to the list of outlier indices \n",
    "#         outlier_indices.extend(outlier_list_col)\n",
    "        \n",
    "#     # select observations containing more than 2 outliers\n",
    "#     outlier_indices = Counter(outlier_indices)        \n",
    "#     multiple_outliers = list( k for k, v in outlier_indices.items() if v > n )\n",
    "    \n",
    "#     return multiple_outliers   "
   ]
  },
  {
   "cell_type": "code",
   "execution_count": 1494,
   "metadata": {},
   "outputs": [],
   "source": [
    "# Outliers_to_drop = detect_outliers(train_df,2,train_df.columns[train_df.dtypes != \"object\"].values)"
   ]
  },
  {
   "cell_type": "code",
   "execution_count": 1495,
   "metadata": {},
   "outputs": [],
   "source": [
    "#train_df = train_df.fillna(train_df.median())"
   ]
  },
  {
   "cell_type": "code",
   "execution_count": 1496,
   "metadata": {},
   "outputs": [],
   "source": [
    "train_df = train_df.dropna()\n",
    "# imputer = SimpleImputer(missing_values= np.nan, strategy='meadian')\n",
    "# X.fit[:, 1:3] = imputer.fit_transform(X[:, 1:3])"
   ]
  },
  {
   "cell_type": "code",
   "execution_count": 1497,
   "metadata": {},
   "outputs": [],
   "source": [
    "# train_df.loc[Outliers_to_drop]"
   ]
  },
  {
   "cell_type": "code",
   "execution_count": 1498,
   "metadata": {},
   "outputs": [
    {
     "data": {
      "image/png": "[encoded data removed]",
      "text/plain": [
       "<Figure size 2160x1080 with 2 Axes>"
      ]
     },
     "metadata": {},
     "output_type": "display_data"
    }
   ],
   "source": [
    "plt.figure(figsize=[30,15])\n",
    "sns.heatmap(train_df.corr(), annot=True)\n",
    "train_df_correlations = train_df.corr()"
   ]
  },
  {
   "cell_type": "code",
   "execution_count": 1499,
   "metadata": {},
   "outputs": [
    {
     "data": {
      "text/plain": [
       "<matplotlib.axes._subplots.AxesSubplot at 0x7f3391115810>"
      ]
     },
     "execution_count": 1499,
     "metadata": {},
     "output_type": "execute_result"
    },
    {
     "data": {
      "image/png": "[encoded data removed]",
      "text/plain": [
       "<Figure size 432x288 with 1 Axes>"
      ]
     },
     "metadata": {},
     "output_type": "display_data"
    }
   ],
   "source": [
    "(train_df_correlations\n",
    "     .label\n",
    "     .drop('label') # don't compare with myself\n",
    "     .sort_values(ascending=False)\n",
    "     .plot\n",
    "     .barh())"
   ]
  },
  {
   "cell_type": "code",
   "execution_count": 1500,
   "metadata": {},
   "outputs": [],
   "source": [
    "train_df2 = train_df.drop(['pickup_time','drop_time','pickup','drop','difference'],axis='columns')\n",
    "train_df2.isnull().sum()\n",
    "train_df2 = train_df2.dropna(subset=['fare'])"
   ]
  },
  {
   "cell_type": "code",
   "execution_count": 1501,
   "metadata": {},
   "outputs": [
    {
     "data": {
      "text/plain": [
       "1    15441\n",
       "0     1523\n",
       "Name: label, dtype: int64"
      ]
     },
     "execution_count": 1501,
     "metadata": {},
     "output_type": "execute_result"
    }
   ],
   "source": [
    "train_df2['label'].value_counts()"
   ]
  },
  {
   "cell_type": "code",
   "execution_count": 1502,
   "metadata": {},
   "outputs": [
    {
     "data": {
      "text/plain": [
       "additional_fare              0\n",
       "duration                     0\n",
       "meter_waiting                0\n",
       "meter_waiting_fare           0\n",
       "meter_waiting_till_pickup    0\n",
       "pick_lat                     0\n",
       "pick_lon                     0\n",
       "drop_lat                     0\n",
       "drop_lon                     0\n",
       "fare                         0\n",
       "label                        0\n",
       "travel_time                  0\n",
       "dtype: int64"
      ]
     },
     "execution_count": 1502,
     "metadata": {},
     "output_type": "execute_result"
    }
   ],
   "source": [
    "train_df2.isnull().sum()"
   ]
  },
  {
   "cell_type": "code",
   "execution_count": 1503,
   "metadata": {},
   "outputs": [],
   "source": [
    "# train_df2['fare'] = train_df2['fare'] .fillna(train_df2.fare.mode())"
   ]
  },
  {
   "cell_type": "code",
   "execution_count": 1504,
   "metadata": {},
   "outputs": [],
   "source": [
    "# train_df2['additional_fare'] = train_df2['additional_fare'] .fillna(train_df2.additional_fare.median())"
   ]
  },
  {
   "cell_type": "code",
   "execution_count": 1505,
   "metadata": {},
   "outputs": [],
   "source": [
    "# train_df2['meter_waiting'] = train_df2['meter_waiting'] .fillna(train_df2.meter_waiting.median())"
   ]
  },
  {
   "cell_type": "code",
   "execution_count": 1506,
   "metadata": {},
   "outputs": [],
   "source": [
    "# train_df2['meter_waiting_fare'] = train_df2['meter_waiting_fare'] .fillna(train_df2.meter_waiting_fare.median())"
   ]
  },
  {
   "cell_type": "code",
   "execution_count": 1507,
   "metadata": {},
   "outputs": [],
   "source": [
    "# train_df2['meter_waiting_till_pickup'] = train_df2['meter_waiting_till_pickup'] .fillna(train_df2.meter_waiting_till_pickup.median())"
   ]
  },
  {
   "cell_type": "code",
   "execution_count": 1508,
   "metadata": {},
   "outputs": [
    {
     "data": {
      "text/plain": [
       "additional_fare              0\n",
       "duration                     0\n",
       "meter_waiting                0\n",
       "meter_waiting_fare           0\n",
       "meter_waiting_till_pickup    0\n",
       "pick_lat                     0\n",
       "pick_lon                     0\n",
       "drop_lat                     0\n",
       "drop_lon                     0\n",
       "fare                         0\n",
       "label                        0\n",
       "travel_time                  0\n",
       "dtype: int64"
      ]
     },
     "execution_count": 1508,
     "metadata": {},
     "output_type": "execute_result"
    }
   ],
   "source": [
    "train_df2.isnull().sum()"
   ]
  },
  {
   "cell_type": "code",
   "execution_count": 1509,
   "metadata": {},
   "outputs": [
    {
     "data": {
      "text/plain": [
       "1    15441\n",
       "0     1523\n",
       "Name: label, dtype: int64"
      ]
     },
     "execution_count": 1509,
     "metadata": {},
     "output_type": "execute_result"
    }
   ],
   "source": [
    "train_df2['label'].value_counts()"
   ]
  },
  {
   "cell_type": "code",
   "execution_count": 1510,
   "metadata": {},
   "outputs": [
    {
     "data": {
      "text/html": [
       "<div>\n",
       "<style scoped>\n",
       "    .dataframe tbody tr th:only-of-type {\n",
       "        vertical-align: middle;\n",
       "    }\n",
       "\n",
       "    .dataframe tbody tr th {\n",
       "        vertical-align: top;\n",
       "    }\n",
       "\n",
       "    .dataframe thead th {\n",
       "        text-align: right;\n",
       "    }\n",
       "</style>\n",
       "<table border=\"1\" class=\"dataframe\">\n",
       "  <thead>\n",
       "    <tr style=\"text-align: right;\">\n",
       "      <th></th>\n",
       "      <th>additional_fare</th>\n",
       "      <th>duration</th>\n",
       "      <th>meter_waiting</th>\n",
       "      <th>meter_waiting_fare</th>\n",
       "      <th>meter_waiting_till_pickup</th>\n",
       "      <th>pick_lat</th>\n",
       "      <th>pick_lon</th>\n",
       "      <th>drop_lat</th>\n",
       "      <th>drop_lon</th>\n",
       "      <th>fare</th>\n",
       "      <th>label</th>\n",
       "      <th>travel_time</th>\n",
       "      <th>lat_change</th>\n",
       "      <th>lon_change</th>\n",
       "      <th>euc_distance</th>\n",
       "    </tr>\n",
       "    <tr>\n",
       "      <th>tripid</th>\n",
       "      <th></th>\n",
       "      <th></th>\n",
       "      <th></th>\n",
       "      <th></th>\n",
       "      <th></th>\n",
       "      <th></th>\n",
       "      <th></th>\n",
       "      <th></th>\n",
       "      <th></th>\n",
       "      <th></th>\n",
       "      <th></th>\n",
       "      <th></th>\n",
       "      <th></th>\n",
       "      <th></th>\n",
       "      <th></th>\n",
       "    </tr>\n",
       "  </thead>\n",
       "  <tbody>\n",
       "    <tr>\n",
       "      <th>189123628</th>\n",
       "      <td>10.5</td>\n",
       "      <td>834.0</td>\n",
       "      <td>56.0</td>\n",
       "      <td>0.0000</td>\n",
       "      <td>64.0</td>\n",
       "      <td>6.86252</td>\n",
       "      <td>79.8993</td>\n",
       "      <td>6.90330</td>\n",
       "      <td>79.8783</td>\n",
       "      <td>270.32</td>\n",
       "      <td>1</td>\n",
       "      <td>778.0</td>\n",
       "      <td>0.04078</td>\n",
       "      <td>0.0210</td>\n",
       "      <td>0.045869</td>\n",
       "    </tr>\n",
       "    <tr>\n",
       "      <th>189125358</th>\n",
       "      <td>10.5</td>\n",
       "      <td>791.0</td>\n",
       "      <td>47.0</td>\n",
       "      <td>0.0000</td>\n",
       "      <td>134.0</td>\n",
       "      <td>6.88589</td>\n",
       "      <td>79.8984</td>\n",
       "      <td>6.91373</td>\n",
       "      <td>79.8923</td>\n",
       "      <td>197.85</td>\n",
       "      <td>1</td>\n",
       "      <td>744.0</td>\n",
       "      <td>0.02784</td>\n",
       "      <td>0.0061</td>\n",
       "      <td>0.028500</td>\n",
       "    </tr>\n",
       "    <tr>\n",
       "      <th>189125719</th>\n",
       "      <td>10.5</td>\n",
       "      <td>1087.0</td>\n",
       "      <td>80.0</td>\n",
       "      <td>0.0000</td>\n",
       "      <td>61.0</td>\n",
       "      <td>6.90839</td>\n",
       "      <td>79.8651</td>\n",
       "      <td>6.93669</td>\n",
       "      <td>79.9146</td>\n",
       "      <td>301.64</td>\n",
       "      <td>1</td>\n",
       "      <td>1007.0</td>\n",
       "      <td>0.02830</td>\n",
       "      <td>0.0495</td>\n",
       "      <td>0.057019</td>\n",
       "    </tr>\n",
       "    <tr>\n",
       "      <th>189127273</th>\n",
       "      <td>10.5</td>\n",
       "      <td>598.0</td>\n",
       "      <td>271.0</td>\n",
       "      <td>15.6638</td>\n",
       "      <td>68.0</td>\n",
       "      <td>6.92570</td>\n",
       "      <td>79.8895</td>\n",
       "      <td>6.92748</td>\n",
       "      <td>79.8971</td>\n",
       "      <td>82.30</td>\n",
       "      <td>1</td>\n",
       "      <td>327.0</td>\n",
       "      <td>0.00178</td>\n",
       "      <td>0.0076</td>\n",
       "      <td>0.007806</td>\n",
       "    </tr>\n",
       "    <tr>\n",
       "      <th>189129552</th>\n",
       "      <td>10.5</td>\n",
       "      <td>3407.0</td>\n",
       "      <td>182.0</td>\n",
       "      <td>0.0000</td>\n",
       "      <td>112.0</td>\n",
       "      <td>7.13402</td>\n",
       "      <td>79.8969</td>\n",
       "      <td>6.91865</td>\n",
       "      <td>79.8649</td>\n",
       "      <td>1065.02</td>\n",
       "      <td>1</td>\n",
       "      <td>3225.0</td>\n",
       "      <td>0.21537</td>\n",
       "      <td>0.0320</td>\n",
       "      <td>0.217734</td>\n",
       "    </tr>\n",
       "  </tbody>\n",
       "</table>\n",
       "</div>"
      ],
      "text/plain": [
       "           additional_fare  duration  meter_waiting  meter_waiting_fare  \\\n",
       "tripid                                                                    \n",
       "189123628             10.5     834.0           56.0              0.0000   \n",
       "189125358             10.5     791.0           47.0              0.0000   \n",
       "189125719             10.5    1087.0           80.0              0.0000   \n",
       "189127273             10.5     598.0          271.0             15.6638   \n",
       "189129552             10.5    3407.0          182.0              0.0000   \n",
       "\n",
       "           meter_waiting_till_pickup  pick_lat  pick_lon  drop_lat  drop_lon  \\\n",
       "tripid                                                                         \n",
       "189123628                       64.0   6.86252   79.8993   6.90330   79.8783   \n",
       "189125358                      134.0   6.88589   79.8984   6.91373   79.8923   \n",
       "189125719                       61.0   6.90839   79.8651   6.93669   79.9146   \n",
       "189127273                       68.0   6.92570   79.8895   6.92748   79.8971   \n",
       "189129552                      112.0   7.13402   79.8969   6.91865   79.8649   \n",
       "\n",
       "              fare  label  travel_time  lat_change  lon_change  euc_distance  \n",
       "tripid                                                                        \n",
       "189123628   270.32      1        778.0     0.04078      0.0210      0.045869  \n",
       "189125358   197.85      1        744.0     0.02784      0.0061      0.028500  \n",
       "189125719   301.64      1       1007.0     0.02830      0.0495      0.057019  \n",
       "189127273    82.30      1        327.0     0.00178      0.0076      0.007806  \n",
       "189129552  1065.02      1       3225.0     0.21537      0.0320      0.217734  "
      ]
     },
     "execution_count": 1510,
     "metadata": {},
     "output_type": "execute_result"
    }
   ],
   "source": [
    "train_df2['lat_change'] = abs(train_df2['pick_lat']- train_df2['drop_lat'])\n",
    "train_df2['lon_change'] = abs(train_df2['pick_lon']- train_df2['drop_lon'])\n",
    "train_df2['euc_distance'] = np.sqrt((train_df2['lat_change']**2) + (train_df2['lon_change']**2))\n",
    "train_df2.head()\n",
    "\n",
    "# train_df2['lat_change'] = np.deg2rad(train_df2['pick_lat']- train_df2['drop_lat'])\n",
    "# train_df2['lon_change'] = np.deg2rad(train_df2['pick_lon']- train_df2['drop_lon'])\n",
    "# train_df2['a'] = abs(np.sin(train_df2['lat_change']/2)**2 + np.cos(np.deg2rad(train_df2['pick_lat'])) * np.cos(np.deg2rad(train_df2['drop_lat'])) * np.sin(train_df2['lon_change']/2)**2)\n",
    "# train_df2['c'] = 2 * np.arctan2(np.sqrt(train_df2['a']), np.sqrt(abs(1 - train_df2['a'])))\n",
    "# kilo = 6373.0 * train_df2['c']\n",
    "# train_df2['euc_distance'] = kilo\n",
    "# train_df2 = train_df2.drop(['a','c'],axis='columns')\n",
    "# train_df2.head()"
   ]
  },
  {
   "cell_type": "code",
   "execution_count": 1511,
   "metadata": {},
   "outputs": [],
   "source": [
    "# train_df2[\"label\"] = train_df2[\"label\"].map({\"incorrect\": 0, \"correct\":1})"
   ]
  },
  {
   "cell_type": "code",
   "execution_count": 1512,
   "metadata": {},
   "outputs": [],
   "source": [
    "#clean_df = train_df2.drop(['pick_lat','pick_lon','drop_lat','drop_lon'],axis='columns')\n",
    "clean_df = train_df2.drop(['pick_lat','pick_lon','drop_lat','drop_lon','lat_change','lon_change'],axis='columns')"
   ]
  },
  {
   "cell_type": "code",
   "execution_count": 1513,
   "metadata": {},
   "outputs": [],
   "source": [
    "# Q1 = clean_df.quantile(0.25)\n",
    "# Q3 = clean_df.quantile(0.75)\n",
    "# IQR = Q3 - Q1\n",
    "# print(IQR)"
   ]
  },
  {
   "cell_type": "code",
   "execution_count": 1514,
   "metadata": {},
   "outputs": [],
   "source": [
    "# clean_df = clean_df[~((clean_df < (Q1 - 1.5 * IQR)) |(clean_df > (Q3 + 1.5 * IQR))).any(axis=1)]\n",
    "# clean_df.shape"
   ]
  },
  {
   "cell_type": "code",
   "execution_count": 1515,
   "metadata": {},
   "outputs": [
    {
     "data": {
      "text/html": [
       "<div>\n",
       "<style scoped>\n",
       "    .dataframe tbody tr th:only-of-type {\n",
       "        vertical-align: middle;\n",
       "    }\n",
       "\n",
       "    .dataframe tbody tr th {\n",
       "        vertical-align: top;\n",
       "    }\n",
       "\n",
       "    .dataframe thead th {\n",
       "        text-align: right;\n",
       "    }\n",
       "</style>\n",
       "<table border=\"1\" class=\"dataframe\">\n",
       "  <thead>\n",
       "    <tr style=\"text-align: right;\">\n",
       "      <th></th>\n",
       "      <th>additional_fare</th>\n",
       "      <th>duration</th>\n",
       "      <th>meter_waiting</th>\n",
       "      <th>meter_waiting_fare</th>\n",
       "      <th>meter_waiting_till_pickup</th>\n",
       "      <th>fare</th>\n",
       "      <th>label</th>\n",
       "      <th>travel_time</th>\n",
       "      <th>euc_distance</th>\n",
       "    </tr>\n",
       "  </thead>\n",
       "  <tbody>\n",
       "    <tr>\n",
       "      <th>count</th>\n",
       "      <td>16964.000000</td>\n",
       "      <td>16964.000000</td>\n",
       "      <td>16964.000000</td>\n",
       "      <td>16964.000000</td>\n",
       "      <td>16964.000000</td>\n",
       "      <td>16964.000000</td>\n",
       "      <td>16964.000000</td>\n",
       "      <td>16964.000000</td>\n",
       "      <td>16964.000000</td>\n",
       "    </tr>\n",
       "    <tr>\n",
       "      <th>mean</th>\n",
       "      <td>12.940845</td>\n",
       "      <td>1703.383046</td>\n",
       "      <td>616.460799</td>\n",
       "      <td>31.325065</td>\n",
       "      <td>112.481608</td>\n",
       "      <td>311.208377</td>\n",
       "      <td>0.910222</td>\n",
       "      <td>1086.766093</td>\n",
       "      <td>0.043996</td>\n",
       "    </tr>\n",
       "    <tr>\n",
       "      <th>std</th>\n",
       "      <td>12.626491</td>\n",
       "      <td>8122.455726</td>\n",
       "      <td>7903.515567</td>\n",
       "      <td>456.066227</td>\n",
       "      <td>442.180690</td>\n",
       "      <td>575.801005</td>\n",
       "      <td>0.285872</td>\n",
       "      <td>1153.842037</td>\n",
       "      <td>0.415272</td>\n",
       "    </tr>\n",
       "    <tr>\n",
       "      <th>min</th>\n",
       "      <td>0.000000</td>\n",
       "      <td>22.000000</td>\n",
       "      <td>0.000000</td>\n",
       "      <td>0.000000</td>\n",
       "      <td>0.000000</td>\n",
       "      <td>0.000000</td>\n",
       "      <td>0.000000</td>\n",
       "      <td>0.000000</td>\n",
       "      <td>0.000000</td>\n",
       "    </tr>\n",
       "    <tr>\n",
       "      <th>25%</th>\n",
       "      <td>10.500000</td>\n",
       "      <td>548.000000</td>\n",
       "      <td>33.000000</td>\n",
       "      <td>0.000000</td>\n",
       "      <td>26.000000</td>\n",
       "      <td>125.522500</td>\n",
       "      <td>1.000000</td>\n",
       "      <td>446.000000</td>\n",
       "      <td>0.013413</td>\n",
       "    </tr>\n",
       "    <tr>\n",
       "      <th>50%</th>\n",
       "      <td>10.500000</td>\n",
       "      <td>1010.000000</td>\n",
       "      <td>123.000000</td>\n",
       "      <td>0.115600</td>\n",
       "      <td>73.000000</td>\n",
       "      <td>211.050000</td>\n",
       "      <td>1.000000</td>\n",
       "      <td>811.000000</td>\n",
       "      <td>0.029034</td>\n",
       "    </tr>\n",
       "    <tr>\n",
       "      <th>75%</th>\n",
       "      <td>10.500000</td>\n",
       "      <td>1803.000000</td>\n",
       "      <td>351.000000</td>\n",
       "      <td>14.334400</td>\n",
       "      <td>144.000000</td>\n",
       "      <td>366.050000</td>\n",
       "      <td>1.000000</td>\n",
       "      <td>1402.000000</td>\n",
       "      <td>0.055471</td>\n",
       "    </tr>\n",
       "    <tr>\n",
       "      <th>max</th>\n",
       "      <td>221.000000</td>\n",
       "      <td>453872.000000</td>\n",
       "      <td>453650.000000</td>\n",
       "      <td>26198.601400</td>\n",
       "      <td>51288.000000</td>\n",
       "      <td>26945.990000</td>\n",
       "      <td>1.000000</td>\n",
       "      <td>46609.000000</td>\n",
       "      <td>53.857509</td>\n",
       "    </tr>\n",
       "  </tbody>\n",
       "</table>\n",
       "</div>"
      ],
      "text/plain": [
       "       additional_fare       duration  meter_waiting  meter_waiting_fare  \\\n",
       "count     16964.000000   16964.000000   16964.000000        16964.000000   \n",
       "mean         12.940845    1703.383046     616.460799           31.325065   \n",
       "std          12.626491    8122.455726    7903.515567          456.066227   \n",
       "min           0.000000      22.000000       0.000000            0.000000   \n",
       "25%          10.500000     548.000000      33.000000            0.000000   \n",
       "50%          10.500000    1010.000000     123.000000            0.115600   \n",
       "75%          10.500000    1803.000000     351.000000           14.334400   \n",
       "max         221.000000  453872.000000  453650.000000        26198.601400   \n",
       "\n",
       "       meter_waiting_till_pickup          fare         label   travel_time  \\\n",
       "count               16964.000000  16964.000000  16964.000000  16964.000000   \n",
       "mean                  112.481608    311.208377      0.910222   1086.766093   \n",
       "std                   442.180690    575.801005      0.285872   1153.842037   \n",
       "min                     0.000000      0.000000      0.000000      0.000000   \n",
       "25%                    26.000000    125.522500      1.000000    446.000000   \n",
       "50%                    73.000000    211.050000      1.000000    811.000000   \n",
       "75%                   144.000000    366.050000      1.000000   1402.000000   \n",
       "max                 51288.000000  26945.990000      1.000000  46609.000000   \n",
       "\n",
       "       euc_distance  \n",
       "count  16964.000000  \n",
       "mean       0.043996  \n",
       "std        0.415272  \n",
       "min        0.000000  \n",
       "25%        0.013413  \n",
       "50%        0.029034  \n",
       "75%        0.055471  \n",
       "max       53.857509  "
      ]
     },
     "execution_count": 1515,
     "metadata": {},
     "output_type": "execute_result"
    }
   ],
   "source": [
    "clean_df.describe()"
   ]
  },
  {
   "cell_type": "markdown",
   "metadata": {},
   "source": [
    "**Visualizing Features with Fare**"
   ]
  },
  {
   "cell_type": "code",
   "execution_count": 1516,
   "metadata": {},
   "outputs": [
    {
     "name": "stdout",
     "output_type": "stream",
     "text": [
      "<class 'pandas.core.frame.DataFrame'>\n",
      "Int64Index: 16964 entries, 189123628 to 213817296\n",
      "Data columns (total 9 columns):\n",
      " #   Column                     Non-Null Count  Dtype  \n",
      "---  ------                     --------------  -----  \n",
      " 0   additional_fare            16964 non-null  float64\n",
      " 1   duration                   16964 non-null  float64\n",
      " 2   meter_waiting              16964 non-null  float64\n",
      " 3   meter_waiting_fare         16964 non-null  float64\n",
      " 4   meter_waiting_till_pickup  16964 non-null  float64\n",
      " 5   fare                       16964 non-null  float64\n",
      " 6   label                      16964 non-null  int64  \n",
      " 7   travel_time                16964 non-null  float64\n",
      " 8   euc_distance               16964 non-null  float64\n",
      "dtypes: float64(8), int64(1)\n",
      "memory usage: 1.3 MB\n"
     ]
    },
    {
     "data": {
      "text/html": [
       "<div>\n",
       "<style scoped>\n",
       "    .dataframe tbody tr th:only-of-type {\n",
       "        vertical-align: middle;\n",
       "    }\n",
       "\n",
       "    .dataframe tbody tr th {\n",
       "        vertical-align: top;\n",
       "    }\n",
       "\n",
       "    .dataframe thead th {\n",
       "        text-align: right;\n",
       "    }\n",
       "</style>\n",
       "<table border=\"1\" class=\"dataframe\">\n",
       "  <thead>\n",
       "    <tr style=\"text-align: right;\">\n",
       "      <th></th>\n",
       "      <th>additional_fare</th>\n",
       "      <th>duration</th>\n",
       "      <th>meter_waiting</th>\n",
       "      <th>meter_waiting_fare</th>\n",
       "      <th>meter_waiting_till_pickup</th>\n",
       "      <th>fare</th>\n",
       "      <th>label</th>\n",
       "      <th>travel_time</th>\n",
       "      <th>euc_distance</th>\n",
       "    </tr>\n",
       "    <tr>\n",
       "      <th>tripid</th>\n",
       "      <th></th>\n",
       "      <th></th>\n",
       "      <th></th>\n",
       "      <th></th>\n",
       "      <th></th>\n",
       "      <th></th>\n",
       "      <th></th>\n",
       "      <th></th>\n",
       "      <th></th>\n",
       "    </tr>\n",
       "  </thead>\n",
       "  <tbody>\n",
       "    <tr>\n",
       "      <th>189123628</th>\n",
       "      <td>10.5</td>\n",
       "      <td>834.0</td>\n",
       "      <td>56.0</td>\n",
       "      <td>0.0000</td>\n",
       "      <td>64.0</td>\n",
       "      <td>270.32</td>\n",
       "      <td>1</td>\n",
       "      <td>778.0</td>\n",
       "      <td>0.045869</td>\n",
       "    </tr>\n",
       "    <tr>\n",
       "      <th>189125358</th>\n",
       "      <td>10.5</td>\n",
       "      <td>791.0</td>\n",
       "      <td>47.0</td>\n",
       "      <td>0.0000</td>\n",
       "      <td>134.0</td>\n",
       "      <td>197.85</td>\n",
       "      <td>1</td>\n",
       "      <td>744.0</td>\n",
       "      <td>0.028500</td>\n",
       "    </tr>\n",
       "    <tr>\n",
       "      <th>189125719</th>\n",
       "      <td>10.5</td>\n",
       "      <td>1087.0</td>\n",
       "      <td>80.0</td>\n",
       "      <td>0.0000</td>\n",
       "      <td>61.0</td>\n",
       "      <td>301.64</td>\n",
       "      <td>1</td>\n",
       "      <td>1007.0</td>\n",
       "      <td>0.057019</td>\n",
       "    </tr>\n",
       "    <tr>\n",
       "      <th>189127273</th>\n",
       "      <td>10.5</td>\n",
       "      <td>598.0</td>\n",
       "      <td>271.0</td>\n",
       "      <td>15.6638</td>\n",
       "      <td>68.0</td>\n",
       "      <td>82.30</td>\n",
       "      <td>1</td>\n",
       "      <td>327.0</td>\n",
       "      <td>0.007806</td>\n",
       "    </tr>\n",
       "    <tr>\n",
       "      <th>189129552</th>\n",
       "      <td>10.5</td>\n",
       "      <td>3407.0</td>\n",
       "      <td>182.0</td>\n",
       "      <td>0.0000</td>\n",
       "      <td>112.0</td>\n",
       "      <td>1065.02</td>\n",
       "      <td>1</td>\n",
       "      <td>3225.0</td>\n",
       "      <td>0.217734</td>\n",
       "    </tr>\n",
       "  </tbody>\n",
       "</table>\n",
       "</div>"
      ],
      "text/plain": [
       "           additional_fare  duration  meter_waiting  meter_waiting_fare  \\\n",
       "tripid                                                                    \n",
       "189123628             10.5     834.0           56.0              0.0000   \n",
       "189125358             10.5     791.0           47.0              0.0000   \n",
       "189125719             10.5    1087.0           80.0              0.0000   \n",
       "189127273             10.5     598.0          271.0             15.6638   \n",
       "189129552             10.5    3407.0          182.0              0.0000   \n",
       "\n",
       "           meter_waiting_till_pickup     fare  label  travel_time  \\\n",
       "tripid                                                              \n",
       "189123628                       64.0   270.32      1        778.0   \n",
       "189125358                      134.0   197.85      1        744.0   \n",
       "189125719                       61.0   301.64      1       1007.0   \n",
       "189127273                       68.0    82.30      1        327.0   \n",
       "189129552                      112.0  1065.02      1       3225.0   \n",
       "\n",
       "           euc_distance  \n",
       "tripid                   \n",
       "189123628      0.045869  \n",
       "189125358      0.028500  \n",
       "189125719      0.057019  \n",
       "189127273      0.007806  \n",
       "189129552      0.217734  "
      ]
     },
     "execution_count": 1516,
     "metadata": {},
     "output_type": "execute_result"
    }
   ],
   "source": [
    "clean_df.info()\n",
    "clean_df.head()"
   ]
  },
  {
   "cell_type": "code",
   "execution_count": 1517,
   "metadata": {},
   "outputs": [
    {
     "data": {
      "text/plain": [
       "<matplotlib.axes._subplots.AxesSubplot at 0x7f3391519450>"
      ]
     },
     "execution_count": 1517,
     "metadata": {},
     "output_type": "execute_result"
    },
    {
     "data": {
      "image/png": "[encoded data removed]",
      "text/plain": [
       "<Figure size 2160x1080 with 2 Axes>"
      ]
     },
     "metadata": {},
     "output_type": "display_data"
    }
   ],
   "source": [
    "plt.figure(figsize=[30,15])\n",
    "corr = clean_df.corr()\n",
    "sns.heatmap(corr , annot=True)"
   ]
  },
  {
   "cell_type": "code",
   "execution_count": 1518,
   "metadata": {},
   "outputs": [],
   "source": [
    "# (corr\n",
    "#      .label\n",
    "#      .drop('label') # don't compare with myself\n",
    "#      .sort_values(ascending=False)\n",
    "#      .plot\n",
    "#      .barh())"
   ]
  },
  {
   "cell_type": "code",
   "execution_count": 1519,
   "metadata": {},
   "outputs": [
    {
     "data": {
      "text/html": [
       "<div>\n",
       "<style scoped>\n",
       "    .dataframe tbody tr th:only-of-type {\n",
       "        vertical-align: middle;\n",
       "    }\n",
       "\n",
       "    .dataframe tbody tr th {\n",
       "        vertical-align: top;\n",
       "    }\n",
       "\n",
       "    .dataframe thead th {\n",
       "        text-align: right;\n",
       "    }\n",
       "</style>\n",
       "<table border=\"1\" class=\"dataframe\">\n",
       "  <thead>\n",
       "    <tr style=\"text-align: right;\">\n",
       "      <th></th>\n",
       "      <th>additional_fare</th>\n",
       "      <th>duration</th>\n",
       "      <th>meter_waiting</th>\n",
       "      <th>meter_waiting_fare</th>\n",
       "      <th>meter_waiting_till_pickup</th>\n",
       "      <th>fare</th>\n",
       "      <th>label</th>\n",
       "      <th>travel_time</th>\n",
       "      <th>euc_distance</th>\n",
       "    </tr>\n",
       "  </thead>\n",
       "  <tbody>\n",
       "    <tr>\n",
       "      <th>count</th>\n",
       "      <td>16964.000000</td>\n",
       "      <td>16964.000000</td>\n",
       "      <td>16964.000000</td>\n",
       "      <td>16964.000000</td>\n",
       "      <td>16964.000000</td>\n",
       "      <td>16964.000000</td>\n",
       "      <td>16964.000000</td>\n",
       "      <td>16964.000000</td>\n",
       "      <td>16964.000000</td>\n",
       "    </tr>\n",
       "    <tr>\n",
       "      <th>mean</th>\n",
       "      <td>12.940845</td>\n",
       "      <td>1703.383046</td>\n",
       "      <td>616.460799</td>\n",
       "      <td>31.325065</td>\n",
       "      <td>112.481608</td>\n",
       "      <td>311.208377</td>\n",
       "      <td>0.910222</td>\n",
       "      <td>1086.766093</td>\n",
       "      <td>0.043996</td>\n",
       "    </tr>\n",
       "    <tr>\n",
       "      <th>std</th>\n",
       "      <td>12.626491</td>\n",
       "      <td>8122.455726</td>\n",
       "      <td>7903.515567</td>\n",
       "      <td>456.066227</td>\n",
       "      <td>442.180690</td>\n",
       "      <td>575.801005</td>\n",
       "      <td>0.285872</td>\n",
       "      <td>1153.842037</td>\n",
       "      <td>0.415272</td>\n",
       "    </tr>\n",
       "    <tr>\n",
       "      <th>min</th>\n",
       "      <td>0.000000</td>\n",
       "      <td>22.000000</td>\n",
       "      <td>0.000000</td>\n",
       "      <td>0.000000</td>\n",
       "      <td>0.000000</td>\n",
       "      <td>0.000000</td>\n",
       "      <td>0.000000</td>\n",
       "      <td>0.000000</td>\n",
       "      <td>0.000000</td>\n",
       "    </tr>\n",
       "    <tr>\n",
       "      <th>25%</th>\n",
       "      <td>10.500000</td>\n",
       "      <td>548.000000</td>\n",
       "      <td>33.000000</td>\n",
       "      <td>0.000000</td>\n",
       "      <td>26.000000</td>\n",
       "      <td>125.522500</td>\n",
       "      <td>1.000000</td>\n",
       "      <td>446.000000</td>\n",
       "      <td>0.013413</td>\n",
       "    </tr>\n",
       "    <tr>\n",
       "      <th>50%</th>\n",
       "      <td>10.500000</td>\n",
       "      <td>1010.000000</td>\n",
       "      <td>123.000000</td>\n",
       "      <td>0.115600</td>\n",
       "      <td>73.000000</td>\n",
       "      <td>211.050000</td>\n",
       "      <td>1.000000</td>\n",
       "      <td>811.000000</td>\n",
       "      <td>0.029034</td>\n",
       "    </tr>\n",
       "    <tr>\n",
       "      <th>75%</th>\n",
       "      <td>10.500000</td>\n",
       "      <td>1803.000000</td>\n",
       "      <td>351.000000</td>\n",
       "      <td>14.334400</td>\n",
       "      <td>144.000000</td>\n",
       "      <td>366.050000</td>\n",
       "      <td>1.000000</td>\n",
       "      <td>1402.000000</td>\n",
       "      <td>0.055471</td>\n",
       "    </tr>\n",
       "    <tr>\n",
       "      <th>max</th>\n",
       "      <td>221.000000</td>\n",
       "      <td>453872.000000</td>\n",
       "      <td>453650.000000</td>\n",
       "      <td>26198.601400</td>\n",
       "      <td>51288.000000</td>\n",
       "      <td>26945.990000</td>\n",
       "      <td>1.000000</td>\n",
       "      <td>46609.000000</td>\n",
       "      <td>53.857509</td>\n",
       "    </tr>\n",
       "  </tbody>\n",
       "</table>\n",
       "</div>"
      ],
      "text/plain": [
       "       additional_fare       duration  meter_waiting  meter_waiting_fare  \\\n",
       "count     16964.000000   16964.000000   16964.000000        16964.000000   \n",
       "mean         12.940845    1703.383046     616.460799           31.325065   \n",
       "std          12.626491    8122.455726    7903.515567          456.066227   \n",
       "min           0.000000      22.000000       0.000000            0.000000   \n",
       "25%          10.500000     548.000000      33.000000            0.000000   \n",
       "50%          10.500000    1010.000000     123.000000            0.115600   \n",
       "75%          10.500000    1803.000000     351.000000           14.334400   \n",
       "max         221.000000  453872.000000  453650.000000        26198.601400   \n",
       "\n",
       "       meter_waiting_till_pickup          fare         label   travel_time  \\\n",
       "count               16964.000000  16964.000000  16964.000000  16964.000000   \n",
       "mean                  112.481608    311.208377      0.910222   1086.766093   \n",
       "std                   442.180690    575.801005      0.285872   1153.842037   \n",
       "min                     0.000000      0.000000      0.000000      0.000000   \n",
       "25%                    26.000000    125.522500      1.000000    446.000000   \n",
       "50%                    73.000000    211.050000      1.000000    811.000000   \n",
       "75%                   144.000000    366.050000      1.000000   1402.000000   \n",
       "max                 51288.000000  26945.990000      1.000000  46609.000000   \n",
       "\n",
       "       euc_distance  \n",
       "count  16964.000000  \n",
       "mean       0.043996  \n",
       "std        0.415272  \n",
       "min        0.000000  \n",
       "25%        0.013413  \n",
       "50%        0.029034  \n",
       "75%        0.055471  \n",
       "max       53.857509  "
      ]
     },
     "execution_count": 1519,
     "metadata": {},
     "output_type": "execute_result"
    }
   ],
   "source": [
    "clean_df.describe()"
   ]
  },
  {
   "cell_type": "code",
   "execution_count": 1520,
   "metadata": {},
   "outputs": [],
   "source": [
    "#clean_df[clean_df.duration>9825]"
   ]
  },
  {
   "cell_type": "code",
   "execution_count": 1521,
   "metadata": {},
   "outputs": [],
   "source": [
    "#clean_df[clean_df.additional_fare>112]"
   ]
  },
  {
   "cell_type": "code",
   "execution_count": 1522,
   "metadata": {},
   "outputs": [],
   "source": [
    "#clean_df[clean_df.meter_waiting_till_pickup>554]"
   ]
  },
  {
   "cell_type": "markdown",
   "metadata": {},
   "source": [
    "# PLOTTING GRAPHS"
   ]
  },
  {
   "cell_type": "markdown",
   "metadata": {},
   "source": [
    "**meter_waiting_till_pickup vs fare**"
   ]
  },
  {
   "cell_type": "code",
   "execution_count": 1523,
   "metadata": {},
   "outputs": [
    {
     "data": {
      "image/png": "[encoded data removed]",
      "text/plain": [
       "<Figure size 432x288 with 1 Axes>"
      ]
     },
     "metadata": {},
     "output_type": "display_data"
    }
   ],
   "source": [
    "clean_df.plot(x ='meter_waiting_till_pickup', y='fare', kind = 'scatter')\n",
    "plt.show()"
   ]
  },
  {
   "cell_type": "code",
   "execution_count": 1524,
   "metadata": {},
   "outputs": [],
   "source": [
    "clean_df = clean_df[clean_df.meter_waiting_till_pickup<50000]"
   ]
  },
  {
   "cell_type": "code",
   "execution_count": 1525,
   "metadata": {},
   "outputs": [],
   "source": [
    "clean_df = clean_df[clean_df.fare<20000]"
   ]
  },
  {
   "cell_type": "code",
   "execution_count": 1526,
   "metadata": {},
   "outputs": [
    {
     "data": {
      "image/png": "[encoded data removed]",
      "text/plain": [
       "<Figure size 432x288 with 1 Axes>"
      ]
     },
     "metadata": {},
     "output_type": "display_data"
    }
   ],
   "source": [
    "clean_df.plot(x ='meter_waiting_till_pickup', y='fare', kind = 'scatter')\n",
    "plt.show()"
   ]
  },
  {
   "cell_type": "code",
   "execution_count": 1527,
   "metadata": {},
   "outputs": [],
   "source": [
    "clean_df = clean_df[clean_df.meter_waiting_till_pickup<4000]"
   ]
  },
  {
   "cell_type": "code",
   "execution_count": 1528,
   "metadata": {},
   "outputs": [],
   "source": [
    "clean_df = clean_df[clean_df.fare<15000]"
   ]
  },
  {
   "cell_type": "code",
   "execution_count": 1529,
   "metadata": {},
   "outputs": [
    {
     "data": {
      "image/png": "[encoded data removed]",
      "text/plain": [
       "<Figure size 432x288 with 1 Axes>"
      ]
     },
     "metadata": {},
     "output_type": "display_data"
    }
   ],
   "source": [
    "clean_df.plot(x ='meter_waiting_till_pickup', y='fare', kind = 'scatter')\n",
    "plt.show()"
   ]
  },
  {
   "cell_type": "code",
   "execution_count": 1530,
   "metadata": {},
   "outputs": [],
   "source": [
    "# clean_df[clean_df.label >= 1].plot(x ='meter_waiting_till_pickup', y='fare', kind = 'scatter')\n",
    "# plt.show()"
   ]
  },
  {
   "cell_type": "code",
   "execution_count": 1531,
   "metadata": {},
   "outputs": [],
   "source": [
    "# clean_df[clean_df.label <1].plot(x ='meter_waiting_till_pickup', y='fare', kind = 'scatter')\n",
    "# plt.show()"
   ]
  },
  {
   "cell_type": "code",
   "execution_count": 1532,
   "metadata": {},
   "outputs": [],
   "source": [
    "#clean_df[clean_df.meter_waiting_till_pickup>40000].head()"
   ]
  },
  {
   "cell_type": "markdown",
   "metadata": {},
   "source": [
    "**additional_fare vs fare**"
   ]
  },
  {
   "cell_type": "code",
   "execution_count": 1533,
   "metadata": {},
   "outputs": [
    {
     "data": {
      "image/png": "[encoded data removed]",
      "text/plain": [
       "<Figure size 432x288 with 1 Axes>"
      ]
     },
     "metadata": {},
     "output_type": "display_data"
    }
   ],
   "source": [
    "clean_df.plot(x ='additional_fare', y='fare', kind = 'scatter')\n",
    "plt.show()"
   ]
  },
  {
   "cell_type": "code",
   "execution_count": 1534,
   "metadata": {},
   "outputs": [],
   "source": [
    "clean_df = clean_df[clean_df.additional_fare<2000]"
   ]
  },
  {
   "cell_type": "code",
   "execution_count": 1535,
   "metadata": {},
   "outputs": [],
   "source": [
    "clean_df = clean_df[clean_df.fare<15000]"
   ]
  },
  {
   "cell_type": "code",
   "execution_count": 1536,
   "metadata": {},
   "outputs": [
    {
     "data": {
      "image/png": "[encoded data removed]",
      "text/plain": [
       "<Figure size 432x288 with 1 Axes>"
      ]
     },
     "metadata": {},
     "output_type": "display_data"
    }
   ],
   "source": [
    "clean_df.plot(x ='additional_fare', y='fare', kind = 'scatter')\n",
    "plt.show()"
   ]
  },
  {
   "cell_type": "code",
   "execution_count": 1537,
   "metadata": {},
   "outputs": [],
   "source": [
    "clean_df = clean_df[clean_df.additional_fare<200]"
   ]
  },
  {
   "cell_type": "code",
   "execution_count": 1538,
   "metadata": {},
   "outputs": [
    {
     "data": {
      "image/png": "[encoded data removed]",
      "text/plain": [
       "<Figure size 432x288 with 1 Axes>"
      ]
     },
     "metadata": {},
     "output_type": "display_data"
    }
   ],
   "source": [
    "clean_df.plot(x ='additional_fare', y='fare', kind = 'scatter')\n",
    "plt.show()"
   ]
  },
  {
   "cell_type": "code",
   "execution_count": 1539,
   "metadata": {},
   "outputs": [],
   "source": [
    "# clean_df[clean_df.label >=1].plot(x ='additional_fare', y='fare', kind = 'scatter')\n",
    "# plt.show()"
   ]
  },
  {
   "cell_type": "code",
   "execution_count": 1540,
   "metadata": {},
   "outputs": [],
   "source": [
    "# clean_df[clean_df.label <1].plot(x ='additional_fare', y='fare', kind = 'scatter')\n",
    "# plt.show()"
   ]
  },
  {
   "cell_type": "markdown",
   "metadata": {},
   "source": [
    "**duration vs fare**"
   ]
  },
  {
   "cell_type": "code",
   "execution_count": 1541,
   "metadata": {},
   "outputs": [
    {
     "data": {
      "image/png": "[encoded data removed]",
      "text/plain": [
       "<Figure size 432x288 with 1 Axes>"
      ]
     },
     "metadata": {},
     "output_type": "display_data"
    }
   ],
   "source": [
    "clean_df.plot(x ='duration', y='fare', kind = 'scatter')\n",
    "plt.show()"
   ]
  },
  {
   "cell_type": "code",
   "execution_count": 1542,
   "metadata": {},
   "outputs": [],
   "source": [
    "clean_df = clean_df[clean_df.duration < 300000]"
   ]
  },
  {
   "cell_type": "code",
   "execution_count": 1543,
   "metadata": {},
   "outputs": [
    {
     "data": {
      "image/png": "[encoded data removed]",
      "text/plain": [
       "<Figure size 432x288 with 1 Axes>"
      ]
     },
     "metadata": {},
     "output_type": "display_data"
    }
   ],
   "source": [
    "clean_df.plot(x ='duration', y='fare', kind = 'scatter')\n",
    "plt.show()"
   ]
  },
  {
   "cell_type": "code",
   "execution_count": 1544,
   "metadata": {},
   "outputs": [],
   "source": [
    "# clean_df[clean_df.label >=1].plot(x ='duration', y='fare', kind = 'scatter')\n",
    "# plt.show()"
   ]
  },
  {
   "cell_type": "code",
   "execution_count": 1545,
   "metadata": {},
   "outputs": [],
   "source": [
    "# clean_df[clean_df.label >=1].plot(x ='duration', y='fare', kind = 'scatter')\n",
    "# plt.show()"
   ]
  },
  {
   "cell_type": "code",
   "execution_count": 1546,
   "metadata": {},
   "outputs": [],
   "source": [
    "# clean_df[clean_df.label <1].plot(x ='duration', y='fare', kind = 'scatter')\n",
    "# plt.show()"
   ]
  },
  {
   "cell_type": "code",
   "execution_count": 1547,
   "metadata": {},
   "outputs": [],
   "source": [
    "# clean_df[clean_df.fare>25000].head()"
   ]
  },
  {
   "cell_type": "markdown",
   "metadata": {},
   "source": [
    "**Plot Meter Waiting**"
   ]
  },
  {
   "cell_type": "code",
   "execution_count": 1548,
   "metadata": {},
   "outputs": [
    {
     "data": {
      "image/png": "[encoded data removed]",
      "text/plain": [
       "<Figure size 432x288 with 1 Axes>"
      ]
     },
     "metadata": {},
     "output_type": "display_data"
    }
   ],
   "source": [
    "clean_df.plot(x ='meter_waiting', y='meter_waiting_fare', kind = 'scatter')\n",
    "plt.show()"
   ]
  },
  {
   "cell_type": "code",
   "execution_count": 1549,
   "metadata": {},
   "outputs": [
    {
     "data": {
      "text/plain": [
       "0.998825526943713"
      ]
     },
     "execution_count": 1549,
     "metadata": {},
     "output_type": "execute_result"
    }
   ],
   "source": [
    "# Phi Coefficient is the same as Pearson for two binary variables\n",
    "(clean_df[\"meter_waiting\"]\n",
    "     .corr(clean_df[\"meter_waiting_fare\"], method=\"pearson\")\n",
    ")"
   ]
  },
  {
   "cell_type": "code",
   "execution_count": 1550,
   "metadata": {},
   "outputs": [
    {
     "data": {
      "image/png": "[encoded data removed]",
      "text/plain": [
       "<Figure size 432x288 with 1 Axes>"
      ]
     },
     "metadata": {},
     "output_type": "display_data"
    }
   ],
   "source": [
    "clean_df.plot(x ='meter_waiting', y='fare', kind = 'scatter')\n",
    "plt.show()"
   ]
  },
  {
   "cell_type": "code",
   "execution_count": 1551,
   "metadata": {},
   "outputs": [],
   "source": [
    "# clean_df[clean_df.label>=1].plot(x ='meter_waiting', y='fare', kind = 'scatter')\n",
    "# plt.show()"
   ]
  },
  {
   "cell_type": "code",
   "execution_count": 1552,
   "metadata": {},
   "outputs": [],
   "source": [
    "# clean_df[clean_df.label<1].plot(x ='meter_waiting', y='fare', kind = 'scatter')\n",
    "# plt.show()"
   ]
  },
  {
   "cell_type": "markdown",
   "metadata": {},
   "source": [
    "**meter_waiting_time vs fare**"
   ]
  },
  {
   "cell_type": "code",
   "execution_count": 1553,
   "metadata": {},
   "outputs": [
    {
     "data": {
      "image/png": "[encoded data removed]",
      "text/plain": [
       "<Figure size 432x288 with 1 Axes>"
      ]
     },
     "metadata": {},
     "output_type": "display_data"
    }
   ],
   "source": [
    "clean_df.plot(x ='meter_waiting_fare', y='fare', kind = 'scatter')\n",
    "plt.show()"
   ]
  },
  {
   "cell_type": "code",
   "execution_count": 1554,
   "metadata": {},
   "outputs": [],
   "source": [
    "# clean_df[clean_df.label>=1].plot(x ='meter_waiting_fare', y='fare', kind = 'scatter')\n",
    "# plt.show()"
   ]
  },
  {
   "cell_type": "code",
   "execution_count": 1555,
   "metadata": {},
   "outputs": [],
   "source": [
    "# clean_df[clean_df.label<1].plot(x ='meter_waiting_fare', y='fare', kind = 'scatter')\n",
    "# plt.show()"
   ]
  },
  {
   "cell_type": "markdown",
   "metadata": {},
   "source": [
    "**euc_distance vs fare**"
   ]
  },
  {
   "cell_type": "code",
   "execution_count": 1556,
   "metadata": {},
   "outputs": [
    {
     "data": {
      "image/png": "[encoded data removed]",
      "text/plain": [
       "<Figure size 432x288 with 1 Axes>"
      ]
     },
     "metadata": {},
     "output_type": "display_data"
    }
   ],
   "source": [
    "clean_df.plot(x ='euc_distance', y='fare', kind = 'scatter')\n",
    "plt.show()"
   ]
  },
  {
   "cell_type": "code",
   "execution_count": 1557,
   "metadata": {},
   "outputs": [],
   "source": [
    "clean_df = clean_df[clean_df.euc_distance<10]\n",
    "# clean_df = clean_df[clean_df.euc_distance<1000]"
   ]
  },
  {
   "cell_type": "code",
   "execution_count": 1558,
   "metadata": {},
   "outputs": [
    {
     "data": {
      "image/png": "[encoded data removed]",
      "text/plain": [
       "<Figure size 432x288 with 1 Axes>"
      ]
     },
     "metadata": {},
     "output_type": "display_data"
    }
   ],
   "source": [
    "clean_df.plot(x ='euc_distance', y='fare', kind = 'scatter')\n",
    "plt.show()"
   ]
  },
  {
   "cell_type": "code",
   "execution_count": 1559,
   "metadata": {},
   "outputs": [],
   "source": [
    "clean_df = clean_df[clean_df.euc_distance<0.6]\n",
    "# clean_df = clean_df[clean_df.euc_distance<65]"
   ]
  },
  {
   "cell_type": "code",
   "execution_count": 1560,
   "metadata": {},
   "outputs": [
    {
     "data": {
      "image/png": "[encoded data removed]",
      "text/plain": [
       "<Figure size 432x288 with 1 Axes>"
      ]
     },
     "metadata": {},
     "output_type": "display_data"
    }
   ],
   "source": [
    "clean_df.plot(x ='euc_distance', y='fare', kind = 'scatter')\n",
    "plt.show()"
   ]
  },
  {
   "cell_type": "code",
   "execution_count": 1561,
   "metadata": {},
   "outputs": [
    {
     "data": {
      "text/html": [
       "<div>\n",
       "<style scoped>\n",
       "    .dataframe tbody tr th:only-of-type {\n",
       "        vertical-align: middle;\n",
       "    }\n",
       "\n",
       "    .dataframe tbody tr th {\n",
       "        vertical-align: top;\n",
       "    }\n",
       "\n",
       "    .dataframe thead th {\n",
       "        text-align: right;\n",
       "    }\n",
       "</style>\n",
       "<table border=\"1\" class=\"dataframe\">\n",
       "  <thead>\n",
       "    <tr style=\"text-align: right;\">\n",
       "      <th></th>\n",
       "      <th>additional_fare</th>\n",
       "      <th>duration</th>\n",
       "      <th>meter_waiting</th>\n",
       "      <th>meter_waiting_fare</th>\n",
       "      <th>meter_waiting_till_pickup</th>\n",
       "      <th>fare</th>\n",
       "      <th>label</th>\n",
       "      <th>travel_time</th>\n",
       "      <th>euc_distance</th>\n",
       "    </tr>\n",
       "    <tr>\n",
       "      <th>tripid</th>\n",
       "      <th></th>\n",
       "      <th></th>\n",
       "      <th></th>\n",
       "      <th></th>\n",
       "      <th></th>\n",
       "      <th></th>\n",
       "      <th></th>\n",
       "      <th></th>\n",
       "      <th></th>\n",
       "    </tr>\n",
       "  </thead>\n",
       "  <tbody>\n",
       "    <tr>\n",
       "      <th>203475249</th>\n",
       "      <td>10.5</td>\n",
       "      <td>9271.0</td>\n",
       "      <td>790.0</td>\n",
       "      <td>45.662</td>\n",
       "      <td>115.0</td>\n",
       "      <td>2841.27</td>\n",
       "      <td>1</td>\n",
       "      <td>8481.0</td>\n",
       "      <td>0.528973</td>\n",
       "    </tr>\n",
       "    <tr>\n",
       "      <th>208649108</th>\n",
       "      <td>10.5</td>\n",
       "      <td>176620.0</td>\n",
       "      <td>176164.0</td>\n",
       "      <td>10173.378</td>\n",
       "      <td>10.0</td>\n",
       "      <td>13350.32</td>\n",
       "      <td>0</td>\n",
       "      <td>456.0</td>\n",
       "      <td>0.568757</td>\n",
       "    </tr>\n",
       "  </tbody>\n",
       "</table>\n",
       "</div>"
      ],
      "text/plain": [
       "           additional_fare  duration  meter_waiting  meter_waiting_fare  \\\n",
       "tripid                                                                    \n",
       "203475249             10.5    9271.0          790.0              45.662   \n",
       "208649108             10.5  176620.0       176164.0           10173.378   \n",
       "\n",
       "           meter_waiting_till_pickup      fare  label  travel_time  \\\n",
       "tripid                                                               \n",
       "203475249                      115.0   2841.27      1       8481.0   \n",
       "208649108                       10.0  13350.32      0        456.0   \n",
       "\n",
       "           euc_distance  \n",
       "tripid                   \n",
       "203475249      0.528973  \n",
       "208649108      0.568757  "
      ]
     },
     "execution_count": 1561,
     "metadata": {},
     "output_type": "execute_result"
    }
   ],
   "source": [
    "clean_df[clean_df.euc_distance>0.5]"
   ]
  },
  {
   "cell_type": "code",
   "execution_count": 1562,
   "metadata": {},
   "outputs": [],
   "source": [
    "# clean_df[clean_df.label>=1].plot(x ='euc_distance', y='fare', kind = 'scatter')\n",
    "# plt.show()"
   ]
  },
  {
   "cell_type": "code",
   "execution_count": 1563,
   "metadata": {},
   "outputs": [],
   "source": [
    "# clean_df[clean_df.label<1].plot(x ='euc_distance', y='fare', kind = 'scatter')\n",
    "# plt.show()"
   ]
  },
  {
   "cell_type": "code",
   "execution_count": 1564,
   "metadata": {},
   "outputs": [],
   "source": [
    "# clean_df[clean_df.euc_distance>50].head()"
   ]
  },
  {
   "cell_type": "code",
   "execution_count": 1565,
   "metadata": {},
   "outputs": [],
   "source": [
    "# clean_df = clean_df[clean_df.meter_waiting_till_pickup<40000]\n",
    "# clean_df = clean_df[clean_df.additional_fare<2000]\n",
    "# clean_df = clean_df[clean_df.euc_distance<10]"
   ]
  },
  {
   "cell_type": "markdown",
   "metadata": {},
   "source": [
    "# Final Plot"
   ]
  },
  {
   "cell_type": "code",
   "execution_count": 1566,
   "metadata": {},
   "outputs": [
    {
     "data": {
      "image/png": "[encoded data removed]",
      "text/plain": [
       "<Figure size 432x288 with 1 Axes>"
      ]
     },
     "metadata": {},
     "output_type": "display_data"
    }
   ],
   "source": [
    "clean_df.plot(x ='meter_waiting_till_pickup', y='fare', kind = 'scatter')\n",
    "plt.show()"
   ]
  },
  {
   "cell_type": "code",
   "execution_count": 1567,
   "metadata": {},
   "outputs": [
    {
     "data": {
      "image/png": "[encoded data removed]",
      "text/plain": [
       "<Figure size 432x288 with 1 Axes>"
      ]
     },
     "metadata": {},
     "output_type": "display_data"
    }
   ],
   "source": [
    "clean_df.plot(x ='meter_waiting_till_pickup', y='additional_fare', kind = 'scatter')\n",
    "plt.show()"
   ]
  },
  {
   "cell_type": "code",
   "execution_count": 1568,
   "metadata": {},
   "outputs": [],
   "source": [
    "#clean_df[clean_df.meter_waiting_till_pickup>6000].head()"
   ]
  },
  {
   "cell_type": "code",
   "execution_count": 1569,
   "metadata": {},
   "outputs": [
    {
     "data": {
      "image/png": "[encoded data removed]",
      "text/plain": [
       "<Figure size 432x288 with 1 Axes>"
      ]
     },
     "metadata": {},
     "output_type": "display_data"
    }
   ],
   "source": [
    "clean_df.plot(x ='additional_fare', y='fare', kind = 'scatter')\n",
    "plt.show()"
   ]
  },
  {
   "cell_type": "code",
   "execution_count": 1570,
   "metadata": {},
   "outputs": [],
   "source": [
    "#clean_df = clean_df[clean_df.fare<10000]"
   ]
  },
  {
   "cell_type": "code",
   "execution_count": 1571,
   "metadata": {},
   "outputs": [
    {
     "data": {
      "image/png": "[encoded data removed]",
      "text/plain": [
       "<Figure size 432x288 with 1 Axes>"
      ]
     },
     "metadata": {},
     "output_type": "display_data"
    }
   ],
   "source": [
    "clean_df.plot(x ='duration', y='fare', kind = 'scatter')\n",
    "plt.show()"
   ]
  },
  {
   "cell_type": "code",
   "execution_count": 1572,
   "metadata": {},
   "outputs": [
    {
     "data": {
      "image/png": "[encoded data removed]",
      "text/plain": [
       "<Figure size 432x288 with 1 Axes>"
      ]
     },
     "metadata": {},
     "output_type": "display_data"
    }
   ],
   "source": [
    "clean_df.plot(x ='meter_waiting', y='fare', kind = 'scatter')\n",
    "plt.show()"
   ]
  },
  {
   "cell_type": "markdown",
   "metadata": {},
   "source": [
    "**euc_distance vs fare**"
   ]
  },
  {
   "cell_type": "code",
   "execution_count": 1573,
   "metadata": {},
   "outputs": [
    {
     "data": {
      "image/png": "[encoded data removed]",
      "text/plain": [
       "<Figure size 432x288 with 1 Axes>"
      ]
     },
     "metadata": {},
     "output_type": "display_data"
    }
   ],
   "source": [
    "clean_df.plot(x ='euc_distance', y='fare', kind = 'scatter')\n",
    "plt.show()"
   ]
  },
  {
   "cell_type": "code",
   "execution_count": 1574,
   "metadata": {},
   "outputs": [
    {
     "data": {
      "image/png": "[encoded data removed]",
      "text/plain": [
       "<Figure size 432x288 with 1 Axes>"
      ]
     },
     "metadata": {},
     "output_type": "display_data"
    }
   ],
   "source": [
    "clean_df.plot(x ='euc_distance', y='duration', kind = 'scatter')\n",
    "plt.show()"
   ]
  },
  {
   "cell_type": "code",
   "execution_count": 1575,
   "metadata": {},
   "outputs": [],
   "source": [
    "# clean_df.plot(x ='travel_time', y='duration', kind = 'scatter')\n",
    "# plt.show()"
   ]
  },
  {
   "cell_type": "code",
   "execution_count": 1576,
   "metadata": {},
   "outputs": [
    {
     "data": {
      "text/html": [
       "<div>\n",
       "<style scoped>\n",
       "    .dataframe tbody tr th:only-of-type {\n",
       "        vertical-align: middle;\n",
       "    }\n",
       "\n",
       "    .dataframe tbody tr th {\n",
       "        vertical-align: top;\n",
       "    }\n",
       "\n",
       "    .dataframe thead th {\n",
       "        text-align: right;\n",
       "    }\n",
       "</style>\n",
       "<table border=\"1\" class=\"dataframe\">\n",
       "  <thead>\n",
       "    <tr style=\"text-align: right;\">\n",
       "      <th></th>\n",
       "      <th>additional_fare</th>\n",
       "      <th>duration</th>\n",
       "      <th>meter_waiting</th>\n",
       "      <th>meter_waiting_fare</th>\n",
       "      <th>meter_waiting_till_pickup</th>\n",
       "      <th>fare</th>\n",
       "      <th>label</th>\n",
       "      <th>travel_time</th>\n",
       "      <th>euc_distance</th>\n",
       "    </tr>\n",
       "    <tr>\n",
       "      <th>tripid</th>\n",
       "      <th></th>\n",
       "      <th></th>\n",
       "      <th></th>\n",
       "      <th></th>\n",
       "      <th></th>\n",
       "      <th></th>\n",
       "      <th></th>\n",
       "      <th></th>\n",
       "      <th></th>\n",
       "    </tr>\n",
       "  </thead>\n",
       "  <tbody>\n",
       "    <tr>\n",
       "      <th>193653017</th>\n",
       "      <td>0.0</td>\n",
       "      <td>1560.0</td>\n",
       "      <td>0.0</td>\n",
       "      <td>0.0000</td>\n",
       "      <td>540.0</td>\n",
       "      <td>0.00</td>\n",
       "      <td>0</td>\n",
       "      <td>0.0</td>\n",
       "      <td>0.000172</td>\n",
       "    </tr>\n",
       "    <tr>\n",
       "      <th>195445714</th>\n",
       "      <td>10.5</td>\n",
       "      <td>27.0</td>\n",
       "      <td>27.0</td>\n",
       "      <td>0.0000</td>\n",
       "      <td>85.0</td>\n",
       "      <td>60.50</td>\n",
       "      <td>0</td>\n",
       "      <td>0.0</td>\n",
       "      <td>0.018963</td>\n",
       "    </tr>\n",
       "    <tr>\n",
       "      <th>197020223</th>\n",
       "      <td>10.5</td>\n",
       "      <td>49.0</td>\n",
       "      <td>49.0</td>\n",
       "      <td>2.8567</td>\n",
       "      <td>30.0</td>\n",
       "      <td>63.35</td>\n",
       "      <td>1</td>\n",
       "      <td>0.0</td>\n",
       "      <td>0.000010</td>\n",
       "    </tr>\n",
       "    <tr>\n",
       "      <th>197271380</th>\n",
       "      <td>10.5</td>\n",
       "      <td>29.0</td>\n",
       "      <td>29.0</td>\n",
       "      <td>0.0000</td>\n",
       "      <td>67.0</td>\n",
       "      <td>507.22</td>\n",
       "      <td>0</td>\n",
       "      <td>0.0</td>\n",
       "      <td>0.108635</td>\n",
       "    </tr>\n",
       "    <tr>\n",
       "      <th>197546607</th>\n",
       "      <td>10.5</td>\n",
       "      <td>28.0</td>\n",
       "      <td>28.0</td>\n",
       "      <td>0.0000</td>\n",
       "      <td>132.0</td>\n",
       "      <td>60.50</td>\n",
       "      <td>0</td>\n",
       "      <td>0.0</td>\n",
       "      <td>0.084772</td>\n",
       "    </tr>\n",
       "    <tr>\n",
       "      <th>199104080</th>\n",
       "      <td>21.0</td>\n",
       "      <td>49.0</td>\n",
       "      <td>49.0</td>\n",
       "      <td>2.8567</td>\n",
       "      <td>681.0</td>\n",
       "      <td>83.74</td>\n",
       "      <td>0</td>\n",
       "      <td>0.0</td>\n",
       "      <td>0.000969</td>\n",
       "    </tr>\n",
       "    <tr>\n",
       "      <th>203915670</th>\n",
       "      <td>10.5</td>\n",
       "      <td>1300.0</td>\n",
       "      <td>1300.0</td>\n",
       "      <td>0.0000</td>\n",
       "      <td>688.0</td>\n",
       "      <td>60.50</td>\n",
       "      <td>0</td>\n",
       "      <td>0.0</td>\n",
       "      <td>0.008285</td>\n",
       "    </tr>\n",
       "    <tr>\n",
       "      <th>211275614</th>\n",
       "      <td>10.5</td>\n",
       "      <td>61.0</td>\n",
       "      <td>61.0</td>\n",
       "      <td>0.0000</td>\n",
       "      <td>115.0</td>\n",
       "      <td>60.50</td>\n",
       "      <td>0</td>\n",
       "      <td>0.0</td>\n",
       "      <td>0.040393</td>\n",
       "    </tr>\n",
       "    <tr>\n",
       "      <th>212290406</th>\n",
       "      <td>10.5</td>\n",
       "      <td>38.0</td>\n",
       "      <td>38.0</td>\n",
       "      <td>0.0000</td>\n",
       "      <td>8.0</td>\n",
       "      <td>60.50</td>\n",
       "      <td>0</td>\n",
       "      <td>0.0</td>\n",
       "      <td>0.002382</td>\n",
       "    </tr>\n",
       "    <tr>\n",
       "      <th>213112837</th>\n",
       "      <td>0.0</td>\n",
       "      <td>1380.0</td>\n",
       "      <td>0.0</td>\n",
       "      <td>0.0000</td>\n",
       "      <td>973.0</td>\n",
       "      <td>0.00</td>\n",
       "      <td>0</td>\n",
       "      <td>0.0</td>\n",
       "      <td>0.007593</td>\n",
       "    </tr>\n",
       "  </tbody>\n",
       "</table>\n",
       "</div>"
      ],
      "text/plain": [
       "           additional_fare  duration  meter_waiting  meter_waiting_fare  \\\n",
       "tripid                                                                    \n",
       "193653017              0.0    1560.0            0.0              0.0000   \n",
       "195445714             10.5      27.0           27.0              0.0000   \n",
       "197020223             10.5      49.0           49.0              2.8567   \n",
       "197271380             10.5      29.0           29.0              0.0000   \n",
       "197546607             10.5      28.0           28.0              0.0000   \n",
       "199104080             21.0      49.0           49.0              2.8567   \n",
       "203915670             10.5    1300.0         1300.0              0.0000   \n",
       "211275614             10.5      61.0           61.0              0.0000   \n",
       "212290406             10.5      38.0           38.0              0.0000   \n",
       "213112837              0.0    1380.0            0.0              0.0000   \n",
       "\n",
       "           meter_waiting_till_pickup    fare  label  travel_time  euc_distance  \n",
       "tripid                                                                          \n",
       "193653017                      540.0    0.00      0          0.0      0.000172  \n",
       "195445714                       85.0   60.50      0          0.0      0.018963  \n",
       "197020223                       30.0   63.35      1          0.0      0.000010  \n",
       "197271380                       67.0  507.22      0          0.0      0.108635  \n",
       "197546607                      132.0   60.50      0          0.0      0.084772  \n",
       "199104080                      681.0   83.74      0          0.0      0.000969  \n",
       "203915670                      688.0   60.50      0          0.0      0.008285  \n",
       "211275614                      115.0   60.50      0          0.0      0.040393  \n",
       "212290406                        8.0   60.50      0          0.0      0.002382  \n",
       "213112837                      973.0    0.00      0          0.0      0.007593  "
      ]
     },
     "execution_count": 1576,
     "metadata": {},
     "output_type": "execute_result"
    }
   ],
   "source": [
    "clean_df[clean_df.travel_time<1]"
   ]
  },
  {
   "cell_type": "code",
   "execution_count": 1577,
   "metadata": {},
   "outputs": [],
   "source": [
    "#clean_df = clean_df.drop(['meter_waiting'],axis='columns')"
   ]
  },
  {
   "cell_type": "code",
   "execution_count": 1578,
   "metadata": {},
   "outputs": [
    {
     "data": {
      "text/html": [
       "<div>\n",
       "<style scoped>\n",
       "    .dataframe tbody tr th:only-of-type {\n",
       "        vertical-align: middle;\n",
       "    }\n",
       "\n",
       "    .dataframe tbody tr th {\n",
       "        vertical-align: top;\n",
       "    }\n",
       "\n",
       "    .dataframe thead th {\n",
       "        text-align: right;\n",
       "    }\n",
       "</style>\n",
       "<table border=\"1\" class=\"dataframe\">\n",
       "  <thead>\n",
       "    <tr style=\"text-align: right;\">\n",
       "      <th></th>\n",
       "      <th>additional_fare</th>\n",
       "      <th>duration</th>\n",
       "      <th>meter_waiting</th>\n",
       "      <th>meter_waiting_fare</th>\n",
       "      <th>meter_waiting_till_pickup</th>\n",
       "      <th>fare</th>\n",
       "      <th>label</th>\n",
       "      <th>travel_time</th>\n",
       "      <th>euc_distance</th>\n",
       "    </tr>\n",
       "  </thead>\n",
       "  <tbody>\n",
       "    <tr>\n",
       "      <th>count</th>\n",
       "      <td>16943.000000</td>\n",
       "      <td>16943.000000</td>\n",
       "      <td>16943.000000</td>\n",
       "      <td>16943.000000</td>\n",
       "      <td>16943.000000</td>\n",
       "      <td>16943.000000</td>\n",
       "      <td>16943.000000</td>\n",
       "      <td>16943.000000</td>\n",
       "      <td>16943.000000</td>\n",
       "    </tr>\n",
       "    <tr>\n",
       "      <th>mean</th>\n",
       "      <td>12.895414</td>\n",
       "      <td>1566.956973</td>\n",
       "      <td>486.671723</td>\n",
       "      <td>23.902902</td>\n",
       "      <td>106.589978</td>\n",
       "      <td>301.817022</td>\n",
       "      <td>0.910819</td>\n",
       "      <td>1080.128903</td>\n",
       "      <td>0.040709</td>\n",
       "    </tr>\n",
       "    <tr>\n",
       "      <th>std</th>\n",
       "      <td>12.243374</td>\n",
       "      <td>4089.969108</td>\n",
       "      <td>3778.631256</td>\n",
       "      <td>218.375993</td>\n",
       "      <td>127.146513</td>\n",
       "      <td>375.485568</td>\n",
       "      <td>0.285014</td>\n",
       "      <td>1053.068859</td>\n",
       "      <td>0.040630</td>\n",
       "    </tr>\n",
       "    <tr>\n",
       "      <th>min</th>\n",
       "      <td>0.000000</td>\n",
       "      <td>22.000000</td>\n",
       "      <td>0.000000</td>\n",
       "      <td>0.000000</td>\n",
       "      <td>0.000000</td>\n",
       "      <td>0.000000</td>\n",
       "      <td>0.000000</td>\n",
       "      <td>0.000000</td>\n",
       "      <td>0.000000</td>\n",
       "    </tr>\n",
       "    <tr>\n",
       "      <th>25%</th>\n",
       "      <td>10.500000</td>\n",
       "      <td>548.000000</td>\n",
       "      <td>33.000000</td>\n",
       "      <td>0.000000</td>\n",
       "      <td>26.000000</td>\n",
       "      <td>125.535000</td>\n",
       "      <td>1.000000</td>\n",
       "      <td>446.000000</td>\n",
       "      <td>0.013411</td>\n",
       "    </tr>\n",
       "    <tr>\n",
       "      <th>50%</th>\n",
       "      <td>10.500000</td>\n",
       "      <td>1010.000000</td>\n",
       "      <td>123.000000</td>\n",
       "      <td>0.115600</td>\n",
       "      <td>73.000000</td>\n",
       "      <td>210.890000</td>\n",
       "      <td>1.000000</td>\n",
       "      <td>812.000000</td>\n",
       "      <td>0.029033</td>\n",
       "    </tr>\n",
       "    <tr>\n",
       "      <th>75%</th>\n",
       "      <td>10.500000</td>\n",
       "      <td>1799.500000</td>\n",
       "      <td>350.000000</td>\n",
       "      <td>14.228777</td>\n",
       "      <td>144.000000</td>\n",
       "      <td>365.295000</td>\n",
       "      <td>1.000000</td>\n",
       "      <td>1401.500000</td>\n",
       "      <td>0.055444</td>\n",
       "    </tr>\n",
       "    <tr>\n",
       "      <th>max</th>\n",
       "      <td>111.000000</td>\n",
       "      <td>183996.000000</td>\n",
       "      <td>183756.000000</td>\n",
       "      <td>10591.618800</td>\n",
       "      <td>2368.000000</td>\n",
       "      <td>13350.320000</td>\n",
       "      <td>1.000000</td>\n",
       "      <td>26061.000000</td>\n",
       "      <td>0.568757</td>\n",
       "    </tr>\n",
       "  </tbody>\n",
       "</table>\n",
       "</div>"
      ],
      "text/plain": [
       "       additional_fare       duration  meter_waiting  meter_waiting_fare  \\\n",
       "count     16943.000000   16943.000000   16943.000000        16943.000000   \n",
       "mean         12.895414    1566.956973     486.671723           23.902902   \n",
       "std          12.243374    4089.969108    3778.631256          218.375993   \n",
       "min           0.000000      22.000000       0.000000            0.000000   \n",
       "25%          10.500000     548.000000      33.000000            0.000000   \n",
       "50%          10.500000    1010.000000     123.000000            0.115600   \n",
       "75%          10.500000    1799.500000     350.000000           14.228777   \n",
       "max         111.000000  183996.000000  183756.000000        10591.618800   \n",
       "\n",
       "       meter_waiting_till_pickup          fare         label   travel_time  \\\n",
       "count               16943.000000  16943.000000  16943.000000  16943.000000   \n",
       "mean                  106.589978    301.817022      0.910819   1080.128903   \n",
       "std                   127.146513    375.485568      0.285014   1053.068859   \n",
       "min                     0.000000      0.000000      0.000000      0.000000   \n",
       "25%                    26.000000    125.535000      1.000000    446.000000   \n",
       "50%                    73.000000    210.890000      1.000000    812.000000   \n",
       "75%                   144.000000    365.295000      1.000000   1401.500000   \n",
       "max                  2368.000000  13350.320000      1.000000  26061.000000   \n",
       "\n",
       "       euc_distance  \n",
       "count  16943.000000  \n",
       "mean       0.040709  \n",
       "std        0.040630  \n",
       "min        0.000000  \n",
       "25%        0.013411  \n",
       "50%        0.029033  \n",
       "75%        0.055444  \n",
       "max        0.568757  "
      ]
     },
     "execution_count": 1578,
     "metadata": {},
     "output_type": "execute_result"
    }
   ],
   "source": [
    "clean_df.describe()"
   ]
  },
  {
   "cell_type": "markdown",
   "metadata": {},
   "source": [
    "# **Model Selection Using Cross Validation**"
   ]
  },
  {
   "cell_type": "code",
   "execution_count": 1579,
   "metadata": {},
   "outputs": [],
   "source": [
    "# clean_df = clean_df.drop(['meter_waiting_fare'],axis='columns')"
   ]
  },
  {
   "cell_type": "code",
   "execution_count": 1580,
   "metadata": {},
   "outputs": [
    {
     "data": {
      "text/plain": [
       "tripid\n",
       "189123628    1\n",
       "189125358    1\n",
       "189125719    1\n",
       "189127273    1\n",
       "189129552    1\n",
       "Name: label, dtype: int64"
      ]
     },
     "execution_count": 1580,
     "metadata": {},
     "output_type": "execute_result"
    }
   ],
   "source": [
    "X_train = clean_df.drop(['label'],axis='columns')\n",
    "Y_train = clean_df['label']\n",
    "Y_train.head()"
   ]
  },
  {
   "cell_type": "code",
   "execution_count": 1581,
   "metadata": {},
   "outputs": [],
   "source": [
    "scaler = StandardScaler()\n",
    "#scaler = MinMaxScaler()\n",
    "#scalar=PCA()\n",
    "\n",
    "X_train = scaler.fit_transform(X_train)"
   ]
  },
  {
   "cell_type": "code",
   "execution_count": 1582,
   "metadata": {},
   "outputs": [],
   "source": [
    "kfold = StratifiedKFold(n_splits=10)"
   ]
  },
  {
   "cell_type": "code",
   "execution_count": 1583,
   "metadata": {},
   "outputs": [],
   "source": [
    "random_state = 2"
   ]
  },
  {
   "cell_type": "code",
   "execution_count": 1584,
   "metadata": {},
   "outputs": [],
   "source": [
    "# #upsampling method\n",
    "\n",
    "# example_params = {\n",
    "#         #'n_estimators': 100,\n",
    "#         #'max_depth': 5,\n",
    "#         #'random_state': 13\n",
    "#     }\n",
    "\n",
    "# def score_model(model, params, cv=None):\n",
    "#     \"\"\"\n",
    "#     Creates folds manually, and upsamples within each fold.\n",
    "#     Returns an array of validation (recall) scores\n",
    "#     \"\"\"\n",
    "#     if cv is None:\n",
    "#         cv = KFold(n_splits=10, random_state=42)\n",
    "\n",
    "#     smoter = SMOTE(random_state=42)\n",
    "    \n",
    "#     scores = []\n",
    "\n",
    "#     for train_fold_index, val_fold_index in cv.split(X_train, Y_train):\n",
    "#         # Get the training data\n",
    "#         X_train_fold, y_train_fold = X_train[train_fold_index], Y_train[train_fold_index]\n",
    "#         # Get the validation data\n",
    "#         X_val_fold, y_val_fold = X_train[val_fold_index], Y_train[val_fold_index]\n",
    "\n",
    "#         # Upsample only the data in the training section\n",
    "#         X_train_fold_upsample, y_train_fold_upsample = smoter.fit_resample(X_train_fold,y_train_fold)\n",
    "#         # Fit the model on the upsampled training data\n",
    "#         model_obj = model.fit(X_train_fold_upsample, y_train_fold_upsample)\n",
    "#         # Score the model on the (non-upsampled) validation data\n",
    "#         score = f1_score(y_val_fold, model_obj.predict(X_val_fold))\n",
    "#         scores.append(score)\n",
    "#     return np.array(scores)"
   ]
  },
  {
   "cell_type": "code",
   "execution_count": 1585,
   "metadata": {},
   "outputs": [],
   "source": [
    "classifiers = []\n",
    "classifiers.append(XGBClassifier())\n",
    "classifiers.append(SVC(random_state=random_state))\n",
    "classifiers.append(DecisionTreeClassifier(random_state=random_state))\n",
    "classifiers.append(AdaBoostClassifier(DecisionTreeClassifier(random_state=random_state),random_state=random_state,learning_rate=0.1))\n",
    "classifiers.append(RandomForestClassifier(random_state=random_state))\n",
    "classifiers.append(ExtraTreesClassifier(random_state=random_state))\n",
    "classifiers.append(RidgeClassifier())\n",
    "classifiers.append(GradientBoostingClassifier(random_state=random_state))\n",
    "classifiers.append(MLPClassifier(random_state=random_state))\n",
    "classifiers.append(KNeighborsClassifier())\n",
    "classifiers.append(LogisticRegression(random_state = random_state))\n",
    "classifiers.append(LinearDiscriminantAnalysis())\n",
    "classifiers.append(naive_bayes.BernoulliNB())\n",
    "classifiers.append(naive_bayes.GaussianNB())\n",
    "classifiers.append(SGDClassifier())\n",
    "# classifiers.append(RadiusNeighborsClassifier())\n",
    "classifiers.append(BaggingClassifier(random_state=random_state))\n",
    "\n",
    "\n",
    "cv_results = []\n",
    "for classifier in classifiers :\n",
    "    cv_results.append(cross_val_score(classifier, X_train, y = Y_train, scoring = 'f1', cv = kfold, n_jobs=4)) #without upsampling\n",
    "    #cv_results.append(score_model(classifier, example_params, cv=None))  #with upsampling\n",
    "#     imba_pipeline = make_pipeline(SMOTE(random_state=42), classifier)\n",
    "#     cv_results.append(cross_val_score(imba_pipeline, X_train, y =Y_train, scoring='f1', cv=kfold, n_jobs=4))\n",
    "\n",
    "cv_means = []\n",
    "cv_std = []\n",
    "for cv_result in cv_results:\n",
    "    cv_means.append(cv_result.mean())\n",
    "    cv_std.append(cv_result.std())"
   ]
  },
  {
   "cell_type": "code",
   "execution_count": 1586,
   "metadata": {},
   "outputs": [],
   "source": [
    "cv_res = pd.DataFrame({\"CrossValMeans\":cv_means,\"CrossValerrors\": cv_std,\"Algorithm\":[\"XGB\",\"SVC\",\"DecisionTree\",\"AdaBoost\",\n",
    "\"RandomForest\",\"ExtraTrees\", \"RidgeRegression\",\"GradientBoosting\",\"MultipleLayerPerceptron\",\"KNeighboors\",\"LogisticRegression\",\n",
    "\"LinearDiscriminantAnalysis\",\"BNB\",\"GNB\",\"SGDClassifier\",\"BaggingClassifier\"]}) \n",
    "#\"RadiusNeighborsClassifier\""
   ]
  },
  {
   "cell_type": "code",
   "execution_count": 1587,
   "metadata": {},
   "outputs": [
    {
     "data": {
      "text/html": [
       "<div>\n",
       "<style scoped>\n",
       "    .dataframe tbody tr th:only-of-type {\n",
       "        vertical-align: middle;\n",
       "    }\n",
       "\n",
       "    .dataframe tbody tr th {\n",
       "        vertical-align: top;\n",
       "    }\n",
       "\n",
       "    .dataframe thead th {\n",
       "        text-align: right;\n",
       "    }\n",
       "</style>\n",
       "<table border=\"1\" class=\"dataframe\">\n",
       "  <thead>\n",
       "    <tr style=\"text-align: right;\">\n",
       "      <th></th>\n",
       "      <th>CrossValMeans</th>\n",
       "      <th>CrossValerrors</th>\n",
       "      <th>Algorithm</th>\n",
       "    </tr>\n",
       "  </thead>\n",
       "  <tbody>\n",
       "    <tr>\n",
       "      <th>0</th>\n",
       "      <td>0.975682</td>\n",
       "      <td>0.003886</td>\n",
       "      <td>XGB</td>\n",
       "    </tr>\n",
       "    <tr>\n",
       "      <th>1</th>\n",
       "      <td>0.970115</td>\n",
       "      <td>0.002324</td>\n",
       "      <td>SVC</td>\n",
       "    </tr>\n",
       "    <tr>\n",
       "      <th>2</th>\n",
       "      <td>0.961600</td>\n",
       "      <td>0.003524</td>\n",
       "      <td>DecisionTree</td>\n",
       "    </tr>\n",
       "    <tr>\n",
       "      <th>3</th>\n",
       "      <td>0.961906</td>\n",
       "      <td>0.004137</td>\n",
       "      <td>AdaBoost</td>\n",
       "    </tr>\n",
       "    <tr>\n",
       "      <th>4</th>\n",
       "      <td>0.975292</td>\n",
       "      <td>0.003858</td>\n",
       "      <td>RandomForest</td>\n",
       "    </tr>\n",
       "    <tr>\n",
       "      <th>5</th>\n",
       "      <td>0.974648</td>\n",
       "      <td>0.003507</td>\n",
       "      <td>ExtraTrees</td>\n",
       "    </tr>\n",
       "    <tr>\n",
       "      <th>6</th>\n",
       "      <td>0.955549</td>\n",
       "      <td>0.001115</td>\n",
       "      <td>RidgeRegression</td>\n",
       "    </tr>\n",
       "    <tr>\n",
       "      <th>7</th>\n",
       "      <td>0.972893</td>\n",
       "      <td>0.002796</td>\n",
       "      <td>GradientBoosting</td>\n",
       "    </tr>\n",
       "    <tr>\n",
       "      <th>8</th>\n",
       "      <td>0.975495</td>\n",
       "      <td>0.003266</td>\n",
       "      <td>MultipleLayerPerceptron</td>\n",
       "    </tr>\n",
       "    <tr>\n",
       "      <th>9</th>\n",
       "      <td>0.972189</td>\n",
       "      <td>0.003179</td>\n",
       "      <td>KNeighboors</td>\n",
       "    </tr>\n",
       "    <tr>\n",
       "      <th>10</th>\n",
       "      <td>0.958906</td>\n",
       "      <td>0.001397</td>\n",
       "      <td>LogisticRegression</td>\n",
       "    </tr>\n",
       "    <tr>\n",
       "      <th>11</th>\n",
       "      <td>0.958549</td>\n",
       "      <td>0.001376</td>\n",
       "      <td>LinearDiscriminantAnalysis</td>\n",
       "    </tr>\n",
       "    <tr>\n",
       "      <th>12</th>\n",
       "      <td>0.951438</td>\n",
       "      <td>0.001423</td>\n",
       "      <td>BNB</td>\n",
       "    </tr>\n",
       "    <tr>\n",
       "      <th>13</th>\n",
       "      <td>0.945689</td>\n",
       "      <td>0.003162</td>\n",
       "      <td>GNB</td>\n",
       "    </tr>\n",
       "    <tr>\n",
       "      <th>14</th>\n",
       "      <td>0.961616</td>\n",
       "      <td>0.002188</td>\n",
       "      <td>SGDClassifier</td>\n",
       "    </tr>\n",
       "    <tr>\n",
       "      <th>15</th>\n",
       "      <td>0.973774</td>\n",
       "      <td>0.003628</td>\n",
       "      <td>BaggingClassifier</td>\n",
       "    </tr>\n",
       "  </tbody>\n",
       "</table>\n",
       "</div>"
      ],
      "text/plain": [
       "    CrossValMeans  CrossValerrors                   Algorithm\n",
       "0        0.975682        0.003886                         XGB\n",
       "1        0.970115        0.002324                         SVC\n",
       "2        0.961600        0.003524                DecisionTree\n",
       "3        0.961906        0.004137                    AdaBoost\n",
       "4        0.975292        0.003858                RandomForest\n",
       "5        0.974648        0.003507                  ExtraTrees\n",
       "6        0.955549        0.001115             RidgeRegression\n",
       "7        0.972893        0.002796            GradientBoosting\n",
       "8        0.975495        0.003266     MultipleLayerPerceptron\n",
       "9        0.972189        0.003179                 KNeighboors\n",
       "10       0.958906        0.001397          LogisticRegression\n",
       "11       0.958549        0.001376  LinearDiscriminantAnalysis\n",
       "12       0.951438        0.001423                         BNB\n",
       "13       0.945689        0.003162                         GNB\n",
       "14       0.961616        0.002188               SGDClassifier\n",
       "15       0.973774        0.003628           BaggingClassifier"
      ]
     },
     "execution_count": 1587,
     "metadata": {},
     "output_type": "execute_result"
    }
   ],
   "source": [
    "cv_res"
   ]
  },
  {
   "cell_type": "code",
   "execution_count": 1588,
   "metadata": {},
   "outputs": [
    {
     "data": {
      "image/png": "[encoded data removed]",
      "text/plain": [
       "<Figure size 432x288 with 1 Axes>"
      ]
     },
     "metadata": {},
     "output_type": "display_data"
    }
   ],
   "source": [
    "g = sns.barplot(\"CrossValMeans\",\"Algorithm\",data = cv_res, palette=\"Set3\",orient = \"h\",**{'xerr':cv_std})\n",
    "g.set_xlabel(\"Mean Accuracy\")\n",
    "g = g.set_title(\"Cross validation scores\")"
   ]
  },
  {
   "cell_type": "code",
   "execution_count": 1589,
   "metadata": {},
   "outputs": [
    {
     "name": "stdout",
     "output_type": "stream",
     "text": [
      "Fitting 10 folds for each of 108 candidates, totalling 1080 fits\n"
     ]
    },
    {
     "name": "stderr",
     "output_type": "stream",
     "text": [
      "[Parallel(n_jobs=4)]: Using backend LokyBackend with 4 concurrent workers.\n",
      "[Parallel(n_jobs=4)]: Done  42 tasks      | elapsed:   44.6s\n",
      "[Parallel(n_jobs=4)]: Done 192 tasks      | elapsed:  3.2min\n",
      "[Parallel(n_jobs=4)]: Done 442 tasks      | elapsed:  7.4min\n",
      "[Parallel(n_jobs=4)]: Done 792 tasks      | elapsed: 13.0min\n",
      "[Parallel(n_jobs=4)]: Done 1080 out of 1080 | elapsed: 17.6min finished\n"
     ]
    },
    {
     "data": {
      "text/plain": [
       "0.9761689282056633"
      ]
     },
     "execution_count": 1589,
     "metadata": {},
     "output_type": "execute_result"
    }
   ],
   "source": [
    "XGBC = XGBClassifier()\n",
    "# xgbc_param_grid = {\n",
    "#    \"learning_rate\"    : [0.1, 0.2, 0.3] , #[0.1] #[0.3]\n",
    "#    \"max_depth\"        : [3,4,5,6],  #[5] #[3]\n",
    "#    \"n_estimators\"     : [180,200,220], #[100] #[150]\n",
    "#    \"min_child_weight\" : [ 1, 3, 5],   #[] #[1]\n",
    "#    \"gamma\"            : [ 0.05, 0.1, 0.15, 0.2 ], #[0.2] #[0.2]\n",
    "#    \"colsample_bytree\" : [0.5 , 0.7 ,1.0 ],   #[] #[1]\n",
    "#    \"subsample\"       : [0.8,1]\n",
    "#     }\n",
    "xgbc_param_grid = {\n",
    "   \"learning_rate\"    : [0.1, 0.2,0.15] , #[0.15]\n",
    "   \"max_depth\"        : [6,5],    #[6]\n",
    "   \"n_estimators\"     : [100,200,150],    #[100]\n",
    "    \"min_child_weight\" : [1,2], #[2]\n",
    "   \"gamma\"            : [0.1, 0.2,0.15] #[0.15]\n",
    "#     \"scale_pos_weight\" : [0.1,1,10],\n",
    "#     \"colsample_bytree\" : [0.9,1 ],   #[] #[1]\n",
    "#    \"subsample\"       : [0.9,1]\n",
    "    }\n",
    "\n",
    "gsXGBC = GridSearchCV(XGBC,param_grid =xgbc_param_grid, cv=kfold, scoring=\"f1\", n_jobs= 4, verbose = 1)\n",
    "\n",
    "gsXGBC.fit(X_train,Y_train)\n",
    "\n",
    "XGBC_best = gsXGBC.best_estimator_\n",
    "\n",
    "# Best score\n",
    "gsXGBC.best_score_"
   ]
  },
  {
   "cell_type": "code",
   "execution_count": 1590,
   "metadata": {},
   "outputs": [
    {
     "data": {
      "text/plain": [
       "XGBClassifier(base_score=0.5, booster=None, colsample_bylevel=1,\n",
       "              colsample_bynode=1, colsample_bytree=1, gamma=0.15, gpu_id=-1,\n",
       "              importance_type='gain', interaction_constraints=None,\n",
       "              learning_rate=0.15, max_delta_step=0, max_depth=6,\n",
       "              min_child_weight=1, missing=nan, monotone_constraints=None,\n",
       "              n_estimators=100, n_jobs=0, num_parallel_tree=1,\n",
       "              objective='binary:logistic', random_state=0, reg_alpha=0,\n",
       "              reg_lambda=1, scale_pos_weight=1, subsample=1, tree_method=None,\n",
       "              validate_parameters=False, verbosity=None)"
      ]
     },
     "execution_count": 1590,
     "metadata": {},
     "output_type": "execute_result"
    }
   ],
   "source": [
    "XGBC_best"
   ]
  },
  {
   "cell_type": "code",
   "execution_count": 1591,
   "metadata": {},
   "outputs": [],
   "source": [
    "# LR = LogisticRegression(random_state = random_state)\n",
    "# lr_param_grid = {'penalty' : ['l1', 'l2'], \n",
    "#                    'solver' : ['liblinear', 'saga'],               \n",
    "#                   'C': [1, 10, 50, 100, 300],\n",
    "#                   'class_weight' : [{1:0.5, 0:0.5}, {1:0.4, 0:0.6}, {1:0.6, 0:0.4}, {1:0.7, 0:0.3}]}\n",
    "\n",
    "# gsLR = GridSearchCV(LR,param_grid =lr_param_grid, cv=kfold, scoring='f1', n_jobs= 4, verbose = 1)\n",
    "\n",
    "# gsLR.fit(X_train,Y_train)\n",
    "\n",
    "# LR_best = gsLR.best_estimator_\n",
    "\n",
    "# # Best score\n",
    "# gsLR.best_score_"
   ]
  },
  {
   "cell_type": "code",
   "execution_count": 1592,
   "metadata": {},
   "outputs": [],
   "source": [
    "# gsLR.best_score_"
   ]
  },
  {
   "cell_type": "code",
   "execution_count": null,
   "metadata": {},
   "outputs": [],
   "source": [
    "RFC = RandomForestClassifier()\n",
    "rfc_param_grid = {\n",
    "   #'bootstrap': [True, False],\n",
    "   'max_depth': [20,30,40], #[20] [20]\n",
    "   #'max_features': ['auto', 'sqrt'],\n",
    "   #'min_samples_leaf': [1, 2, 4],\n",
    "   #'min_samples_split': [2, 5, 10],\n",
    "   'n_estimators': [1200,1300,1400] #[1000] [1250]\n",
    "    }\n",
    "\n",
    "gsRFC = GridSearchCV(RFC,param_grid =rfc_param_grid, cv=kfold, scoring=\"f1\", n_jobs= 4, verbose = 1)\n",
    "\n",
    "gsRFC.fit(X_train,Y_train)\n",
    "\n",
    "RFC_best = gsRFC.best_estimator_\n",
    "\n",
    "# Best score\n",
    "gsRFC.best_score_"
   ]
  },
  {
   "cell_type": "code",
   "execution_count": null,
   "metadata": {},
   "outputs": [],
   "source": [
    "RFC_best"
   ]
  },
  {
   "cell_type": "code",
   "execution_count": null,
   "metadata": {},
   "outputs": [],
   "source": [
    "# LDA = LinearDiscriminantAnalysis()\n",
    "# lda_param_grid = {'n_components' : [1, 2, 5, 10, 100], \n",
    "#                    'solver' : ['svd', 'lsqr','eigen']}\n",
    "\n",
    "# gsLDA = GridSearchCV(LDA,param_grid =lda_param_grid, cv=kfold, scoring=\"f1\", n_jobs= 4, verbose = 1)\n",
    "\n",
    "# gsLDA.fit(X_train,Y_train)\n",
    "\n",
    "# LDA_best = gsLDA.best_estimator_\n",
    "\n",
    "# # Best score\n",
    "# gsLDA.best_score_"
   ]
  },
  {
   "cell_type": "code",
   "execution_count": null,
   "metadata": {},
   "outputs": [],
   "source": [
    "# LDA_best"
   ]
  },
  {
   "cell_type": "code",
   "execution_count": null,
   "metadata": {},
   "outputs": [],
   "source": [
    "# RR = RidgeClassifier(random_state = random_state)\n",
    "# rr_param_grid = {'solver' : ['liblinear', 'saga'],               \n",
    "#                   'alpha' : [ 0.01, 0.1, 1, 5, 10, 50, 100]}\n",
    "\n",
    "# gsRR = GridSearchCV(RR,param_grid =rr_param_grid, cv=kfold, scoring=\"f1\", n_jobs= 4, verbose = 1)\n",
    "\n",
    "# gsRR.fit(X_train,Y_train)\n",
    "\n",
    "# RR_best = gsRR.best_estimator_\n",
    "\n",
    "# # Best score\n",
    "# gsRR.best_score_"
   ]
  },
  {
   "cell_type": "code",
   "execution_count": null,
   "metadata": {},
   "outputs": [],
   "source": [
    "# RR_best"
   ]
  },
  {
   "cell_type": "code",
   "execution_count": null,
   "metadata": {},
   "outputs": [],
   "source": [
    "ETC = ExtraTreesClassifier()\n",
    "etc_param_grid = {\n",
    "   #'bootstrap': [True, False],\n",
    "   'max_depth': [30,40,50], #[20]\n",
    "   'max_features': ['auto', 'sqrt'],\n",
    "   'min_samples_leaf': [1, 2, 4],\n",
    "   'min_samples_split': [2, 5, 10],\n",
    "   'n_estimators': [1000,1100,1200] #[1000][1500]\n",
    "    }\n",
    "\n",
    "gsETC = GridSearchCV(ETC,param_grid =etc_param_grid, cv=kfold, scoring=\"f1\", n_jobs= 4, verbose = 1)\n",
    "\n",
    "gsETC.fit(X_train,Y_train)\n",
    "\n",
    "\n",
    "ETC_best = gsETC.best_estimator_\n",
    "\n",
    "# Best score\n",
    "gsETC.best_score_"
   ]
  },
  {
   "cell_type": "code",
   "execution_count": null,
   "metadata": {},
   "outputs": [],
   "source": [
    "ETC_best"
   ]
  },
  {
   "cell_type": "code",
   "execution_count": null,
   "metadata": {},
   "outputs": [],
   "source": [
    "# KNC = KNeighborsClassifier()\n",
    "# knc_param_grid = {\n",
    "#     'weights': ['uniform' , 'distance'],\n",
    "#    #'bootstrap': [True, False],\n",
    "#    #'max_depth': [10, 20, 30], #[20]\n",
    "#    #'max_features': ['auto', 'sqrt'],\n",
    "#    #'min_samples_leaf': [1, 2, 4],\n",
    "#    #'min_samples_split': [2, 5, 10],\n",
    "#     'n_neighbors': [3,5,7,11,19,49],\n",
    "#     'metric': ['euclidean' , 'manhattan']\n",
    "#     }\n",
    "\n",
    "# gsKNC = GridSearchCV(KNC,param_grid =knc_param_grid, cv=kfold, scoring=\"f1\", n_jobs= 4, verbose = 1)\n",
    "\n",
    "# gsKNC.fit(X_train,Y_train)\n",
    "\n",
    "# KNC_best = gsKNC.best_estimator_\n",
    "\n",
    "# # Best score\n",
    "# gsKNC.best_score_"
   ]
  },
  {
   "cell_type": "code",
   "execution_count": null,
   "metadata": {},
   "outputs": [],
   "source": [
    "# KNC_best"
   ]
  },
  {
   "cell_type": "code",
   "execution_count": null,
   "metadata": {},
   "outputs": [],
   "source": [
    "GBC = GradientBoostingClassifier()\n",
    "gbc_param_grid = {\n",
    "    #\"loss\":[\"deviance\"],\n",
    "    \"learning_rate\": [0.05, 0.1, 1.5], #[0.1] #[0.1]\n",
    "    #\"min_samples_split\": np.linspace(0.1, 0.5, 4),\n",
    "    #\"min_samples_leaf\": np.linspace(0.1, 0.5, 4),\n",
    "    \"max_depth\":[6,8,10], #[5] #[4]\n",
    "    #\"max_features\":[\"log2\",\"sqrt\"],\n",
    "    #\"criterion\": [\"friedman_mse\", \"mae\"],\n",
    "    #\"subsample\":[0.5, 0.8, 0.9, 1.0],\n",
    "    \"n_estimators\":[50, 100, 150] #[100] #[200]\n",
    "    }\n",
    "\n",
    "gsGBC = GridSearchCV(GBC,param_grid =gbc_param_grid, cv=kfold, scoring=\"f1\", n_jobs= 4, verbose = 1)\n",
    "\n",
    "gsGBC.fit(X_train,Y_train)\n",
    "\n",
    "GBC_best = gsGBC.best_estimator_\n",
    "\n",
    "# Best score\n",
    "gsGBC.best_score_"
   ]
  },
  {
   "cell_type": "code",
   "execution_count": null,
   "metadata": {},
   "outputs": [],
   "source": [
    "GBC_best "
   ]
  },
  {
   "cell_type": "code",
   "execution_count": null,
   "metadata": {},
   "outputs": [],
   "source": [
    "MLPC = MLPClassifier()\n",
    "mlpc_param_grid = {\n",
    "#     #\"loss\":[\"deviance\"],\n",
    "#     \"learning_rate\": [0.05, 0.1, 0.2], #[0.1] #[0.1]\n",
    "#     #\"min_samples_split\": np.linspace(0.1, 0.5, 4),\n",
    "#     #\"min_samples_leaf\": np.linspace(0.1, 0.5, 4),\n",
    "#     \"max_depth\":[4 , 5, 6], #[5] #[4]\n",
    "#     #\"max_features\":[\"log2\",\"sqrt\"],\n",
    "#     #\"criterion\": [\"friedman_mse\", \"mae\"],\n",
    "#     #\"subsample\":[0.5, 0.8, 0.9, 1.0],\n",
    "#     \"n_estimators\":[100, 200, 300] #[100] #[200]\n",
    "    'hidden_layer_sizes': [(50,50,50), (50,100,50), (100,)],\n",
    "    'activation': ['tanh', 'relu','logistic'],\n",
    "    'solver': ['sgd', 'adam'],\n",
    "    'alpha': [0.0001, 0.05],\n",
    "    'learning_rate': ['constant','adaptive'],\n",
    "    }\n",
    "\n",
    "gsMLPC = GridSearchCV(MLPC,param_grid =mlpc_param_grid, cv=kfold, scoring=\"f1\", n_jobs= 4, verbose = 1)\n",
    "\n",
    "gsMLPC.fit(X_train,Y_train)\n",
    "\n",
    "MLPC_best = gsMLPC.best_estimator_\n",
    "\n",
    "# Best score\n",
    "gsMLPC.best_score_\n"
   ]
  },
  {
   "cell_type": "code",
   "execution_count": null,
   "metadata": {},
   "outputs": [],
   "source": [
    "MLPC_best"
   ]
  },
  {
   "cell_type": "code",
   "execution_count": null,
   "metadata": {},
   "outputs": [],
   "source": [
    "best_data = [ [ 'RandomForestClassifier',gsRFC.best_score_], ['ExtraTrees',gsETC.best_score_], ['GradientBoosing',gsGBC.best_score_], ['XGB',gsXGBC.best_score_], ['MLPC',gsMLPC.best_score_]]\n",
    "cv_best_algo_df = pd.DataFrame(best_data, columns = ['Algo', 'Best Score'])\n",
    "cv_best_algo_df"
   ]
  },
  {
   "cell_type": "markdown",
   "metadata": {},
   "source": [
    "# Getting Output"
   ]
  },
  {
   "cell_type": "code",
   "execution_count": null,
   "metadata": {},
   "outputs": [],
   "source": [
    "votingC = VotingClassifier(estimators=[('xgbc', XGBC_best), ('rfc', RFC_best), ('mlp', MLPC_best)], voting='soft', n_jobs=4)\n",
    "\n",
    "votingC = votingC.fit(X_train, Y_train)"
   ]
  },
  {
   "cell_type": "code",
   "execution_count": 1594,
   "metadata": {},
   "outputs": [],
   "source": [
    "test_df = pd.read_csv(\"/kaggle/input/fare-dataset/test.csv\", index_col=\"tripid\")"
   ]
  },
  {
   "cell_type": "code",
   "execution_count": 1595,
   "metadata": {},
   "outputs": [],
   "source": [
    "test_df[\"pickup\"] = pd.to_datetime(test_df[\"pickup_time\"])\n",
    "test_df[\"drop\"] = pd.to_datetime(test_df[\"drop_time\"])\n",
    "test_df ['difference'] = test_df[\"drop\"] - test_df[\"pickup\"]\n",
    "test_df ['difference'] = test_df ['difference']/np.timedelta64(1,'s')\n",
    "test_df['duration'] = np.where(abs(test_df['duration']-test_df['difference']) > 120, test_df['difference'], test_df['duration'])\n",
    "test_df[\"travel_time\"] = test_df[\"duration\"] - test_df[\"meter_waiting\"]\n",
    "\n",
    "#test_df = test_df.drop(['pickup_time','drop_time','pickup','drop','difference'],axis='columns')\n",
    "# # test_df['duration'] = test_df['duration'].fillna(test_df ['difference'])\n",
    "# test_df.info()\n",
    "# test_df.head()\n",
    "\n",
    "# # new_df = train_df[\"pickup_time\"]-train_df[\"drop_time\"]\n",
    "# # train_df.info()\n",
    "# # train_df.head()\n",
    "# test_df.isnull().sum()\n",
    "# test_df.head()"
   ]
  },
  {
   "cell_type": "code",
   "execution_count": 1596,
   "metadata": {},
   "outputs": [
    {
     "data": {
      "text/html": [
       "<div>\n",
       "<style scoped>\n",
       "    .dataframe tbody tr th:only-of-type {\n",
       "        vertical-align: middle;\n",
       "    }\n",
       "\n",
       "    .dataframe tbody tr th {\n",
       "        vertical-align: top;\n",
       "    }\n",
       "\n",
       "    .dataframe thead th {\n",
       "        text-align: right;\n",
       "    }\n",
       "</style>\n",
       "<table border=\"1\" class=\"dataframe\">\n",
       "  <thead>\n",
       "    <tr style=\"text-align: right;\">\n",
       "      <th></th>\n",
       "      <th>additional_fare</th>\n",
       "      <th>duration</th>\n",
       "      <th>meter_waiting</th>\n",
       "      <th>meter_waiting_fare</th>\n",
       "      <th>meter_waiting_till_pickup</th>\n",
       "      <th>pickup_time</th>\n",
       "      <th>drop_time</th>\n",
       "      <th>pick_lat</th>\n",
       "      <th>pick_lon</th>\n",
       "      <th>drop_lat</th>\n",
       "      <th>drop_lon</th>\n",
       "      <th>fare</th>\n",
       "      <th>pickup</th>\n",
       "      <th>drop</th>\n",
       "      <th>difference</th>\n",
       "      <th>travel_time</th>\n",
       "    </tr>\n",
       "    <tr>\n",
       "      <th>tripid</th>\n",
       "      <th></th>\n",
       "      <th></th>\n",
       "      <th></th>\n",
       "      <th></th>\n",
       "      <th></th>\n",
       "      <th></th>\n",
       "      <th></th>\n",
       "      <th></th>\n",
       "      <th></th>\n",
       "      <th></th>\n",
       "      <th></th>\n",
       "      <th></th>\n",
       "      <th></th>\n",
       "      <th></th>\n",
       "      <th></th>\n",
       "      <th></th>\n",
       "    </tr>\n",
       "  </thead>\n",
       "  <tbody>\n",
       "    <tr>\n",
       "      <th>215816371</th>\n",
       "      <td>10.5</td>\n",
       "      <td>38.0</td>\n",
       "      <td>38</td>\n",
       "      <td>0.0000</td>\n",
       "      <td>86</td>\n",
       "      <td>2/13/2020 8:05</td>\n",
       "      <td>2/13/2020 8:06</td>\n",
       "      <td>7.20654</td>\n",
       "      <td>79.8414</td>\n",
       "      <td>7.20707</td>\n",
       "      <td>79.8412</td>\n",
       "      <td>60.50</td>\n",
       "      <td>2020-02-13 08:05:00</td>\n",
       "      <td>2020-02-13 08:06:00</td>\n",
       "      <td>60.0</td>\n",
       "      <td>0.0</td>\n",
       "    </tr>\n",
       "    <tr>\n",
       "      <th>216475957</th>\n",
       "      <td>10.5</td>\n",
       "      <td>64.0</td>\n",
       "      <td>64</td>\n",
       "      <td>0.0000</td>\n",
       "      <td>35</td>\n",
       "      <td>2/15/2020 17:11</td>\n",
       "      <td>2/15/2020 17:12</td>\n",
       "      <td>7.02286</td>\n",
       "      <td>79.9206</td>\n",
       "      <td>7.02283</td>\n",
       "      <td>79.9208</td>\n",
       "      <td>446.14</td>\n",
       "      <td>2020-02-15 17:11:00</td>\n",
       "      <td>2020-02-15 17:12:00</td>\n",
       "      <td>60.0</td>\n",
       "      <td>0.0</td>\n",
       "    </tr>\n",
       "    <tr>\n",
       "      <th>217688120</th>\n",
       "      <td>10.5</td>\n",
       "      <td>38.0</td>\n",
       "      <td>38</td>\n",
       "      <td>0.0000</td>\n",
       "      <td>161</td>\n",
       "      <td>2/21/2020 16:25</td>\n",
       "      <td>2/21/2020 16:26</td>\n",
       "      <td>7.50634</td>\n",
       "      <td>80.6211</td>\n",
       "      <td>7.47547</td>\n",
       "      <td>80.6238</td>\n",
       "      <td>70.50</td>\n",
       "      <td>2020-02-21 16:25:00</td>\n",
       "      <td>2020-02-21 16:26:00</td>\n",
       "      <td>60.0</td>\n",
       "      <td>0.0</td>\n",
       "    </tr>\n",
       "    <tr>\n",
       "      <th>218051820</th>\n",
       "      <td>10.5</td>\n",
       "      <td>39.0</td>\n",
       "      <td>39</td>\n",
       "      <td>0.0000</td>\n",
       "      <td>156</td>\n",
       "      <td>2/23/2020 21:38</td>\n",
       "      <td>2/23/2020 21:39</td>\n",
       "      <td>6.91174</td>\n",
       "      <td>79.8631</td>\n",
       "      <td>6.82287</td>\n",
       "      <td>79.9362</td>\n",
       "      <td>544.91</td>\n",
       "      <td>2020-02-23 21:38:00</td>\n",
       "      <td>2020-02-23 21:39:00</td>\n",
       "      <td>60.0</td>\n",
       "      <td>0.0</td>\n",
       "    </tr>\n",
       "    <tr>\n",
       "      <th>218668609</th>\n",
       "      <td>10.5</td>\n",
       "      <td>892.0</td>\n",
       "      <td>892</td>\n",
       "      <td>0.0000</td>\n",
       "      <td>657</td>\n",
       "      <td>2/26/2020 17:39</td>\n",
       "      <td>2/26/2020 17:54</td>\n",
       "      <td>7.29161</td>\n",
       "      <td>80.6253</td>\n",
       "      <td>7.28891</td>\n",
       "      <td>80.6300</td>\n",
       "      <td>70.50</td>\n",
       "      <td>2020-02-26 17:39:00</td>\n",
       "      <td>2020-02-26 17:54:00</td>\n",
       "      <td>900.0</td>\n",
       "      <td>0.0</td>\n",
       "    </tr>\n",
       "    <tr>\n",
       "      <th>219841449</th>\n",
       "      <td>5.0</td>\n",
       "      <td>425.0</td>\n",
       "      <td>425</td>\n",
       "      <td>24.7775</td>\n",
       "      <td>0</td>\n",
       "      <td>3/2/2020 16:44</td>\n",
       "      <td>3/2/2020 16:51</td>\n",
       "      <td>7.02816</td>\n",
       "      <td>79.9226</td>\n",
       "      <td>7.02816</td>\n",
       "      <td>79.9226</td>\n",
       "      <td>84.77</td>\n",
       "      <td>2020-03-02 16:44:00</td>\n",
       "      <td>2020-03-02 16:51:00</td>\n",
       "      <td>420.0</td>\n",
       "      <td>0.0</td>\n",
       "    </tr>\n",
       "    <tr>\n",
       "      <th>220568740</th>\n",
       "      <td>10.5</td>\n",
       "      <td>394.0</td>\n",
       "      <td>394</td>\n",
       "      <td>22.9702</td>\n",
       "      <td>109</td>\n",
       "      <td>3/5/2020 16:26</td>\n",
       "      <td>3/5/2020 16:33</td>\n",
       "      <td>7.29131</td>\n",
       "      <td>80.6233</td>\n",
       "      <td>7.29130</td>\n",
       "      <td>80.6233</td>\n",
       "      <td>93.35</td>\n",
       "      <td>2020-03-05 16:26:00</td>\n",
       "      <td>2020-03-05 16:33:00</td>\n",
       "      <td>420.0</td>\n",
       "      <td>0.0</td>\n",
       "    </tr>\n",
       "    <tr>\n",
       "      <th>221094967</th>\n",
       "      <td>10.5</td>\n",
       "      <td>55.0</td>\n",
       "      <td>55</td>\n",
       "      <td>0.0000</td>\n",
       "      <td>83</td>\n",
       "      <td>3/7/2020 12:21</td>\n",
       "      <td>3/7/2020 12:22</td>\n",
       "      <td>6.89796</td>\n",
       "      <td>79.8597</td>\n",
       "      <td>6.83088</td>\n",
       "      <td>79.8736</td>\n",
       "      <td>308.98</td>\n",
       "      <td>2020-03-07 12:21:00</td>\n",
       "      <td>2020-03-07 12:22:00</td>\n",
       "      <td>60.0</td>\n",
       "      <td>0.0</td>\n",
       "    </tr>\n",
       "  </tbody>\n",
       "</table>\n",
       "</div>"
      ],
      "text/plain": [
       "           additional_fare  duration  meter_waiting  meter_waiting_fare  \\\n",
       "tripid                                                                    \n",
       "215816371             10.5      38.0             38              0.0000   \n",
       "216475957             10.5      64.0             64              0.0000   \n",
       "217688120             10.5      38.0             38              0.0000   \n",
       "218051820             10.5      39.0             39              0.0000   \n",
       "218668609             10.5     892.0            892              0.0000   \n",
       "219841449              5.0     425.0            425             24.7775   \n",
       "220568740             10.5     394.0            394             22.9702   \n",
       "221094967             10.5      55.0             55              0.0000   \n",
       "\n",
       "           meter_waiting_till_pickup      pickup_time        drop_time  \\\n",
       "tripid                                                                   \n",
       "215816371                         86   2/13/2020 8:05   2/13/2020 8:06   \n",
       "216475957                         35  2/15/2020 17:11  2/15/2020 17:12   \n",
       "217688120                        161  2/21/2020 16:25  2/21/2020 16:26   \n",
       "218051820                        156  2/23/2020 21:38  2/23/2020 21:39   \n",
       "218668609                        657  2/26/2020 17:39  2/26/2020 17:54   \n",
       "219841449                          0   3/2/2020 16:44   3/2/2020 16:51   \n",
       "220568740                        109   3/5/2020 16:26   3/5/2020 16:33   \n",
       "221094967                         83   3/7/2020 12:21   3/7/2020 12:22   \n",
       "\n",
       "           pick_lat  pick_lon  drop_lat  drop_lon    fare              pickup  \\\n",
       "tripid                                                                          \n",
       "215816371   7.20654   79.8414   7.20707   79.8412   60.50 2020-02-13 08:05:00   \n",
       "216475957   7.02286   79.9206   7.02283   79.9208  446.14 2020-02-15 17:11:00   \n",
       "217688120   7.50634   80.6211   7.47547   80.6238   70.50 2020-02-21 16:25:00   \n",
       "218051820   6.91174   79.8631   6.82287   79.9362  544.91 2020-02-23 21:38:00   \n",
       "218668609   7.29161   80.6253   7.28891   80.6300   70.50 2020-02-26 17:39:00   \n",
       "219841449   7.02816   79.9226   7.02816   79.9226   84.77 2020-03-02 16:44:00   \n",
       "220568740   7.29131   80.6233   7.29130   80.6233   93.35 2020-03-05 16:26:00   \n",
       "221094967   6.89796   79.8597   6.83088   79.8736  308.98 2020-03-07 12:21:00   \n",
       "\n",
       "                         drop  difference  travel_time  \n",
       "tripid                                                  \n",
       "215816371 2020-02-13 08:06:00        60.0          0.0  \n",
       "216475957 2020-02-15 17:12:00        60.0          0.0  \n",
       "217688120 2020-02-21 16:26:00        60.0          0.0  \n",
       "218051820 2020-02-23 21:39:00        60.0          0.0  \n",
       "218668609 2020-02-26 17:54:00       900.0          0.0  \n",
       "219841449 2020-03-02 16:51:00       420.0          0.0  \n",
       "220568740 2020-03-05 16:33:00       420.0          0.0  \n",
       "221094967 2020-03-07 12:22:00        60.0          0.0  "
      ]
     },
     "execution_count": 1596,
     "metadata": {},
     "output_type": "execute_result"
    }
   ],
   "source": [
    "test_df[test_df.travel_time<1]"
   ]
  },
  {
   "cell_type": "code",
   "execution_count": 1598,
   "metadata": {},
   "outputs": [
    {
     "data": {
      "text/plain": [
       "additional_fare              0\n",
       "duration                     0\n",
       "meter_waiting                0\n",
       "meter_waiting_fare           0\n",
       "meter_waiting_till_pickup    0\n",
       "fare                         0\n",
       "travel_time                  0\n",
       "euc_distance                 0\n",
       "dtype: int64"
      ]
     },
     "execution_count": 1598,
     "metadata": {},
     "output_type": "execute_result"
    }
   ],
   "source": [
    "test_df['lat_change'] = abs(test_df['pick_lat']- test_df['drop_lat'])\n",
    "test_df['lon_change'] = abs(test_df['pick_lon']- test_df['drop_lon'])\n",
    "test_df['euc_distance'] = np.sqrt((test_df['lat_change']**2) + (test_df['lon_change']**2))\n",
    "\n",
    "#test_df[\"travel_time\"] = test_df[\"duration\"] - test_df[\"meter_waiting\"]\n",
    "test_df.head()\n",
    "\n",
    "test_df2 = test_df.drop(['pickup_time','drop_time','pickup','drop','difference','pick_lat','pick_lon','drop_lat','drop_lon','lat_change','lon_change'],axis='columns')\n",
    "#test_df2 = test_df.drop(['pickup_time','drop_time','pick_lat','drop_lat','pick_lon','drop_lon'],axis='columns')\n",
    "#test_df2 = test_df.drop(['pickup_time','drop_time','pick_lat','pick_lon','drop_lat','drop_lon','lat_change','lon_change','meter_waiting'],axis='columns')\n",
    "#test_df2 = test_df.drop(['pickup_time','drop_time','pick_lat','pick_lon','drop_lat','drop_lon','lat_change','lon_change','meter_waiting_fare'],axis='columns')\n",
    "\n",
    "test_df2.isnull().sum()"
   ]
  },
  {
   "cell_type": "code",
   "execution_count": 1599,
   "metadata": {},
   "outputs": [
    {
     "data": {
      "text/html": [
       "<div>\n",
       "<style scoped>\n",
       "    .dataframe tbody tr th:only-of-type {\n",
       "        vertical-align: middle;\n",
       "    }\n",
       "\n",
       "    .dataframe tbody tr th {\n",
       "        vertical-align: top;\n",
       "    }\n",
       "\n",
       "    .dataframe thead th {\n",
       "        text-align: right;\n",
       "    }\n",
       "</style>\n",
       "<table border=\"1\" class=\"dataframe\">\n",
       "  <thead>\n",
       "    <tr style=\"text-align: right;\">\n",
       "      <th></th>\n",
       "      <th>additional_fare</th>\n",
       "      <th>duration</th>\n",
       "      <th>meter_waiting</th>\n",
       "      <th>meter_waiting_fare</th>\n",
       "      <th>meter_waiting_till_pickup</th>\n",
       "      <th>pickup_time</th>\n",
       "      <th>drop_time</th>\n",
       "      <th>pick_lat</th>\n",
       "      <th>pick_lon</th>\n",
       "      <th>drop_lat</th>\n",
       "      <th>drop_lon</th>\n",
       "      <th>fare</th>\n",
       "      <th>pickup</th>\n",
       "      <th>drop</th>\n",
       "      <th>difference</th>\n",
       "      <th>travel_time</th>\n",
       "      <th>lat_change</th>\n",
       "      <th>lon_change</th>\n",
       "      <th>euc_distance</th>\n",
       "    </tr>\n",
       "    <tr>\n",
       "      <th>tripid</th>\n",
       "      <th></th>\n",
       "      <th></th>\n",
       "      <th></th>\n",
       "      <th></th>\n",
       "      <th></th>\n",
       "      <th></th>\n",
       "      <th></th>\n",
       "      <th></th>\n",
       "      <th></th>\n",
       "      <th></th>\n",
       "      <th></th>\n",
       "      <th></th>\n",
       "      <th></th>\n",
       "      <th></th>\n",
       "      <th></th>\n",
       "      <th></th>\n",
       "      <th></th>\n",
       "      <th></th>\n",
       "      <th></th>\n",
       "    </tr>\n",
       "  </thead>\n",
       "  <tbody>\n",
       "  </tbody>\n",
       "</table>\n",
       "</div>"
      ],
      "text/plain": [
       "Empty DataFrame\n",
       "Columns: [additional_fare, duration, meter_waiting, meter_waiting_fare, meter_waiting_till_pickup, pickup_time, drop_time, pick_lat, pick_lon, drop_lat, drop_lon, fare, pickup, drop, difference, travel_time, lat_change, lon_change, euc_distance]\n",
       "Index: []"
      ]
     },
     "execution_count": 1599,
     "metadata": {},
     "output_type": "execute_result"
    }
   ],
   "source": [
    "test_df[test_df.duration<1]"
   ]
  },
  {
   "cell_type": "code",
   "execution_count": 1600,
   "metadata": {},
   "outputs": [
    {
     "data": {
      "text/html": [
       "<div>\n",
       "<style scoped>\n",
       "    .dataframe tbody tr th:only-of-type {\n",
       "        vertical-align: middle;\n",
       "    }\n",
       "\n",
       "    .dataframe tbody tr th {\n",
       "        vertical-align: top;\n",
       "    }\n",
       "\n",
       "    .dataframe thead th {\n",
       "        text-align: right;\n",
       "    }\n",
       "</style>\n",
       "<table border=\"1\" class=\"dataframe\">\n",
       "  <thead>\n",
       "    <tr style=\"text-align: right;\">\n",
       "      <th></th>\n",
       "      <th>additional_fare</th>\n",
       "      <th>duration</th>\n",
       "      <th>meter_waiting</th>\n",
       "      <th>meter_waiting_fare</th>\n",
       "      <th>meter_waiting_till_pickup</th>\n",
       "      <th>fare</th>\n",
       "      <th>travel_time</th>\n",
       "      <th>euc_distance</th>\n",
       "    </tr>\n",
       "  </thead>\n",
       "  <tbody>\n",
       "    <tr>\n",
       "      <th>count</th>\n",
       "      <td>8576.000000</td>\n",
       "      <td>8576.000000</td>\n",
       "      <td>8576.000000</td>\n",
       "      <td>8576.000000</td>\n",
       "      <td>8576.000000</td>\n",
       "      <td>8576.000000</td>\n",
       "      <td>8576.000000</td>\n",
       "      <td>8576.000000</td>\n",
       "    </tr>\n",
       "    <tr>\n",
       "      <th>mean</th>\n",
       "      <td>11.088095</td>\n",
       "      <td>1541.849347</td>\n",
       "      <td>508.502099</td>\n",
       "      <td>24.671655</td>\n",
       "      <td>119.863106</td>\n",
       "      <td>293.278057</td>\n",
       "      <td>1033.347248</td>\n",
       "      <td>0.039963</td>\n",
       "    </tr>\n",
       "    <tr>\n",
       "      <th>std</th>\n",
       "      <td>5.359602</td>\n",
       "      <td>5952.439797</td>\n",
       "      <td>5784.005855</td>\n",
       "      <td>333.515641</td>\n",
       "      <td>793.233190</td>\n",
       "      <td>436.730282</td>\n",
       "      <td>998.044944</td>\n",
       "      <td>0.038596</td>\n",
       "    </tr>\n",
       "    <tr>\n",
       "      <th>min</th>\n",
       "      <td>0.000000</td>\n",
       "      <td>24.000000</td>\n",
       "      <td>0.000000</td>\n",
       "      <td>0.000000</td>\n",
       "      <td>0.000000</td>\n",
       "      <td>0.000000</td>\n",
       "      <td>0.000000</td>\n",
       "      <td>0.000000</td>\n",
       "    </tr>\n",
       "    <tr>\n",
       "      <th>25%</th>\n",
       "      <td>10.500000</td>\n",
       "      <td>540.000000</td>\n",
       "      <td>30.000000</td>\n",
       "      <td>0.000000</td>\n",
       "      <td>26.000000</td>\n",
       "      <td>126.077500</td>\n",
       "      <td>447.000000</td>\n",
       "      <td>0.014029</td>\n",
       "    </tr>\n",
       "    <tr>\n",
       "      <th>50%</th>\n",
       "      <td>10.500000</td>\n",
       "      <td>983.000000</td>\n",
       "      <td>116.000000</td>\n",
       "      <td>0.000000</td>\n",
       "      <td>72.000000</td>\n",
       "      <td>203.950000</td>\n",
       "      <td>787.000000</td>\n",
       "      <td>0.029098</td>\n",
       "    </tr>\n",
       "    <tr>\n",
       "      <th>75%</th>\n",
       "      <td>10.500000</td>\n",
       "      <td>1723.000000</td>\n",
       "      <td>336.250000</td>\n",
       "      <td>11.744200</td>\n",
       "      <td>138.000000</td>\n",
       "      <td>344.075000</td>\n",
       "      <td>1343.250000</td>\n",
       "      <td>0.054315</td>\n",
       "    </tr>\n",
       "    <tr>\n",
       "      <th>max</th>\n",
       "      <td>160.500000</td>\n",
       "      <td>447230.000000</td>\n",
       "      <td>446934.000000</td>\n",
       "      <td>25760.361800</td>\n",
       "      <td>55571.000000</td>\n",
       "      <td>26844.330000</td>\n",
       "      <td>26601.000000</td>\n",
       "      <td>0.467416</td>\n",
       "    </tr>\n",
       "  </tbody>\n",
       "</table>\n",
       "</div>"
      ],
      "text/plain": [
       "       additional_fare       duration  meter_waiting  meter_waiting_fare  \\\n",
       "count      8576.000000    8576.000000    8576.000000         8576.000000   \n",
       "mean         11.088095    1541.849347     508.502099           24.671655   \n",
       "std           5.359602    5952.439797    5784.005855          333.515641   \n",
       "min           0.000000      24.000000       0.000000            0.000000   \n",
       "25%          10.500000     540.000000      30.000000            0.000000   \n",
       "50%          10.500000     983.000000     116.000000            0.000000   \n",
       "75%          10.500000    1723.000000     336.250000           11.744200   \n",
       "max         160.500000  447230.000000  446934.000000        25760.361800   \n",
       "\n",
       "       meter_waiting_till_pickup          fare   travel_time  euc_distance  \n",
       "count                8576.000000   8576.000000   8576.000000   8576.000000  \n",
       "mean                  119.863106    293.278057   1033.347248      0.039963  \n",
       "std                   793.233190    436.730282    998.044944      0.038596  \n",
       "min                     0.000000      0.000000      0.000000      0.000000  \n",
       "25%                    26.000000    126.077500    447.000000      0.014029  \n",
       "50%                    72.000000    203.950000    787.000000      0.029098  \n",
       "75%                   138.000000    344.075000   1343.250000      0.054315  \n",
       "max                 55571.000000  26844.330000  26601.000000      0.467416  "
      ]
     },
     "execution_count": 1600,
     "metadata": {},
     "output_type": "execute_result"
    }
   ],
   "source": [
    "test_df2.describe()"
   ]
  },
  {
   "cell_type": "code",
   "execution_count": 1601,
   "metadata": {},
   "outputs": [],
   "source": [
    "test = scaler.transform(test_df2)"
   ]
  },
  {
   "cell_type": "code",
   "execution_count": null,
   "metadata": {},
   "outputs": [],
   "source": [
    "#XGBC_best = XGBClassifier().fit(X_train , Y_train)"
   ]
  },
  {
   "cell_type": "code",
   "execution_count": 1602,
   "metadata": {},
   "outputs": [],
   "source": [
    "#a = votingC.predict(test) #GBC_best.predict_proba(test)\n",
    "a = XGBC_best.predict(test)\n",
    "test_df2['prediction'] = a "
   ]
  },
  {
   "cell_type": "code",
   "execution_count": 1603,
   "metadata": {},
   "outputs": [
    {
     "data": {
      "text/plain": [
       "1    8178\n",
       "0     398\n",
       "Name: prediction, dtype: int64"
      ]
     },
     "execution_count": 1603,
     "metadata": {},
     "output_type": "execute_result"
    }
   ],
   "source": [
    "test_df2['prediction'].value_counts()"
   ]
  },
  {
   "cell_type": "code",
   "execution_count": 1604,
   "metadata": {},
   "outputs": [
    {
     "name": "stdout",
     "output_type": "stream",
     "text": [
      "<class 'pandas.core.frame.DataFrame'>\n",
      "Int64Index: 8576 entries, 213284604 to 222860703\n",
      "Data columns (total 1 columns):\n",
      " #   Column      Non-Null Count  Dtype\n",
      "---  ------      --------------  -----\n",
      " 0   prediction  8576 non-null   int64\n",
      "dtypes: int64(1)\n",
      "memory usage: 134.0 KB\n"
     ]
    }
   ],
   "source": [
    "#output_df = test_df2.drop(['additional_fare','duration','meter_waiting','meter_waiting_fare','meter_waiting_till_pickup','fare','lat_change','lon_change'],axis='columns')\n",
    "# output_df = test_df2['prediction']\n",
    "output_df = test_df2.drop(['additional_fare','duration','meter_waiting_till_pickup','fare','euc_distance','meter_waiting','meter_waiting_fare','travel_time'],axis='columns')\n",
    "\n",
    "output_df.head()\n",
    "output_df.info()"
   ]
  },
  {
   "cell_type": "code",
   "execution_count": null,
   "metadata": {},
   "outputs": [],
   "source": [
    "output_df.prediction.describe()"
   ]
  },
  {
   "cell_type": "code",
   "execution_count": null,
   "metadata": {},
   "outputs": [],
   "source": [
    "output_df.to_csv('submission_20.csv', index=True)"
   ]
  }
 ],
 "metadata": {
  "kernelspec": {
   "display_name": "Python 3",
   "language": "python",
   "name": "python3"
  },
  "language_info": {
   "codemirror_mode": {
    "name": "ipython",
    "version": 3
   },
   "file_extension": ".py",
   "mimetype": "text/x-python",
   "name": "python",
   "nbconvert_exporter": "python",
   "pygments_lexer": "ipython3",
   "version": "3.7.3"
  }
 },
 "nbformat": 4,
 "nbformat_minor": 4
}
